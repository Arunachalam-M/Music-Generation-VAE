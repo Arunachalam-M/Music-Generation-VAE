{
 "cells": [
  {
   "cell_type": "code",
   "execution_count": 1,
   "metadata": {},
   "outputs": [],
   "source": [
    "from music21 import converter, instrument, note, chord, stream, midi, instrument\n",
    "from scipy import sparse\n",
    "import time\n",
    "import tqdm.auto\n",
    "import glob\n",
    "import numpy as np\n",
    "import pandas as pd\n",
    "import torch\n",
    "import torch.nn as nn\n",
    "import torch.optim as optim\n",
    "import math"
   ]
  },
  {
   "cell_type": "code",
   "execution_count": 2,
   "metadata": {},
   "outputs": [],
   "source": [
    "def DataToStream(data_mat, time_signature = 0.25):\n",
    "    melody_stream = stream.Stream()\n",
    "    melody_stream.append(instrument.Piano())\n",
    "    t,k = data_mat.shape\n",
    "    old_element = None\n",
    "    counter = 1\n",
    "    for i in range(t):\n",
    "        arr = data_mat[i,:]\n",
    "        r = np.int(np.sum(arr))\n",
    "        \n",
    "        if r == 1:\n",
    "            #print(np.argmax(arr))\n",
    "            new_element = note.Note(np.argmax(arr))\n",
    "        elif r > 1:\n",
    "            #print(arr)\n",
    "            arr = arr.todense()\n",
    "            #print(np.where(arr == 1)[1])\n",
    "            pitches = np.where(arr == 1)[1]\n",
    "            all_notes = np.array([note.Note(i) for i in pitches])\n",
    "            new_element = chord.Chord(all_notes)\n",
    "        else:\n",
    "            #print(r)\n",
    "            new_element = note.Rest()\n",
    "        \n",
    "        if new_element == old_element and counter < 6:\n",
    "            counter += 1\n",
    "        else:\n",
    "            if old_element:\n",
    "                old_element.quarterLength = time_signature*counter\n",
    "                melody_stream.append(old_element)\n",
    "            counter = 1\n",
    "            \n",
    "        old_element = new_element\n",
    "            \n",
    "    return melody_stream"
   ]
  },
  {
   "cell_type": "code",
   "execution_count": 3,
   "metadata": {},
   "outputs": [],
   "source": [
    "classes = ['bach','backstreetboys','beatles','beethoven','brahms','britneyspears',\n",
    "             'chopin','coldplay','debussy','haydn','liszt','mendelssohn',\n",
    "            'mozart','nirvana','paganini','queen','rachmaninow','schubert',\n",
    "            'schumann','tchaikovsky']\n",
    "datasets = [folder + '_dataset.npz' for folder in classes]\n",
    "labels = np.arange(20)"
   ]
  },
  {
   "cell_type": "code",
   "execution_count": 4,
   "metadata": {},
   "outputs": [],
   "source": [
    "song_length = 1*60*6\n",
    "n_classes = len(classes)\n",
    "device = \"cuda:0\""
   ]
  },
  {
   "cell_type": "code",
   "execution_count": 5,
   "metadata": {},
   "outputs": [],
   "source": [
    "data = []\n",
    "for file in datasets:\n",
    "    d = []\n",
    "    subset = np.load(file,allow_pickle=True)\n",
    "    for item in subset.files:\n",
    "        d.append(subset[item])\n",
    "    data.append(d[0])\n",
    "    "
   ]
  },
  {
   "cell_type": "code",
   "execution_count": 6,
   "metadata": {},
   "outputs": [
    {
     "data": {
      "text/plain": [
       "20"
      ]
     },
     "execution_count": 6,
     "metadata": {},
     "output_type": "execute_result"
    }
   ],
   "source": [
    "len(data)"
   ]
  },
  {
   "cell_type": "code",
   "execution_count": 7,
   "metadata": {},
   "outputs": [
    {
     "data": {
      "text/plain": [
       "<509x128 sparse matrix of type '<class 'numpy.float64'>'\n",
       "\twith 735 stored elements in Compressed Sparse Row format>"
      ]
     },
     "execution_count": 7,
     "metadata": {},
     "output_type": "execute_result"
    }
   ],
   "source": [
    "data[19][5]"
   ]
  },
  {
   "cell_type": "code",
   "execution_count": 8,
   "metadata": {},
   "outputs": [],
   "source": [
    "def random_snippet(c):\n",
    "    n_songs = len(data[c])\n",
    "    song_no = np.random.randint(n_songs)\n",
    "    song = data[c][song_no]\n",
    "    L,D = song.shape\n",
    "    start_max = L-song_length\n",
    "    if start_max > 0:\n",
    "        song_start = np.random.randint(start_max)\n",
    "    else:\n",
    "        #print(c,song_no)\n",
    "        return random_snippet(c)\n",
    "    \n",
    "    return song[song_start:song_start+song_length,:]"
   ]
  },
  {
   "cell_type": "code",
   "execution_count": 9,
   "metadata": {},
   "outputs": [
    {
     "data": {
      "text/plain": [
       "<360x128 sparse matrix of type '<class 'numpy.float64'>'\n",
       "\twith 1222 stored elements in Compressed Sparse Row format>"
      ]
     },
     "execution_count": 9,
     "metadata": {},
     "output_type": "execute_result"
    }
   ],
   "source": [
    "random_snippet(3)"
   ]
  },
  {
   "cell_type": "code",
   "execution_count": 10,
   "metadata": {},
   "outputs": [],
   "source": [
    "def standard_batch():\n",
    "    batch = []\n",
    "    for i in range(n_classes):\n",
    "        snippet = random_snippet(i)\n",
    "        batch.append(snippet)\n",
    "    return batch"
   ]
  },
  {
   "cell_type": "code",
   "execution_count": 11,
   "metadata": {},
   "outputs": [],
   "source": [
    "batch1 = standard_batch()"
   ]
  },
  {
   "cell_type": "code",
   "execution_count": 12,
   "metadata": {},
   "outputs": [],
   "source": [
    "stream1 = DataToStream(batch1[19], time_signature = 0.25)"
   ]
  },
  {
   "cell_type": "code",
   "execution_count": 14,
   "metadata": {},
   "outputs": [
    {
     "data": {
      "text/html": [
       "\n",
       "                <div id='midiPlayerDiv3959'></div>\n",
       "                <link rel=\"stylesheet\" href=\"//cuthbertLab.github.io/music21j/css/m21.css\"\n",
       "                    type=\"text/css\" />\n",
       "                <script>\n",
       "                require.config({\n",
       "                    paths: {'music21': '//cuthbertLab.github.io/music21j/src/music21'}\n",
       "                });\n",
       "                require(['music21'], function() {\n",
       "                               mp = new music21.miditools.MidiPlayer();\n",
       "                               mp.addPlayer('#midiPlayerDiv3959');\n",
       "                               mp.base64Load('data:audio/midi;base64,TVRoZAAAAAYAAQABBABNVHJrAAAVrgD/AwVQaWFubwDAAADgAEAAwACKAJA/WgCQQ1oAkEhaggCAPwAAgEMAAIBIAIIAkCFaAJAtWgCQQFoAkENaAJBIWoIAgCEAAIAtAACAQAAAgEMAAIBIAIIAkD1aAJBBWgCQRlqCAIA9AACAQQAAgEYAggCQJloAkDJaAJA+WgCQQVoAkEZaggCAJgAAgDIAAIA+AACAQQAAgEYAggCQPFoAkEBaAJBFWoIAgDwAAIBAAACARQCCAJAoWgCQNFoAkD1aAJBAWgCQRVqCAIAoAACANAAAgD0AAIBAAACARQCCAJA8WgCQQFoAkEVaAJBMWoIAgDwAAIBAAACARQAAgEwAggCQLVoAkDlaAJA9WgCQQFoAkEVaggCALQAAgDkAAIA9AACAQAAAgEUAggCQPFoAkEBaAJBFWoIAgDwAAIBAAACARQCCAJAtWgCQOVoAkD1aAJBAWgCQRVqCAIAtAACAOQAAgD0AAIBAAACARQCCAJA8WgCQQFoAkEVaggCAPAAAgEAAAIBFAIIAkCtaAJA3WgCQPVoAkEBaAJBFWoIAgCsAAIA3AACAPQAAgEAAAIBFAIIAkD1aAJBBWgCQRlqCAIA9AACAQQAAgEYAggCQKVoAkDVaAJA+WgCQQVoAkEZaggCAKQAAgDUAAIA+AACAQQAAgEYAggCQPVoAkEFaAJBGWoIAgD0AAIBBAACARgCCAJAmWgCQMloAkD5aAJBBWgCQRlqCAIAmAACAMgAAgD4AAIBBAACARgCCAJA/WgCQQ1oAkEhaggCAPwAAgEMAAIBIAIIAkCFaAJAtWgCQQFoAkENaAJBIWoIAgCEAAIAtAACAQAAAgEMAAIBIAIIAkD1aAJBBWgCQRlqCAIA9AACAQQAAgEYAggCQJloAkDJaAJA+WgCQQVoAkEZaggCAJgAAgDIAAIA+AACAQQAAgEYAggCQPFoAkEBaAJBFWoIAgDwAAIBAAACARQCCAJAoWgCQNFoAkD1aAJBAWgCQRVqCAIAoAACANAAAgD0AAIBAAACARQCCAJA8WgCQQFoAkEVaAJBMWoIAgDwAAIBAAACARQAAgEwAggCQLVoAkDlaAJA9WgCQQFoAkEVaggCALQAAgDkAAIA9AACAQAAAgEUAggCQMVoAkD1aggCAMQAAgD0AggCQMloAkD5aAJBDWgCQRloAkE9aggCAMgAAgD4AAIBDAACARgAAgE8AggCQMVoAkD1aggCAMQAAgD0AggCQMloAkD5aAJBDWgCQRlqCAIAyAACAPgAAgEMAAIBGAIIAkDNaAJA/WoIAgDMAAIA/AIIAkDRaAJBAWgCQQ1oAkEZaAJBIWoIAgDQAAIBAAACAQwAAgEYAAIBIAIIAkDNaAJA/WoIAgDMAAIA/AIIAkDRaAJA3WgCQOloAkDxaAJBAWoIAgDQAAIA3AACAOgAAgDwAAIBAAIIAkDVaAJBBWoIAgDUAAIBBAIIAkDRaAJA1WgCQOVoAkEBaAJBBWoIAgDQAAIA1AACAOQAAgEAAAIBBAIIAkDJaAJA+WoIAgDIAAIA+AIIAkDBaAJA5WgCQPFoAkEFaAJBFWoIAgDAAAIA5AACAPAAAgEEAAIBFAIIAkC5aAJA6WoIAgC4AAIA6AIIAkC1aAJA5WgCQPFoAkEFaAJBIWoIAgC0AAIA5AACAPAAAgEEAAIBIAIIAkCtaAJA3WoIAgCsAAIA3AIIAkClaAJA1WgCQPFoAkEFaAJBFWgCQTVqCAIApAACANQAAgDwAAIBBAACARQAAgE0AggCQKFoAkDRaggCAKAAAgDQAggCQKVoAkDVaAJBGWgCQSloAkE9aggCAKQAAgDUAAIBGAACASgAAgE8AggCQKFoAkDRaggCAKAAAgDQAggCQKVoAkDVaAJA6WgCQPloAkENaggCAKQAAgDUAAIA6AACAPgAAgEMAggCQJloAkDJaggCAJgAAgDIAggCQKFoAkDRaAJBDWgCQRloAkEhaggCAKAAAgDQAAIBDAACARgAAgEgAggCQJloAkDJaggCAJgAAgDIAggCQKFoAkDRaAJA3WgCQOloAkDxaggCAKAAAgDQAAIA3AACAOgAAgDwAggCQKVoAkDVaggCAKQAAgDUAggCQKFoAkDRaAJA5WgCQPFoAkEVaggCAKAAAgDQAAIA5AACAPAAAgEUAggCQJloAkDJaggCAJgAAgDIAggCQJFoAkDBaAJA5WgCQQVoAkEhaggCAJAAAgDAAAIA5AACAQQAAgEgAggCQIloAkC5aggCAIgAAgC4AggCQIVoAkC1aAJA8WgCQQVoAkEhaAJBNWoIAgCEAAIAtAACAPAAAgEEAAIBIAACATQCCAJAfWgCQK1qCAIAfAACAKwCCAJAdWgCQKVoAkDxaAJBFWgCQSFoAkFFaggCAHQAAgCkAAIA8AACARQAAgEgAAIBRAIIAkBxaAJAoWoIAgBwAAIAoAIIAkB1aAJBHWgCQSloAkFFaggCAHQAAgEcAAIBKAACAUQCCAJAcWgCQR1oAkEpaAJBQWoIAgBwAAIBHAACASgAAgFAAggCQHVoAkDtaAJA+WgCQRFqCAIAdAACAOwAAgD4AAIBEAIIAkBxaggCAHACCAJAdWgCQO1oAkD5aAJBFWoIAgB0AAIA7AACAPgAAgEUAggCQHFoAkDtaAJA+WgCQRFqCAIAcAACAOwAAgD4AAIBEAIIAkB1aAJAvWgCQMloAkDhaggCAHQAAgC8AAIAyAACAOACCAJAcWoIAgBwAggCQHVoAkDtaAJA+WgCQRFoAkEdaggCAHQAAgDsAAIA+AACARAAAgEcAggCQHFoAkDlaAJA8WgCQRVoAkEhaggCAHAAAgDkAAIA8AACARQAAgEgAggCQHVoAkDhaAJA7WgCQR1oAkEpaggCAHQAAgDgAAIA7AACARwAAgEoAggCQHFoAkDZaAJA5WgCQSFoAkExaggCAHAAAgDYAAIA5AACASAAAgEwAggCQHVoAkDhaAJA7WgCQR1oAkEpaggCAHQAAgDgAAIA7AACARwAAgEoAggCQHFoAkDlaAJA8WgCQRVoAkEhaggCAHAAAgDkAAIA8AACARQAAgEgAggCQHVoAkDtaAJA+WgCQRFoAkEdaggCAHQAAgDsAAIA+AACARAAAgEcAggCQHFqCAIAcAIIAkB1aAJBFWgCQSFoAkFFaAJBUWoIAgB0AAIBFAACASAAAgFEAAIBUAIIAkBxaAJA8WgCQRVoAkEhaAJBRWoIAgBwAAIA8AACARQAAgEgAAIBRAIIAkB1aAJA8WgCQP1oAkEhaAJBLWoIAgB0AAIA8AACAPwAAgEgAAIBLAIIAkBxaggCAHACCAJAdWgCQOVoAkDxaAJBFWgCQSFqCAIAdAACAOQAAgDwAAIBFAACASACCAJAcWgCQMFoAkDlaAJA8WgCQRVqCAIAcAACAMAAAgDkAAIA8AACARQCCAJAdWgCQMFoAkDNaAJA8WgCQP1qCAIAdAACAMAAAgDMAAIA8AACAPwCCAJAcWoIAgBwAggCQHVoAkDxaAJA/WgCQRVoAkEhaggCAHQAAgDwAAIA/AACARQAAgEgAggCQHFoAkDtaAJA+WgCQR1oAkEpaggCAHAAAgDsAAIA+AACARwAAgEoAggCQHVoAkDlaAJA8WgCQSFoAkEtaggCAHQAAgDkAAIA8AACASAAAgEsAggCQHFoAkDRaAJA5WgCQSFoAkExaggCAHAAAgDQAAIA5AACASAAAgEwAggCQHVoAkDlaAJA8WgCQSFoAkEtaggCAHQAAgDkAAIA8AACASAAAgEsAggCQHFoAkDtaAJA+WgCQR1oAkEpaggCAHAAAgDsAAIA+AACARwAAgEoAggCQHVoAkDxaAJA/WgCQRVoAkEhaggCAHQAAgDwAAIA/AACARQAAgEgAggCQHFoAkChaggCAHAAAgCgAggCQHVoAkClaAJA/WgCQRVoAkEhaAJBUWoIAgB0AAIApAACAPwAAgEUAAIBIAACAVACCAJAcWgCQKFoAkEBaAJBFWgCQSFoAkFFaggCAHAAAgCgAAIBAAACARQAAgEgAAIBRAIIAkChaAJA0WgCQQFoAkEVaAJBIWgCQTFqCAIAoAACANAAAgEAAAIBFAACASAAAgEwAggCQHFoAkChaggCAHAAAgCgAggCQHVoAkClaAJA5WgCQPFoAkD9aAJBIWoIAgB0AAIApAACAOQAAgDwAAIA/AACASACCAJAcWgCQKFoAkDlaAJA8WgCQQFoAkEVaggCAHAAAgCgAAIA5AACAPAAAgEAAAIBFAIIAkChaAJA0WgCQOVoAkDxaAJBAWoIAgCgAAIA0AACAOQAAgDwAAIBAAIIAkBxaAJAoWoIAgBwAAIAoAIIAkChaAJA0WgCQOVoAkDxaggCAKAAAgDQAAIA5AACAPACCAJAmWgCQMlqCAIAmAACAMgCCAJAkWgCQMFoAkDlaAJBAWgCQRVqCAIAkAACAMAAAgDkAAIBAAACARQCCAJAjWgCQL1qCAIAjAACALwCCAJAhWgCQLVoAkDxaAJBFWgCQSFqCAIAhAACALQAAgDwAAIBFAACASACCAJAfWgCQK1qCAIAfAACAKwCCAJAdWgCQKVoAkDxaAJBFWgCQSFoAkFFaggCAHQAAgCkAAIA8AACARQAAgEgAAIBRAIIAkBxaAJAoWoIAgBwAAIAoAIIAkB1aAJApWgCQP1oAkEVaAJBIWgCQVFqCAIAdAACAKQAAgD8AAIBFAACASAAAgFQAggCQHFoAkChaAJBAWgCQRVoAkEhaAJBRWoIAgBwAAIAoAACAQAAAgEUAAIBIAACAUQCCAJAoWgCQNFoAkEBaAJBFWgCQSFoAkExaggCAKAAAgDQAAIBAAACARQAAgEgAAIBMAIIAkBxaAJAoWoIAgBwAAIAoAIIAkB1aAJApWgCQOVoAkDxaAJA/WgCQSFqCAIAdAACAKQAAgDkAAIA8AACAPwAAgEgAggCQHFoAkChaAJA5WgCQPFoAkEBaAJBFWoIAgBwAAIAoAACAOQAAgDwAAIBAAACARQCCAJAoWgCQNFoAkDlaAJA8WgCQQFqCAIAoAACANAAAgDkAAIA8AACAQACCAJAcWgCQKFqCAIAcAACAKACCAJAoWgCQNFoAkDlaAJA8WoIAgCgAAIA0AACAOQAAgDwAggCQJloAkDJaggCAJgAAgDIAggCQJFoAkDBaAJA5WgCQQFoAkEVaggCAJAAAgDAAAIA5AACAQAAAgEUAggCQI1oAkC9aggCAIwAAgC8AggCQIVoAkC1aAJA8WgCQRVoAkEhaggCAIQAAgC0AAIA8AACARQAAgEgAggCQH1oAkCtaggCAHwAAgCsAggCQHVoAkClaAJA8WgCQRVoAkEhaAJBRWoIAgB0AAIApAACAPAAAgEUAAIBIAACAUQCCAJBEWgCQSFoAkE1aggCARAAAgEgAAIBNAIIAkEFaAJBFWgCQSFoAkE1aggCAQQAAgEUAAIBIAACATQCCAJBEWgCQSFoAkE1aggCARAAAgEgAAIBNAIIAkD9aAJBFWgCQSFoAkE1aggCAPwAAgEUAAIBIAACATQCCAJBFWgCQSVoAkE5aggCARQAAgEkAAIBOAIIAkD1aAJBGWgCQSVoAkE5aggCAPQAAgEYAAIBJAACATgCCAJBFWgCQSVoAkE5aggCARQAAgEkAAIBOAIIAkDpaAJBGWgCQSVoAkE5aggCAOgAAgEYAAIBJAACATgCCAJBHWgCQS1oAkFBaggCARwAAgEsAAIBQAIIAkDVaAJBIWgCQS1oAkFBaggCANQAAgEgAAIBLAACAUACCAJBFWgCQSVoAkE5aggCARQAAgEkAAIBOAIIAkDpaAJBGWgCQSVoAkE5aggCAOgAAgEYAAIBJAACATgCCAJBEWgCQSFoAkE1aggCARAAAgEgAAIBNAIIAkDxaAJBFWgCQSFoAkE1aggCAPAAAgEUAAIBIAACATQCCAJBEWgCQTVoAkFRaggCARAAAgE0AAIBUAIIAkEFaAJBFWgCQSFoAkE1aggCAQQAAgEUAAIBIAACATQCCAJBEWgCQSFoAkE1aggCARAAAgEgAAIBNAIIAkEFaAJBFWgCQSFoAkE1aggCAQQAAgEUAAIBIAACATQCCAJBEWgCQSFoAkE1aggCARAAAgEgAAIBNAIIAkD9aAJBFWgCQSFoAkE1aggCAPwAAgEUAAIBIAACATQCCAJBFWgCQSVoAkE5aggCARQAAgEkAAIBOAIIAkD1aAJBGWgCQSVoAkE5aggCAPQAAgEYAAIBJAACATgCCAJBFWgCQSVoAkE5aggCARQAAgEkAAIBOAIIAkDpaAJBGWgCQSVoAkE5aggCAOgAAgEYAAIBJAACATgCCAJBHWgCQS1oAkFBaggCARwAAgEsAAIBQAIIAkDVaAJBIWgCQS1oAkFBaggCANQAAgEgAAIBLAACAUACCAJBFWgCQSVoAkE5aggCARQAAgEkAAIBOAIIAkDpaAJBGWgCQSVoAkE5aggCAOgAAgEYAAIBJAACATgCCAJBEWgCQSFoAkE1aggCARAAAgEgAAIBNAIIAkDxaAJBFWgCQSFoAkE1aggCAPAAAgEUAAIBIAACATQCCAJBEWgCQTVoAkFRaggCARAAAgE0AAIBUAIIAkEFaAJBFWgCQSFoAkE1aggCAQQAAgEUAAIBIAACATQCCAJApWgCQNVoAkD5aAJBDWgCQR1oAkEpaAJBPWoIAgCkAAIA1AACAPgAAgEMAAIBHAACASgAAgE8AggCQT1qCAIBPAIIAkFZaggCAVgCCAJBHWgCQT1qCAIBHAACATwCCAJBLWoIAgEsAggCQPloAkEdaggCAPgAAgEcAggCQQ1qCAIBDAIIAkDVaAJA+WoIAgDUAAIA+AIIAkDtaggCAOwCCAJArWgCQM1qCAIArAACAMwCCAJAyWoIAgDIAggCQMFoAkDNaAJA8WoIAgDAAAIAzAACAPACCAJAuWgCQPFoAkD9aggCALgAAgDwAAIA/AIIAkCxaAJA/WgCQSFqCAIAsAACAPwAAgEgAggCQK1oAkEhaAJBLWoIAgCsAAIBIAACASwCCAJAqWgCQS1oAkFRaggCAKgAAgEsAAIBUAIIAkClaAJA1WgCQPloAkENaAJBHWgCQSloAkE9aggCAKQAAgDUAAIA+AACAQwAAgEcAAIBKAACATwCCAJBPWoIAgE8AggCQVlqCAIBWAIIAkEdaAJBPWoIAgEcAAIBPAIIAkEtaggCASwCCAJA+WgCQR1qCAIA+AACARwCCAJBDWoIAgEMAggCQNVoAkD5aggCANQAAgD4AggCQO1qCAIA7AIIAkCtaAJAzWoIAgCsAAIAzAIIAkDJaggCAMgCIAP8vAA==');\n",
       "                        });\n",
       "                </script>"
      ],
      "text/plain": [
       "<IPython.core.display.HTML object>"
      ]
     },
     "metadata": {},
     "output_type": "display_data"
    }
   ],
   "source": [
    "stream1.show('midi')"
   ]
  },
  {
   "cell_type": "code",
   "execution_count": 15,
   "metadata": {},
   "outputs": [
    {
     "data": {
      "text/plain": [
       "(20, 360, 128)"
      ]
     },
     "execution_count": 15,
     "metadata": {},
     "output_type": "execute_result"
    }
   ],
   "source": [
    "batch2 = np.array([a.todense() for a in batch1])\n",
    "batch2.shape"
   ]
  },
  {
   "cell_type": "code",
   "execution_count": 16,
   "metadata": {},
   "outputs": [
    {
     "data": {
      "text/plain": [
       "tensor([ 0,  1,  2,  3,  4,  5,  6,  7,  8,  9, 10, 11, 12, 13, 14, 15, 16, 17,\n",
       "        18, 19])"
      ]
     },
     "execution_count": 16,
     "metadata": {},
     "output_type": "execute_result"
    }
   ],
   "source": [
    "labels = torch.arange(20)\n",
    "labels"
   ]
  },
  {
   "cell_type": "code",
   "execution_count": 17,
   "metadata": {},
   "outputs": [],
   "source": [
    "def sample():\n",
    "    batch1 = standard_batch()\n",
    "    batch2 = np.array([a.todense() for a in batch1])\n",
    "    device = \"cuda:0\"\n",
    "    batch3 = torch.from_numpy(batch2).to(device).float()\n",
    "    return batch3\n",
    "    "
   ]
  },
  {
   "cell_type": "code",
   "execution_count": 18,
   "metadata": {},
   "outputs": [],
   "source": [
    "def torch_convert(song):\n",
    "    batch2 = song.todense()\n",
    "    device = \"cuda:0\"\n",
    "    batch3 = torch.from_numpy(batch2).to(device).float()\n",
    "    return batch3.view(1,song.shape[0],song.shape[1])"
   ]
  },
  {
   "cell_type": "code",
   "execution_count": 19,
   "metadata": {},
   "outputs": [
    {
     "data": {
      "text/plain": [
       "torch.Size([20, 360, 128])"
      ]
     },
     "execution_count": 19,
     "metadata": {},
     "output_type": "execute_result"
    }
   ],
   "source": [
    "batch = sample()\n",
    "batch.shape"
   ]
  },
  {
   "cell_type": "code",
   "execution_count": 227,
   "metadata": {},
   "outputs": [
    {
     "data": {
      "text/plain": [
       "TransformerEncoder(\n",
       "  (layers): ModuleList(\n",
       "    (0): TransformerEncoderLayer(\n",
       "      (self_attn): MultiheadAttention(\n",
       "        (out_proj): Linear(in_features=128, out_features=128, bias=True)\n",
       "      )\n",
       "      (linear1): Linear(in_features=128, out_features=2048, bias=True)\n",
       "      (dropout): Dropout(p=0.1, inplace=False)\n",
       "      (linear2): Linear(in_features=2048, out_features=128, bias=True)\n",
       "      (norm1): LayerNorm((128,), eps=1e-05, elementwise_affine=True)\n",
       "      (norm2): LayerNorm((128,), eps=1e-05, elementwise_affine=True)\n",
       "      (dropout1): Dropout(p=0.1, inplace=False)\n",
       "      (dropout2): Dropout(p=0.1, inplace=False)\n",
       "    )\n",
       "    (1): TransformerEncoderLayer(\n",
       "      (self_attn): MultiheadAttention(\n",
       "        (out_proj): Linear(in_features=128, out_features=128, bias=True)\n",
       "      )\n",
       "      (linear1): Linear(in_features=128, out_features=2048, bias=True)\n",
       "      (dropout): Dropout(p=0.1, inplace=False)\n",
       "      (linear2): Linear(in_features=2048, out_features=128, bias=True)\n",
       "      (norm1): LayerNorm((128,), eps=1e-05, elementwise_affine=True)\n",
       "      (norm2): LayerNorm((128,), eps=1e-05, elementwise_affine=True)\n",
       "      (dropout1): Dropout(p=0.1, inplace=False)\n",
       "      (dropout2): Dropout(p=0.1, inplace=False)\n",
       "    )\n",
       "    (2): TransformerEncoderLayer(\n",
       "      (self_attn): MultiheadAttention(\n",
       "        (out_proj): Linear(in_features=128, out_features=128, bias=True)\n",
       "      )\n",
       "      (linear1): Linear(in_features=128, out_features=2048, bias=True)\n",
       "      (dropout): Dropout(p=0.1, inplace=False)\n",
       "      (linear2): Linear(in_features=2048, out_features=128, bias=True)\n",
       "      (norm1): LayerNorm((128,), eps=1e-05, elementwise_affine=True)\n",
       "      (norm2): LayerNorm((128,), eps=1e-05, elementwise_affine=True)\n",
       "      (dropout1): Dropout(p=0.1, inplace=False)\n",
       "      (dropout2): Dropout(p=0.1, inplace=False)\n",
       "    )\n",
       "    (3): TransformerEncoderLayer(\n",
       "      (self_attn): MultiheadAttention(\n",
       "        (out_proj): Linear(in_features=128, out_features=128, bias=True)\n",
       "      )\n",
       "      (linear1): Linear(in_features=128, out_features=2048, bias=True)\n",
       "      (dropout): Dropout(p=0.1, inplace=False)\n",
       "      (linear2): Linear(in_features=2048, out_features=128, bias=True)\n",
       "      (norm1): LayerNorm((128,), eps=1e-05, elementwise_affine=True)\n",
       "      (norm2): LayerNorm((128,), eps=1e-05, elementwise_affine=True)\n",
       "      (dropout1): Dropout(p=0.1, inplace=False)\n",
       "      (dropout2): Dropout(p=0.1, inplace=False)\n",
       "    )\n",
       "    (4): TransformerEncoderLayer(\n",
       "      (self_attn): MultiheadAttention(\n",
       "        (out_proj): Linear(in_features=128, out_features=128, bias=True)\n",
       "      )\n",
       "      (linear1): Linear(in_features=128, out_features=2048, bias=True)\n",
       "      (dropout): Dropout(p=0.1, inplace=False)\n",
       "      (linear2): Linear(in_features=2048, out_features=128, bias=True)\n",
       "      (norm1): LayerNorm((128,), eps=1e-05, elementwise_affine=True)\n",
       "      (norm2): LayerNorm((128,), eps=1e-05, elementwise_affine=True)\n",
       "      (dropout1): Dropout(p=0.1, inplace=False)\n",
       "      (dropout2): Dropout(p=0.1, inplace=False)\n",
       "    )\n",
       "    (5): TransformerEncoderLayer(\n",
       "      (self_attn): MultiheadAttention(\n",
       "        (out_proj): Linear(in_features=128, out_features=128, bias=True)\n",
       "      )\n",
       "      (linear1): Linear(in_features=128, out_features=2048, bias=True)\n",
       "      (dropout): Dropout(p=0.1, inplace=False)\n",
       "      (linear2): Linear(in_features=2048, out_features=128, bias=True)\n",
       "      (norm1): LayerNorm((128,), eps=1e-05, elementwise_affine=True)\n",
       "      (norm2): LayerNorm((128,), eps=1e-05, elementwise_affine=True)\n",
       "      (dropout1): Dropout(p=0.1, inplace=False)\n",
       "      (dropout2): Dropout(p=0.1, inplace=False)\n",
       "    )\n",
       "  )\n",
       ")"
      ]
     },
     "execution_count": 227,
     "metadata": {},
     "output_type": "execute_result"
    }
   ],
   "source": [
    "#encoder_layer = nn.TransformerEncoderLayer(d_model=128, nhead=8)\n",
    "#transformer_encoder = nn.TransformerEncoder(encoder_layer, num_layers=6)\n",
    "#transformer_encoder.to(device)"
   ]
  },
  {
   "cell_type": "code",
   "execution_count": 229,
   "metadata": {},
   "outputs": [
    {
     "data": {
      "text/plain": [
       "torch.Size([20, 360, 128])"
      ]
     },
     "execution_count": 229,
     "metadata": {},
     "output_type": "execute_result"
    }
   ],
   "source": [
    "#out = transformer_encoder(batch)\n",
    "#out.shape"
   ]
  },
  {
   "cell_type": "code",
   "execution_count": 20,
   "metadata": {},
   "outputs": [],
   "source": [
    "class PositionalEncoding(nn.Module):\n",
    "\n",
    "    def __init__(self, d_model = 128, dropout=0.00, max_len=5000):\n",
    "        super(PositionalEncoding, self).__init__()\n",
    "        self.dropout = nn.Dropout(p=dropout)\n",
    "\n",
    "        pe = torch.zeros(max_len, d_model)\n",
    "        position = torch.arange(0, max_len, dtype=torch.float).unsqueeze(1)\n",
    "        div_term = torch.exp(torch.arange(0, d_model, 2).float() * (-math.log(10000.0) / d_model))\n",
    "        pe[:, 0::2] = torch.sin(position * div_term)\n",
    "        pe[:, 1::2] = torch.cos(position * div_term)\n",
    "        pe = pe.unsqueeze(0).transpose(0, 1)\n",
    "        self.register_buffer('pe', pe)\n",
    "\n",
    "    def forward(self, x):\n",
    "        x = x + self.pe[:x.size(0), :]\n",
    "        #print(self.pe.shape)\n",
    "        return self.dropout(x)\n"
   ]
  },
  {
   "cell_type": "code",
   "execution_count": 21,
   "metadata": {},
   "outputs": [],
   "source": [
    "class LingLing_Encoder(nn.Module):\n",
    "    def __init__(self, dim = 128, nheads = 8, nlayers = 6,n_classes = 20):\n",
    "        super(LingLing_Encoder, self).__init__()\n",
    "        \n",
    "        device = \"cuda:0\"\n",
    "        self.dim = dim\n",
    "        \n",
    "        #self.pos_encoder = PositionalEncoding()\n",
    "        self.positional_encodings = nn.Embedding(song_length, dim)\n",
    "        \n",
    "        self.encoder_layer = nn.TransformerEncoderLayer(d_model=dim, nhead=nheads)\n",
    "        self.transformer_encoder = nn.TransformerEncoder(self.encoder_layer, num_layers=nlayers)\n",
    "        self.fc_layer = nn.Linear(dim*song_length,n_classes)\n",
    "        \n",
    "        #self.pos_encoder.to(device)\n",
    "        self.positional_encodings.to(device)\n",
    "        self.transformer_encoder.to(device)\n",
    "        self.fc_layer.to(device)\n",
    "        \n",
    "        \n",
    "\n",
    "    def forward(self, song):\n",
    "        #print(song.size(0))\n",
    "        #pos_song = self.pos_encoder(song)\n",
    "        pos = torch.arange(0, song_length).unsqueeze(0).repeat(20, 1).to(device)\n",
    "        pos_embeddings = self.positional_encodings(pos)\n",
    "        pos_song = song + pos_embeddings\n",
    "        #print(pos_song[0,:,127])\n",
    "        feature_rep = self.transformer_encoder(pos_song)\n",
    "        scores = self.fc_layer(feature_rep.view(-1,self.dim*song_length))\n",
    "        \n",
    "        return scores"
   ]
  },
  {
   "cell_type": "code",
   "execution_count": 22,
   "metadata": {},
   "outputs": [],
   "source": [
    "model = LingLing_Encoder()\n",
    "optimizer = optim.Adam(model.parameters(), lr=1e-5, betas =(0.9,0.999), weight_decay = 0.0005, eps=1e-08)\n",
    "#optimizer = optim.SGD(model.parameters(), lr=1e-5, momentum=0.9)"
   ]
  },
  {
   "cell_type": "code",
   "execution_count": 23,
   "metadata": {},
   "outputs": [
    {
     "data": {
      "text/plain": [
       "<All keys matched successfully>"
      ]
     },
     "execution_count": 23,
     "metadata": {},
     "output_type": "execute_result"
    }
   ],
   "source": [
    "model.load_state_dict(torch.load('Ling_ling_AI.pt'))"
   ]
  },
  {
   "cell_type": "code",
   "execution_count": 266,
   "metadata": {},
   "outputs": [
    {
     "name": "stdout",
     "output_type": "stream",
     "text": [
      "Iteration : 249  Loss : 0.7408860325813293  Accuracy : 0.65  Avergae Loss : 0.707398054599762\n",
      "Iteration : 499  Loss : 0.7324044704437256  Accuracy : 0.9  Avergae Loss : 0.7241087056994439\n",
      "Iteration : 749  Loss : 0.6242073178291321  Accuracy : 0.8  Avergae Loss : 0.700646186709404\n",
      "Iteration : 999  Loss : 0.6013311147689819  Accuracy : 0.75  Avergae Loss : 0.6868517787456513\n",
      "Iteration : 1249  Loss : 0.8134172558784485  Accuracy : 0.8  Avergae Loss : 0.7247982162237168\n",
      "Iteration : 1499  Loss : 0.8199619054794312  Accuracy : 0.7  Avergae Loss : 0.6998545570373536\n",
      "Iteration : 1749  Loss : 0.656814455986023  Accuracy : 0.75  Avergae Loss : 0.6708198999166488\n",
      "Iteration : 1999  Loss : 0.24602322280406952  Accuracy : 0.9  Avergae Loss : 0.69312797665596\n",
      "Iteration : 2249  Loss : 0.47412458062171936  Accuracy : 0.7  Avergae Loss : 0.6815001353621483\n",
      "Iteration : 2499  Loss : 0.9102722406387329  Accuracy : 0.7  Avergae Loss : 0.7112409090995788\n",
      "Iteration : 2749  Loss : 0.5534290075302124  Accuracy : 0.85  Avergae Loss : 0.6918302583098411\n",
      "Iteration : 2999  Loss : 0.6233800649642944  Accuracy : 0.8  Avergae Loss : 0.680848998606205\n",
      "Iteration : 3249  Loss : 0.7282840609550476  Accuracy : 0.8  Avergae Loss : 0.6680030384063721\n",
      "Iteration : 3499  Loss : 1.1316535472869873  Accuracy : 0.6  Avergae Loss : 0.6789331553578377\n",
      "Iteration : 3749  Loss : 0.6863876581192017  Accuracy : 0.65  Avergae Loss : 0.6751562494635582\n",
      "Iteration : 3999  Loss : 0.6153212785720825  Accuracy : 0.75  Avergae Loss : 0.6910282468795776\n",
      "Iteration : 4249  Loss : 0.5091492533683777  Accuracy : 0.9  Avergae Loss : 0.6862741318941117\n",
      "Iteration : 4499  Loss : 0.5647605061531067  Accuracy : 0.8  Avergae Loss : 0.6661346606612205\n",
      "Iteration : 4749  Loss : 0.4764340817928314  Accuracy : 0.85  Avergae Loss : 0.6455144429206848\n",
      "Iteration : 4999  Loss : 0.5821961164474487  Accuracy : 0.75  Avergae Loss : 0.6479568048715592\n",
      "Iteration : 5249  Loss : 0.6248703598976135  Accuracy : 0.8  Avergae Loss : 0.676991535604\n",
      "Iteration : 5499  Loss : 0.6263207197189331  Accuracy : 0.8  Avergae Loss : 0.6458756491541863\n",
      "Iteration : 5749  Loss : 0.7007210850715637  Accuracy : 0.7  Avergae Loss : 0.6466726846694947\n",
      "Iteration : 5999  Loss : 0.3366240859031677  Accuracy : 0.85  Avergae Loss : 0.6594003024101257\n",
      "Iteration : 6249  Loss : 0.5595759153366089  Accuracy : 0.8  Avergae Loss : 0.6481584903001786\n",
      "Iteration : 6499  Loss : 0.5851991772651672  Accuracy : 0.8  Avergae Loss : 0.6497028071880341\n",
      "Iteration : 6749  Loss : 0.8831050992012024  Accuracy : 0.8  Avergae Loss : 0.6611807956695557\n",
      "Iteration : 6999  Loss : 0.7088340520858765  Accuracy : 0.75  Avergae Loss : 0.6620548248887063\n",
      "Iteration : 7249  Loss : 0.4200344979763031  Accuracy : 0.9  Avergae Loss : 0.640943646788597\n",
      "Iteration : 7499  Loss : 0.4659256935119629  Accuracy : 0.8  Avergae Loss : 0.660558614730835\n",
      "Iteration : 7749  Loss : 1.1526778936386108  Accuracy : 0.75  Avergae Loss : 0.6683721621632576\n",
      "Iteration : 7999  Loss : 0.5890965461730957  Accuracy : 0.75  Avergae Loss : 0.6388007330298424\n",
      "Iteration : 8249  Loss : 0.7035309076309204  Accuracy : 0.65  Avergae Loss : 0.6288563950061798\n",
      "Iteration : 8499  Loss : 0.6309744715690613  Accuracy : 0.75  Avergae Loss : 0.6193557263612747\n",
      "Iteration : 8749  Loss : 0.6388950347900391  Accuracy : 0.85  Avergae Loss : 0.635872939825058\n",
      "Iteration : 8999  Loss : 0.8134752511978149  Accuracy : 0.75  Avergae Loss : 0.6559888938069344\n",
      "Iteration : 9249  Loss : 0.7011079788208008  Accuracy : 0.85  Avergae Loss : 0.606304412662983\n",
      "Iteration : 9499  Loss : 0.6293297410011292  Accuracy : 0.8  Avergae Loss : 0.6191638195514679\n",
      "Iteration : 9749  Loss : 0.3112320899963379  Accuracy : 0.85  Avergae Loss : 0.6285429210066795\n",
      "Iteration : 9999  Loss : 0.829401969909668  Accuracy : 0.65  Avergae Loss : 0.615592066347599\n"
     ]
    }
   ],
   "source": [
    "optimizer.zero_grad()\n",
    "labels = torch.arange(20)\n",
    "labels = labels.to(device)\n",
    "iterations = 10000\n",
    "total_loss = 0\n",
    "for i in range(iterations):\n",
    "    model.zero_grad()\n",
    "    sample_batch = sample()\n",
    "\n",
    "    scores = model(sample_batch)\n",
    "    \n",
    "    loss_fn = nn.CrossEntropyLoss()\n",
    "    loss = loss_fn(scores, labels)\n",
    "    total_loss += loss.item()\n",
    "    \n",
    "    loss.backward()\n",
    "    optimizer.step()\n",
    "    \n",
    "    if i%250 == 249:\n",
    "        preds = torch.argmax(scores, axis=1)\n",
    "        accuracy = (preds == labels).sum().item()/n_classes\n",
    "        print(\"Iteration :\",i, \" Loss :\", loss.item(), \" Accuracy :\", accuracy, \" Avergae Loss :\", total_loss/(250))\n",
    "        total_loss = 0"
   ]
  },
  {
   "cell_type": "code",
   "execution_count": 267,
   "metadata": {},
   "outputs": [],
   "source": [
    "torch.save(model.state_dict(), 'Ling_ling_AI.pt')"
   ]
  },
  {
   "cell_type": "code",
   "execution_count": null,
   "metadata": {},
   "outputs": [],
   "source": []
  },
  {
   "cell_type": "code",
   "execution_count": null,
   "metadata": {},
   "outputs": [],
   "source": []
  },
  {
   "cell_type": "code",
   "execution_count": null,
   "metadata": {},
   "outputs": [],
   "source": []
  },
  {
   "cell_type": "code",
   "execution_count": 31,
   "metadata": {},
   "outputs": [],
   "source": [
    "batch1 = standard_batch()\n",
    "song = batch1[18]\n",
    "stream1 = DataToStream(song, time_signature = 0.25)"
   ]
  },
  {
   "cell_type": "code",
   "execution_count": 32,
   "metadata": {},
   "outputs": [
    {
     "data": {
      "text/html": [
       "\n",
       "                <div id='midiPlayerDiv12103'></div>\n",
       "                <link rel=\"stylesheet\" href=\"//cuthbertLab.github.io/music21j/css/m21.css\"\n",
       "                    type=\"text/css\" />\n",
       "                <script>\n",
       "                require.config({\n",
       "                    paths: {'music21': '//cuthbertLab.github.io/music21j/src/music21'}\n",
       "                });\n",
       "                require(['music21'], function() {\n",
       "                               mp = new music21.miditools.MidiPlayer();\n",
       "                               mp.addPlayer('#midiPlayerDiv12103');\n",
       "                               mp.base64Load('data:audio/midi;base64,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');\n",
       "                        });\n",
       "                </script>"
      ],
      "text/plain": [
       "<IPython.core.display.HTML object>"
      ]
     },
     "metadata": {},
     "output_type": "display_data"
    }
   ],
   "source": [
    "stream1.show('midi')"
   ]
  },
  {
   "cell_type": "code",
   "execution_count": 79,
   "metadata": {},
   "outputs": [],
   "source": [
    "new_song = torch_convert(song)\n",
    "new_song = new_song.to(device)\n",
    "new_song = new_song.requires_grad_()"
   ]
  },
  {
   "cell_type": "code",
   "execution_count": 80,
   "metadata": {},
   "outputs": [],
   "source": [
    "#new_song = torch.rand(1,song_length,128)\n",
    "#new_song = new_song.to(device)\n",
    "#new_song = new_song.requires_grad_()"
   ]
  },
  {
   "cell_type": "code",
   "execution_count": 81,
   "metadata": {},
   "outputs": [],
   "source": [
    "new_song_optimizer = torch.optim.Adam([new_song], lr=1e-4)"
   ]
  },
  {
   "cell_type": "code",
   "execution_count": 82,
   "metadata": {},
   "outputs": [
    {
     "name": "stdout",
     "output_type": "stream",
     "text": [
      "-0.16583333909511566 2.2906670570373535 -16.740947723388672\n",
      "-0.16480804979801178 3.498722553253174 -16.131704330444336\n",
      "-0.16538195312023163 6.828791618347168 -15.80954647064209\n",
      "-0.16762611269950867 8.030191421508789 -15.500617027282715\n",
      "-0.1714262217283249 10.73816204071045 -15.130468368530273\n",
      "-0.1768830120563507 12.46987533569336 -14.726530075073242\n",
      "-0.18410250544548035 15.507140159606934 -14.311625480651855\n",
      "-0.19312381744384766 17.108675003051758 -13.910296440124512\n",
      "-0.20397017896175385 20.016637802124023 -13.535079956054688\n",
      "-0.21669165790081024 22.954137802124023 -13.194001197814941\n",
      "-0.2313285619020462 26.027236938476562 -12.89670467376709\n",
      "-0.24780625104904175 28.03739356994629 -12.643054962158203\n",
      "-0.2660655379295349 31.247072219848633 -12.429404258728027\n",
      "-0.2860461473464966 33.71356964111328 -12.248661041259766\n",
      "-0.30765679478645325 36.25697326660156 -12.098265647888184\n",
      "-0.33073073625564575 38.55687713623047 -11.974254608154297\n",
      "-0.3551429510116577 40.48818588256836 -11.864943504333496\n",
      "-0.3807896673679352 42.830142974853516 -11.76596450805664\n",
      "-0.40752220153808594 45.7180290222168 -11.672698974609375\n",
      "-0.4352636933326721 48.406036376953125 -11.588851928710938\n",
      "-0.4639042317867279 48.39768981933594 -11.508234977722168\n",
      "-0.4933857023715973 51.6328010559082 -11.42621898651123\n",
      "-0.5236472487449646 52.980987548828125 -11.344085693359375\n",
      "-0.5546396970748901 55.27928161621094 -11.266027450561523\n",
      "-0.5863101482391357 56.95245361328125 -11.191754341125488\n",
      "-0.6185979843139648 57.22590637207031 -11.119831085205078\n",
      "-0.651465892791748 56.878353118896484 -11.04805850982666\n",
      "-0.6848769187927246 59.57561492919922 -10.979686737060547\n",
      "-0.7187913060188293 60.62081527709961 -10.919974327087402\n",
      "-0.7531910538673401 62.87339401245117 -10.874154090881348\n",
      "-0.7880678176879883 62.154388427734375 -10.843856811523438\n",
      "-0.8234167695045471 64.31146240234375 -10.824095726013184\n",
      "-0.8592145442962646 63.79612350463867 -10.810519218444824\n",
      "-0.8954493999481201 65.63484191894531 -10.800644874572754\n",
      "-0.9321200847625732 65.34131622314453 -10.79609489440918\n",
      "-0.969216525554657 67.76029968261719 -10.797612190246582\n"
     ]
    }
   ],
   "source": [
    "target_y = 0\n",
    "l2_reg = 0.05\n",
    "continuity_constant = 10\n",
    "\n",
    "for i in range(3000):\n",
    "    model.zero_grad() \n",
    "    score = model(new_song) \n",
    "    \n",
    "    target_score = score[0,target_y] \n",
    "    \n",
    "    reg_loss = l2_reg*torch.sum((new_song*new_song))/song_length\n",
    "    \n",
    "    continuity_drops = new_song[0,1:,:] - new_song[0,:-1,:]\n",
    "    continuity_loss = continuity_constant*torch.sum((continuity_drops*continuity_drops))/(song_length-1)\n",
    "    loss = -target_score + continuity_loss + reg_loss\n",
    "    if i%99 == 0:\n",
    "        print(-reg_loss.item(), target_score.item(), -continuity_loss.item()) \n",
    "    loss.backward() \n",
    "    new_song_optimizer.step()"
   ]
  },
  {
   "cell_type": "code",
   "execution_count": 83,
   "metadata": {},
   "outputs": [],
   "source": [
    "test = new_song.clone()"
   ]
  },
  {
   "cell_type": "code",
   "execution_count": 84,
   "metadata": {},
   "outputs": [
    {
     "data": {
      "text/plain": [
       "torch.Size([360, 128])"
      ]
     },
     "execution_count": 84,
     "metadata": {},
     "output_type": "execute_result"
    }
   ],
   "source": [
    "test = test[0]\n",
    "test.shape"
   ]
  },
  {
   "cell_type": "code",
   "execution_count": 85,
   "metadata": {},
   "outputs": [],
   "source": [
    "a, b = test.max(axis = 1)"
   ]
  },
  {
   "cell_type": "code",
   "execution_count": 86,
   "metadata": {},
   "outputs": [],
   "source": [
    "def make_it_music(not_a_song, max_notes = 3, song_length = 360):\n",
    "    threshold = -1\n",
    "    avg_notes = 100\n",
    "    while avg_notes > max_notes:\n",
    "        threshold = threshold + 0.01\n",
    "        s = (not_a_song>threshold).sum()\n",
    "        avg_notes = s.item()/song_length\n",
    "\n",
    "    print(avg_notes, threshold)\n",
    "    return (not_a_song>threshold).int()"
   ]
  },
  {
   "cell_type": "code",
   "execution_count": 87,
   "metadata": {},
   "outputs": [
    {
     "name": "stdout",
     "output_type": "stream",
     "text": [
      "2.408333333333333 0.540000000000001\n"
     ]
    }
   ],
   "source": [
    "test_song = make_it_music(test, max_notes=3.5)"
   ]
  },
  {
   "cell_type": "code",
   "execution_count": 88,
   "metadata": {},
   "outputs": [
    {
     "data": {
      "text/plain": [
       "torch.Size([360, 128])"
      ]
     },
     "execution_count": 88,
     "metadata": {},
     "output_type": "execute_result"
    }
   ],
   "source": [
    "test_song.shape"
   ]
  },
  {
   "cell_type": "code",
   "execution_count": 89,
   "metadata": {},
   "outputs": [],
   "source": [
    "test_song = test_song.detach().cpu().numpy()"
   ]
  },
  {
   "cell_type": "code",
   "execution_count": 90,
   "metadata": {},
   "outputs": [],
   "source": [
    "test_song = sparse.csr_matrix(test_song)"
   ]
  },
  {
   "cell_type": "code",
   "execution_count": 91,
   "metadata": {},
   "outputs": [
    {
     "data": {
      "text/plain": [
       "(360, 128)"
      ]
     },
     "execution_count": 91,
     "metadata": {},
     "output_type": "execute_result"
    }
   ],
   "source": [
    "test_song.shape"
   ]
  },
  {
   "cell_type": "code",
   "execution_count": 92,
   "metadata": {},
   "outputs": [],
   "source": [
    "test_stream = DataToStream(test_song, time_signature = 0.25)"
   ]
  },
  {
   "cell_type": "code",
   "execution_count": 93,
   "metadata": {},
   "outputs": [
    {
     "data": {
      "text/html": [
       "\n",
       "                <div id='midiPlayerDiv18685'></div>\n",
       "                <link rel=\"stylesheet\" href=\"//cuthbertLab.github.io/music21j/css/m21.css\"\n",
       "                    type=\"text/css\" />\n",
       "                <script>\n",
       "                require.config({\n",
       "                    paths: {'music21': '//cuthbertLab.github.io/music21j/src/music21'}\n",
       "                });\n",
       "                require(['music21'], function() {\n",
       "                               mp = new music21.miditools.MidiPlayer();\n",
       "                               mp.addPlayer('#midiPlayerDiv18685');\n",
       "                               mp.base64Load('data:audio/midi;base64,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');\n",
       "                        });\n",
       "                </script>"
      ],
      "text/plain": [
       "<IPython.core.display.HTML object>"
      ]
     },
     "metadata": {},
     "output_type": "display_data"
    }
   ],
   "source": [
    "test_stream.show('midi')"
   ]
  },
  {
   "cell_type": "code",
   "execution_count": 94,
   "metadata": {},
   "outputs": [
    {
     "name": "stdout",
     "output_type": "stream",
     "text": [
      "{0.0} <music21.instrument.Piano 'Piano'>\n",
      "{0.0} <music21.note.Note E->\n",
      "{0.25} <music21.note.Note C>\n",
      "{0.5} <music21.chord.Chord C1 E1 A2 G3 C4 D4 D5>\n",
      "{0.75} <music21.chord.Chord A2 C4 D4 D5>\n",
      "{1.0} <music21.chord.Chord A2 F#3 C4 D4 D5>\n",
      "{1.25} <music21.chord.Chord E-1 A2 F#3 C4 D5>\n",
      "{1.5} <music21.chord.Chord C0 E-1 E1 A2 C4 D5>\n",
      "{1.75} <music21.note.Note D>\n",
      "{2.0} <music21.chord.Chord F4 G4 D5>\n",
      "{2.5} <music21.chord.Chord C0 F4 G4 D5 C8>\n",
      "{2.75} <music21.chord.Chord E3 G3 G4 D5>\n",
      "{3.0} <music21.chord.Chord G4 C#5 B5>\n",
      "{3.25} <music21.chord.Chord G#4 B8>\n",
      "{3.5} <music21.chord.Chord C4 E-4 G4>\n",
      "{3.75} <music21.chord.Chord C3 C4 G4 C5>\n",
      "{4.0} <music21.chord.Chord C3 G#3 C4 G#4 B8>\n",
      "{4.25} <music21.chord.Chord C4 E-4 G4 B8>\n",
      "{4.5} <music21.chord.Chord C4 E-4 G4 C5 B8>\n",
      "{4.75} <music21.chord.Chord C4 E-4>\n",
      "{5.0} <music21.chord.Chord E-4 C5 C8>\n",
      "{5.25} <music21.chord.Chord C4 E-4>\n",
      "{5.5} <music21.chord.Chord C1 C2 E-4 G4 E-5>\n",
      "{5.75} <music21.chord.Chord C1 C#3 E-4 G#4 E-5>\n",
      "{6.0} <music21.chord.Chord F#2 G2 E-5>\n",
      "{6.25} <music21.chord.Chord G3 G4 E-5>\n",
      "{6.5} <music21.chord.Chord E1 C3 G3 B3 G4 G#4 C5>\n",
      "{6.75} <music21.chord.Chord G3 B3 G4 G#4>\n",
      "{7.0} <music21.chord.Chord G3 B3 G4>\n",
      "{7.5} <music21.chord.Chord B3 G4>\n",
      "{7.75} <music21.chord.Chord C4 G4>\n",
      "{8.0} <music21.chord.Chord F3 B-3 C4 G4>\n",
      "{8.5} <music21.chord.Chord C G4 E-5 C8>\n",
      "{8.75} <music21.chord.Chord B-3 D4 G4 C8>\n",
      "{9.0} <music21.chord.Chord C C8 B8>\n",
      "{9.25} <music21.chord.Chord C0 C4 F4 E-5 C8 B8>\n",
      "{9.5} <music21.chord.Chord E-3 C4 F4>\n",
      "{9.75} <music21.note.Note E->\n",
      "{10.0} <music21.chord.Chord E-3 E4 F4>\n",
      "{10.25} <music21.chord.Chord B- E-3 D4 F4 C8>\n",
      "{10.5} <music21.chord.Chord C B- F2 C4 D4 F4 C8>\n",
      "{10.75} <music21.chord.Chord F2 C4 D4 C8>\n",
      "{11.0} <music21.chord.Chord C C4 D4 C8>\n",
      "{11.25} <music21.chord.Chord C4 D4>\n",
      "{11.5} <music21.chord.Chord C0 F2 G2 D4 E-5 C8>\n",
      "{11.75} <music21.chord.Chord E-3 F4 C8>\n",
      "{12.0} <music21.chord.Chord F2 F4 C8>\n",
      "{12.25} <music21.chord.Chord E-1 F4 C8>\n",
      "{12.5} <music21.chord.Chord C0 F3 F4 G#4>\n",
      "{12.75} <music21.chord.Chord C0 F2 A2 D3 F4 G#4>\n",
      "{13.0} <music21.chord.Chord B- C2 F2 D3 F3 G3 F4>\n",
      "{13.25} <music21.chord.Chord B- B-0 F2 D3 B-3 F4>\n",
      "{13.5} <music21.chord.Chord B-0 D2 D3 C4 E4 F4 G#4 C5 E-5>\n",
      "{13.75} <music21.note.Note F>\n",
      "{14.0} <music21.chord.Chord F3 F4 G4>\n",
      "{14.25} <music21.chord.Chord F3 F4>\n",
      "{14.5} <music21.chord.Chord D2 F2 D3 F3 F4>\n",
      "{14.75} <music21.note.Note F>\n",
      "{15.0} <music21.chord.Chord D3 F4 G#4>\n",
      "{15.25} <music21.chord.Chord F3 G3 G#4 E-5>\n",
      "{15.5} <music21.chord.Chord E-2 F3 G3 C4>\n",
      "{15.75} <music21.chord.Chord C4 F4>\n",
      "{16.0} <music21.chord.Chord A3 F4>\n",
      "{16.25} <music21.chord.Chord F3 A3 F4>\n",
      "{16.5} <music21.note.Note F>\n",
      "{16.75} <music21.chord.Chord E-3 A3 F4>\n",
      "{17.0} <music21.chord.Chord G2 E-3 A3 F4 E-5>\n",
      "{17.25} <music21.chord.Chord E-3 F4>\n",
      "{17.5} <music21.chord.Chord E-3 F4 G4>\n",
      "{17.75} <music21.chord.Chord C E-3 F4 E-5>\n",
      "{18.0} <music21.chord.Chord E-3 C4 B5>\n",
      "{18.25} <music21.chord.Chord E-2 E-3 C4 B5>\n",
      "{18.5} <music21.chord.Chord C0 E-3>\n",
      "{19.0} <music21.note.Note F>\n",
      "{19.5} <music21.chord.Chord E4 F4>\n",
      "{19.75} <music21.note.Note F>\n",
      "{20.25} <music21.note.Rest rest>\n",
      "{20.75} <music21.chord.Chord G3 E-5>\n",
      "{21.0} <music21.note.Note F>\n",
      "{22.25} <music21.chord.Chord E-1 F2 G3 C#4 G#7>\n",
      "{22.5} <music21.note.Rest rest>\n",
      "{23.0} <music21.chord.Chord C0 F2 G3 E-5>\n",
      "{23.25} <music21.note.Rest rest>\n",
      "{23.5} <music21.note.Note G>\n",
      "{24.0} <music21.note.Note G>\n",
      "{24.25} <music21.chord.Chord C4 E4 G4>\n",
      "{24.5} <music21.chord.Chord F2 G4 C8>\n",
      "{25.0} <music21.chord.Chord E-2 F2 F#2 E4 G4>\n",
      "{25.25} <music21.chord.Chord F2 G4 G6 C8 F9>\n",
      "{25.5} <music21.chord.Chord C0 F2 C#3 C4 E4 G4 G#4 G6>\n",
      "{25.75} <music21.chord.Chord F2 G4>\n",
      "{26.0} <music21.chord.Chord C D2 F2 G3 C4 G4 E-5 C8>\n",
      "{26.25} <music21.note.Note F>\n",
      "{26.5} <music21.note.Note C>\n",
      "{26.75} <music21.note.Note F>\n",
      "{27.0} <music21.note.Rest rest>\n",
      "{27.25} <music21.note.Note C>\n",
      "{27.5} <music21.chord.Chord G3 C8>\n",
      "{27.75} <music21.note.Note C>\n",
      "{28.0} <music21.chord.Chord F2 C8>\n",
      "{28.25} <music21.chord.Chord F2 G3>\n",
      "{28.5} <music21.chord.Chord F2 G4>\n",
      "{28.75} <music21.chord.Chord F2 F4>\n",
      "{29.0} <music21.chord.Chord B-3 C4 F4 G#4 C8>\n",
      "{29.25} <music21.chord.Chord B-3 G4 G#4>\n",
      "{29.5} <music21.note.Rest rest>\n",
      "{29.75} <music21.chord.Chord C0 D2 C4>\n",
      "{30.0} <music21.chord.Chord A2 A4>\n",
      "{30.25} <music21.chord.Chord G#4 A4>\n",
      "{30.5} <music21.chord.Chord F2 A4>\n",
      "{30.75} <music21.note.Rest rest>\n",
      "{31.0} <music21.chord.Chord E-2 F3 G3 C8>\n",
      "{31.25} <music21.chord.Chord B- F2 G3 G#4>\n",
      "{31.5} <music21.chord.Chord B- A4>\n",
      "{31.75} <music21.chord.Chord E C1 E-2 E3 C4 D4 G#4 C8 F#8>\n",
      "{32.0} <music21.chord.Chord G3 D4 F4 C8 F#8>\n",
      "{32.25} <music21.chord.Chord D4 F4>\n",
      "{32.5} <music21.note.Rest rest>\n",
      "{32.75} <music21.note.Note E>\n",
      "{33.0} <music21.note.Note B->\n",
      "{33.5} <music21.chord.Chord C1 C4 G4>\n",
      "{33.75} <music21.note.Note B->\n",
      "{34.0} <music21.chord.Chord B- E2>\n",
      "{34.25} <music21.note.Note D>\n",
      "{34.5} <music21.chord.Chord B- D5>\n",
      "{34.75} <music21.chord.Chord B- E0 F2 D5 B5>\n",
      "{35.0} <music21.chord.Chord B- F2 E-4 D5 C8>\n",
      "{35.25} <music21.note.Note F>\n",
      "{35.5} <music21.chord.Chord C4 C8>\n",
      "{35.75} <music21.chord.Chord F3 G4>\n",
      "{36.0} <music21.chord.Chord B- G4 C8>\n",
      "{36.25} <music21.chord.Chord B- G6 C8>\n",
      "{36.5} <music21.note.Note D>\n",
      "{36.75} <music21.note.Rest rest>\n",
      "{37.25} <music21.note.Note F>\n",
      "{37.5} <music21.chord.Chord E3 F3 C8>\n",
      "{37.75} <music21.chord.Chord C4 B-4 C8>\n",
      "{38.0} <music21.chord.Chord E0 D2 C4>\n",
      "{38.25} <music21.chord.Chord D2 C4 B4>\n",
      "{38.5} <music21.note.Note E->\n",
      "{38.75} <music21.note.Note B->\n",
      "{39.0} <music21.note.Rest rest>\n",
      "{39.5} <music21.chord.Chord B-3 D4 G4 G#7>\n",
      "{39.75} <music21.chord.Chord E-2 B-3>\n",
      "{40.0} <music21.note.Rest rest>\n",
      "{40.75} <music21.chord.Chord F3 C4 G6>\n",
      "{41.0} <music21.note.Note G>\n",
      "{41.5} <music21.note.Note B->\n",
      "{41.75} <music21.chord.Chord B- E0>\n",
      "{42.0} <music21.chord.Chord E-1 F3>\n",
      "{42.25} <music21.chord.Chord E0 E-1 C#3 F3 E4 G6>\n",
      "{42.5} <music21.note.Rest rest>\n",
      "{43.0} <music21.note.Note C>\n",
      "{43.25} <music21.note.Rest rest>\n",
      "{44.25} <music21.chord.Chord C2 E2 F#8>\n",
      "{44.5} <music21.note.Rest rest>\n",
      "{45.25} <music21.chord.Chord E-1 G6>\n",
      "{45.5} <music21.note.Rest rest>\n",
      "{45.75} <music21.note.Note G>\n",
      "{46.0} <music21.note.Rest rest>\n",
      "{46.25} <music21.note.Note C>\n",
      "{46.5} <music21.chord.Chord C3 B-4>\n",
      "{46.75} <music21.note.Rest rest>\n",
      "{47.0} <music21.chord.Chord C0 B-4 E-5>\n",
      "{47.25} <music21.note.Note B->\n",
      "{47.5} <music21.chord.Chord E-2 C4 A4 B5>\n",
      "{47.75} <music21.chord.Chord C4 B5>\n",
      "{48.0} <music21.chord.Chord F4 B5>\n",
      "{48.25} <music21.chord.Chord G3 E4 B5>\n",
      "{48.5} <music21.chord.Chord C1 E2 G3 E4>\n",
      "{48.75} <music21.note.Rest rest>\n",
      "{49.0} <music21.note.Note C>\n",
      "{49.25} <music21.chord.Chord E4 B4>\n",
      "{49.5} <music21.note.Rest rest>\n",
      "{49.75} <music21.chord.Chord G4 B4 E-5 B5>\n",
      "{50.0} <music21.chord.Chord C0 G4>\n",
      "{50.25} <music21.chord.Chord C0 C1 G4 G#5>\n",
      "{50.5} <music21.note.Note E>\n",
      "{50.75} <music21.chord.Chord C1 F#6>\n",
      "{51.0} <music21.chord.Chord C G3 B-6>\n",
      "{51.25} <music21.chord.Chord C C0 C1 E2 B5>\n",
      "{51.5} <music21.note.Note B>\n",
      "{51.75} <music21.note.Rest rest>\n",
      "{52.0} <music21.chord.Chord G2 G3 C#4 E4 G#4 E-5>\n",
      "{52.25} <music21.note.Rest rest>\n",
      "{52.75} <music21.note.Note B>\n",
      "{53.0} <music21.note.Rest rest>\n",
      "{53.25} <music21.chord.Chord C#4 E-5>\n",
      "{53.5} <music21.note.Rest rest>\n",
      "{53.75} <music21.chord.Chord E4 E-5>\n",
      "{54.0} <music21.chord.Chord G3 C#4>\n",
      "{54.25} <music21.chord.Chord C#4 E4 E-5>\n",
      "{54.5} <music21.chord.Chord D2 E-5>\n",
      "{54.75} <music21.note.Rest rest>\n",
      "{55.0} <music21.note.Note C#>\n",
      "{55.25} <music21.note.Note B>\n",
      "{55.5} <music21.chord.Chord A2 F3 C4>\n",
      "{55.75} <music21.note.Rest rest>\n",
      "{56.0} <music21.chord.Chord C#4 E4 A4>\n",
      "{56.25} <music21.note.Rest rest>\n",
      "{56.5} <music21.note.Note E>\n",
      "{56.75} <music21.chord.Chord B- G3>\n",
      "{57.0} <music21.note.Note B->\n",
      "{57.5} <music21.chord.Chord B- G3>\n",
      "{57.75} <music21.note.Rest rest>\n",
      "{58.0} <music21.chord.Chord C1 E-1>\n",
      "{58.25} <music21.chord.Chord G3 A3 D5>\n",
      "{58.5} <music21.chord.Chord G3 D5>\n",
      "{58.75} <music21.note.Rest rest>\n",
      "{59.0} <music21.chord.Chord E-3 D5>\n",
      "{59.25} <music21.note.Note E->\n",
      "{59.75} <music21.chord.Chord B- E-3 C5>\n",
      "{60.0} <music21.note.Note C>\n",
      "{60.25} <music21.chord.Chord F#2 F3 D4 A4 C5>\n",
      "{60.5} <music21.chord.Chord F3 D4 A4 C5>\n",
      "{60.75} <music21.note.Rest rest>\n",
      "{61.0} <music21.note.Note D>\n",
      "{61.25} <music21.note.Note B->\n",
      "{61.5} <music21.chord.Chord B- B-4 E-5>\n",
      "{61.75} <music21.chord.Chord B- C4 B-4 F9>\n",
      "{62.0} <music21.note.Note C>\n",
      "{62.25} <music21.note.Note C>\n",
      "{62.75} <music21.chord.Chord E4 G4 E-5>\n",
      "{63.0} <music21.note.Note B->\n",
      "{63.25} <music21.chord.Chord E-2 B-2>\n",
      "{63.5} <music21.chord.Chord B-2 B-3 G#4>\n",
      "{63.75} <music21.chord.Chord B- E-2 B-2 G3 E-5>\n",
      "{64.0} <music21.chord.Chord F0 E-2 E-5>\n",
      "{64.25} <music21.note.Note G>\n",
      "{64.5} <music21.note.Note B->\n",
      "{64.75} <music21.chord.Chord B- F2 F3 C#4 D4>\n",
      "{65.0} <music21.chord.Chord B- F2>\n",
      "{65.25} <music21.note.Rest rest>\n",
      "{65.75} <music21.chord.Chord G#4 E-5>\n",
      "{66.0} <music21.note.Note C>\n",
      "{66.25} <music21.chord.Chord F#2 C4>\n",
      "{66.5} <music21.chord.Chord A3 C4>\n",
      "{66.75} <music21.chord.Chord E-3 A3 B3 C4>\n",
      "{67.0} <music21.note.Note E->\n",
      "{67.25} <music21.chord.Chord E-3 B-3 B3 C#4 D4>\n",
      "{67.5} <music21.chord.Chord E-3 B-3 C4 D4 G#4>\n",
      "{67.75} <music21.chord.Chord E-3 A3 C4 C#4 D4>\n",
      "{68.0} <music21.chord.Chord B- E-3 C4 D4 E-4>\n",
      "{68.25} <music21.chord.Chord B- E-3 C4 D4 A4 C8>\n",
      "{68.5} <music21.chord.Chord B- E-3>\n",
      "{68.75} <music21.chord.Chord C0 C4 E-5>\n",
      "{69.0} <music21.chord.Chord F2 C4>\n",
      "{69.25} <music21.note.Note F>\n",
      "{69.5} <music21.chord.Chord B- F2 B-3>\n",
      "{69.75} <music21.chord.Chord B- C2 F2 B-3 C4>\n",
      "{70.0} <music21.chord.Chord B- E-1 D2 F2 B-3>\n",
      "{70.25} <music21.chord.Chord E B- E-1 D2 F2 G3 B-3 G6>\n",
      "{70.5} <music21.chord.Chord B- F2>\n",
      "{71.0} <music21.note.Note F>\n",
      "{71.25} <music21.chord.Chord F2 F3 E4>\n",
      "{71.5} <music21.note.Note D>\n",
      "{71.75} <music21.note.Note D>\n",
      "{72.0} <music21.note.Note B>\n",
      "{72.25} <music21.note.Note C>\n",
      "{72.5} <music21.chord.Chord G3 D4 C#5>\n",
      "{72.75} <music21.chord.Chord E-3 G3>\n",
      "{73.0} <music21.chord.Chord E-3 G3 F4>\n",
      "{73.25} <music21.note.Note F>\n",
      "{73.5} <music21.chord.Chord E2 A3 C4 F4 G#4 E-5>\n",
      "{73.75} <music21.chord.Chord F#2 D4 F4 G#4 E-5>\n",
      "{74.0} <music21.chord.Chord E-3 F4>\n",
      "{74.25} <music21.chord.Chord F4 E-5>\n",
      "{74.5} <music21.chord.Chord A3 F4>\n",
      "{74.75} <music21.chord.Chord F4 B5>\n",
      "{75.0} <music21.note.Note F>\n",
      "{75.25} <music21.note.Rest rest>\n",
      "{75.5} <music21.chord.Chord B-3 B8>\n",
      "{75.75} <music21.chord.Chord C0 C1 G3 B-3 C4 D4 F4 G#5 G#7>\n",
      "{76.0} <music21.chord.Chord B- C0 F3 G3 B-3 C4 E-5>\n",
      "{76.25} <music21.chord.Chord B- G3 B-3 F4>\n",
      "{76.5} <music21.chord.Chord B-3 F4>\n",
      "{77.25} <music21.note.Note B->\n",
      "{77.5} <music21.chord.Chord C0 B-3 F4>\n",
      "{77.75} <music21.chord.Chord B-3 F4>\n",
      "{78.0} <music21.note.Note B->\n",
      "{78.25} <music21.chord.Chord B-2 B-3>\n",
      "{78.5} <music21.chord.Chord C2 B-2 B-3 B-4 E-5 G#7 F#8>\n",
      "{78.75} <music21.chord.Chord C1 E-1 B-2 D4 B-4 E-5 G6>\n",
      "{79.0} <music21.chord.Chord B-2 G3>\n",
      "{79.25} <music21.chord.Chord B-2 G3 B-4>\n",
      "{79.5} <music21.chord.Chord B-2 G4 B-4>\n",
      "{79.75} <music21.note.Note B->\n",
      "{80.25} <music21.note.Note B->\n",
      "{80.5} <music21.note.Rest rest>\n",
      "{80.75} <music21.note.Note C>\n",
      "{81.0} <music21.chord.Chord E-1 B-2 E-5>\n",
      "{81.25} <music21.chord.Chord F#2 B-2>\n",
      "{81.5} <music21.chord.Chord B-2 B-4>\n",
      "{82.0} <music21.chord.Chord B-2 F3 B-4>\n",
      "{82.25} <music21.chord.Chord C0 F3 G#4 A4 B-4>\n",
      "{82.5} <music21.chord.Chord C0 E1 G3 B-4>\n",
      "{82.75} <music21.note.Note B->\n",
      "{83.5} <music21.chord.Chord B- B-4>\n",
      "{83.75} <music21.note.Rest rest>\n",
      "{84.25} <music21.note.Note E->\n",
      "{84.5} <music21.chord.Chord E1 E-3 C4>\n",
      "{84.75} <music21.note.Note E->\n",
      "{85.25} <music21.chord.Chord C0 E-3>\n",
      "{85.5} <music21.chord.Chord C1 F3 C4 G#4 C#5 G6>\n",
      "{85.75} <music21.note.Note C>\n",
      "{86.0} <music21.chord.Chord F#3 D4 F#4>\n",
      "{86.25} <music21.note.Rest rest>\n",
      "{87.25} <music21.chord.Chord F#2 B-3 G#4>\n",
      "{87.5} <music21.chord.Chord B-3 D4 G#4 E-5>\n",
      "{87.75} <music21.chord.Chord B-3 D4 F4>\n",
      "{88.5} <music21.chord.Chord D3 B-3 D4 F4 E-5>\n",
      "{88.75} <music21.chord.Chord B-3 D4 F4>\n",
      "{89.25} <music21.chord.Chord D3 B-3 D4 F4>\n"
     ]
    }
   ],
   "source": [
    "test_stream.show('text')"
   ]
  },
  {
   "cell_type": "code",
   "execution_count": 65,
   "metadata": {},
   "outputs": [
    {
     "name": "stdout",
     "output_type": "stream",
     "text": [
      "{0.0} <music21.instrument.Piano 'Piano'>\n",
      "{0.0} <music21.chord.Chord G2 B-2 E-3 E-4 E-5>\n",
      "{0.25} <music21.chord.Chord A2 D3 F#3 C4 D4 D5>\n",
      "{1.75} <music21.chord.Chord B-2 G3 F4 G4 D5>\n",
      "{3.25} <music21.chord.Chord C3 G#3 C4 E-4 G#4 C5>\n",
      "{4.5} <music21.chord.Chord C3 C4 E-4 C5>\n",
      "{5.5} <music21.chord.Chord C3 B-3 E-4 B-4>\n",
      "{5.75} <music21.chord.Chord C3 G#3 E-4 G#4>\n",
      "{6.25} <music21.chord.Chord D3 G3 B3 F4 G4>\n",
      "{7.0} <music21.chord.Chord E-3 G3 B3 F4 G4>\n",
      "{7.25} <music21.chord.Chord F3 G3 B3 F4 G4>\n",
      "{7.5} <music21.chord.Chord C3 G3 B3 F4 G4>\n",
      "{7.75} <music21.chord.Chord C3 F3 B-3 C4 G4>\n",
      "{8.5} <music21.chord.Chord C3 E3 B-3 C4 G4>\n",
      "{8.75} <music21.chord.Chord C3 B-3 C4 D4 G4>\n",
      "{9.0} <music21.chord.Chord F2 C3 B-3 C4 D4 G4>\n",
      "{9.25} <music21.chord.Chord F2 E-3 A3 C4 F4>\n",
      "{10.25} <music21.chord.Chord F2 E-3 A3 D4 F4>\n",
      "{10.5} <music21.chord.Chord F2 E-3 A3 C4 D4 F4>\n",
      "{10.75} <music21.chord.Chord F2 E-3 A3 C4 D4 E-4>\n",
      "{11.5} <music21.chord.Chord F2 E-3 A3 D4>\n",
      "{11.75} <music21.chord.Chord F2 E-3 A3 C4 F4>\n",
      "{12.25} <music21.chord.Chord F2 D3 B-3 F4>\n",
      "{13.75} <music21.chord.Chord F2 D3 F3 F4>\n",
      "{14.75} <music21.chord.Chord F2 D3 D4 F4>\n",
      "{15.0} <music21.chord.Chord D3 D4 F4>\n",
      "{15.25} <music21.chord.Chord E-3 A3 C4 F4>\n",
      "{16.0} <music21.chord.Chord E-3 A3 D4 F4>\n",
      "{16.25} <music21.chord.Chord E-3 A3 C4 F4>\n",
      "{16.5} <music21.chord.Chord E-3 A3 F4>\n",
      "{16.75} <music21.chord.Chord E-3 A3 E-4 F4>\n",
      "{17.5} <music21.chord.Chord E-3 A3 D4 F4>\n",
      "{17.75} <music21.chord.Chord E-3 C4 F4>\n",
      "{18.25} <music21.chord.Chord F2 E-3 C4 F4>\n",
      "{19.0} <music21.chord.Chord F2 D3 B-3 F4>\n",
      "{19.25} <music21.chord.Chord F2 F3 D4 F4>\n",
      "{19.75} <music21.chord.Chord F2 F4>\n",
      "{20.5} <music21.chord.Chord F2 E-3 C4 G4>\n",
      "{20.75} <music21.chord.Chord F2 F3 E-4 A4>\n",
      "{21.25} <music21.chord.Chord F2 B-4>\n",
      "{22.0} <music21.chord.Chord F2 D3 B-3 B-4>\n",
      "{22.25} <music21.chord.Chord F2 F3 D4 F4>\n",
      "{22.75} <music21.chord.Chord F2 G#3>\n",
      "{23.5} <music21.chord.Chord F2 F3 G3>\n",
      "{23.75} <music21.chord.Chord G3 B3 D4 G4>\n",
      "{24.25} <music21.chord.Chord F2 G4>\n",
      "{25.0} <music21.chord.Chord F2 E-3 C4 G4>\n",
      "{25.25} <music21.chord.Chord F2 G3 E-4 G4>\n",
      "{25.75} <music21.chord.Chord F2 G4>\n",
      "{26.5} <music21.chord.Chord F2 F3 D4 A4>\n",
      "{26.75} <music21.chord.Chord F2 G3 F4 B4>\n",
      "{27.25} <music21.chord.Chord F2 C5>\n",
      "{28.0} <music21.chord.Chord F2 E-3 C4 C5>\n",
      "{28.25} <music21.chord.Chord F2 G3 E-4 G4>\n",
      "{28.75} <music21.chord.Chord F2 B-3>\n",
      "{29.5} <music21.chord.Chord F2 E3 A3>\n",
      "{29.75} <music21.chord.Chord A3 C#4 E4 A4>\n",
      "{30.25} <music21.chord.Chord F2 A4>\n",
      "{31.0} <music21.chord.Chord F2 F3 D4 A4>\n",
      "{31.25} <music21.chord.Chord F2 A3 F4 A4>\n",
      "{31.75} <music21.chord.Chord F2 A4>\n",
      "{32.5} <music21.chord.Chord F2 G3 C#4 B4>\n",
      "{32.75} <music21.chord.Chord A3 E4 C#5>\n",
      "{33.25} <music21.chord.Chord F2 D5>\n",
      "{34.0} <music21.chord.Chord F2 F3 D4 D5>\n",
      "{34.25} <music21.chord.Chord F2 A3 F4 D5>\n",
      "{34.75} <music21.chord.Chord F2 E-4 D5>\n",
      "{35.5} <music21.chord.Chord F2 A3 C5>\n",
      "{35.75} <music21.chord.Chord F3 C5>\n",
      "{36.25} <music21.chord.Chord B-2 D4 C5>\n",
      "{37.0} <music21.chord.Chord B-2 B-3 B-4>\n",
      "{37.25} <music21.chord.Chord F3 B-4>\n",
      "{37.75} <music21.chord.Chord D2 C4 B-4>\n",
      "{38.5} <music21.chord.Chord D2 F#3 A4>\n",
      "{38.75} <music21.chord.Chord D3 A4>\n",
      "{39.25} <music21.chord.Chord E-2 G4>\n",
      "{40.0} <music21.chord.Chord E-2 G3 A4>\n",
      "{40.25} <music21.chord.Chord B-2 B-4>\n",
      "{40.5} <music21.note.Note B->\n",
      "{40.75} <music21.chord.Chord F2 D5>\n",
      "{41.5} <music21.chord.Chord F2 A3 C5>\n",
      "{41.75} <music21.chord.Chord F3 F4>\n",
      "{42.25} <music21.chord.Chord F2 F3 F4 F5>\n",
      "{42.75} <music21.note.Note F>\n",
      "{43.0} <music21.chord.Chord F3 A3 C4 E-4>\n",
      "{43.25} <music21.chord.Chord C3 F3 C4 F4>\n",
      "{43.5} <music21.note.Rest rest>\n",
      "{43.75} <music21.chord.Chord F2 F4>\n",
      "{44.25} <music21.note.Note F>\n",
      "{44.5} <music21.chord.Chord F3 E-4>\n",
      "{44.75} <music21.chord.Chord C3 F3 E-4 A4>\n",
      "{45.0} <music21.note.Rest rest>\n",
      "{45.25} <music21.chord.Chord F2 A4>\n",
      "{45.75} <music21.note.Rest rest>\n",
      "{46.0} <music21.chord.Chord F3 B-3 D4 F4>\n",
      "{46.25} <music21.chord.Chord D3 F3 D4 B-4>\n",
      "{46.5} <music21.note.Note B->\n",
      "{46.75} <music21.chord.Chord F2 B-4>\n",
      "{47.25} <music21.note.Note B->\n",
      "{47.5} <music21.chord.Chord F3 C4>\n",
      "{47.75} <music21.chord.Chord C3 F3 C4 G#4>\n",
      "{48.0} <music21.note.Rest rest>\n",
      "{48.25} <music21.chord.Chord F2 G4>\n",
      "{48.75} <music21.note.Rest rest>\n",
      "{49.0} <music21.chord.Chord D3 G3 B3 F4>\n",
      "{49.25} <music21.chord.Chord B2 D3 B3 G4>\n",
      "{49.5} <music21.note.Rest rest>\n",
      "{49.75} <music21.chord.Chord F2 G4>\n",
      "{50.25} <music21.note.Note G>\n",
      "{50.5} <music21.chord.Chord F3 D4>\n",
      "{50.75} <music21.chord.Chord D3 F3 D4 B4>\n",
      "{51.0} <music21.note.Rest rest>\n",
      "{51.25} <music21.chord.Chord F2 B4>\n",
      "{51.75} <music21.note.Note B>\n",
      "{52.0} <music21.chord.Chord G3 C4 E-4 G4>\n",
      "{52.25} <music21.chord.Chord E-3 G3 E-4 C5>\n",
      "{52.5} <music21.note.Note C>\n",
      "{52.75} <music21.chord.Chord F2 C5>\n",
      "{53.25} <music21.note.Note C>\n",
      "{53.5} <music21.chord.Chord F3 D4>\n",
      "{53.75} <music21.chord.Chord D3 F3 D4 B-4>\n",
      "{54.0} <music21.note.Note B->\n",
      "{54.25} <music21.chord.Chord F2 B-4>\n",
      "{54.75} <music21.note.Note B->\n",
      "{55.0} <music21.chord.Chord E3 A3 C#4 G4>\n",
      "{55.25} <music21.chord.Chord C#3 E3 C#4 A4>\n",
      "{55.5} <music21.note.Rest rest>\n",
      "{55.75} <music21.chord.Chord F2 A4>\n",
      "{56.25} <music21.note.Note A>\n",
      "{56.5} <music21.chord.Chord G3 E4>\n",
      "{56.75} <music21.chord.Chord E3 G3 E4 C#5>\n",
      "{57.0} <music21.note.Rest rest>\n",
      "{57.25} <music21.chord.Chord F2 D5>\n",
      "{58.0} <music21.chord.Chord F2 A3 D4 F4 D5>\n",
      "{58.25} <music21.chord.Chord F2 F3 A3 F4 A4 D5>\n",
      "{58.5} <music21.chord.Chord A3 F4 A4 D5>\n",
      "{58.75} <music21.chord.Chord E-3 E-4 D5>\n",
      "{59.5} <music21.chord.Chord E-3 C4 C5>\n",
      "{59.75} <music21.chord.Chord E-3 A3 C5>\n",
      "{60.0} <music21.chord.Chord E-3 C5>\n",
      "{60.25} <music21.chord.Chord D3 D4 C5>\n",
      "{61.0} <music21.chord.Chord D3 B-3 B-4>\n",
      "{61.25} <music21.chord.Chord D3 F3 B-4>\n",
      "{61.5} <music21.chord.Chord D3 B-4>\n",
      "{61.75} <music21.chord.Chord C3 C4 B-4>\n",
      "{62.5} <music21.chord.Chord C3 A3 A4>\n",
      "{62.75} <music21.chord.Chord C3 F#3 A4>\n",
      "{63.0} <music21.chord.Chord E-2 B-2 C3 A4>\n",
      "{63.25} <music21.chord.Chord E-2 B-2 G3 B-3 G4>\n",
      "{64.0} <music21.chord.Chord E-2 B-2 A3 A4>\n",
      "{64.25} <music21.chord.Chord E-2 B-2 B-3 B-4>\n",
      "{64.5} <music21.chord.Chord F2 E-3>\n",
      "{64.75} <music21.chord.Chord F2 E-3 D4 F4 D5>\n",
      "{65.25} <music21.chord.Chord F2 E-3 D4 D5>\n",
      "{65.5} <music21.chord.Chord C4 C5>\n",
      "{65.75} <music21.chord.Chord D4 F4>\n",
      "{66.0} <music21.chord.Chord F2 C4 D4 E-4 F4>\n",
      "{66.25} <music21.chord.Chord F2 E-3 A3 C4 E-4 F5>\n",
      "{66.75} <music21.chord.Chord F2 E-3 A3 C4 E-4>\n",
      "{67.0} <music21.chord.Chord F2 E-3 A3 C4>\n",
      "{67.25} <music21.chord.Chord F2 E-3 A3 D4>\n",
      "{67.5} <music21.chord.Chord F2 E-3 A3 C4 D4>\n",
      "{67.75} <music21.chord.Chord F2 E-3 A3 C4 D4 E-4>\n",
      "{68.5} <music21.chord.Chord F2 E-3 A3 D4>\n",
      "{68.75} <music21.chord.Chord F2 E-3 A3 C4>\n",
      "{69.25} <music21.chord.Chord F2 D3 B-3>\n",
      "{70.75} <music21.chord.Chord F2 D3 F3>\n",
      "{71.75} <music21.chord.Chord F2 D3 D4>\n",
      "{72.0} <music21.chord.Chord D3 D4>\n",
      "{72.25} <music21.chord.Chord E-3 A3 C4 F4>\n",
      "{73.0} <music21.chord.Chord E-3 A3 D4 F4>\n",
      "{73.25} <music21.chord.Chord E-3 A3 C4 F4>\n",
      "{73.75} <music21.chord.Chord E-3 A3 E-4 F4>\n",
      "{74.5} <music21.chord.Chord E-3 A3 D4 F4>\n",
      "{74.75} <music21.chord.Chord E-3 A3 C4 F4>\n",
      "{75.25} <music21.chord.Chord D3 B-3 F4>\n",
      "{76.75} <music21.chord.Chord D3 B-3 F4>\n",
      "{77.75} <music21.chord.Chord B-2 B-3 F4>\n",
      "{78.25} <music21.chord.Chord B-2 G3 B-3 B-4>\n",
      "{79.75} <music21.chord.Chord B-2 B-4>\n",
      "{80.5} <music21.chord.Chord B-2 A3 B-4>\n",
      "{80.75} <music21.chord.Chord B-2 G3 B-3>\n",
      "{81.25} <music21.chord.Chord B-2 F3 B-4>\n",
      "{82.75} <music21.note.Note B->\n",
      "{83.75} <music21.chord.Chord B-2 B-3 B-4>\n",
      "{84.25} <music21.chord.Chord B1 E-3 B-3 E-4>\n",
      "{85.5} <music21.chord.Chord B1 B-3>\n",
      "{85.75} <music21.chord.Chord F#3 A3 F#4>\n",
      "{86.5} <music21.chord.Chord F3 A3 F4>\n",
      "{86.75} <music21.chord.Chord E-3 A3 E-4>\n",
      "{87.25} <music21.chord.Chord B-1 B-3 D4>\n",
      "{87.5} <music21.chord.Chord D3 B-3 D4 F4>\n"
     ]
    }
   ],
   "source": [
    "stream1.show('text')"
   ]
  },
  {
   "cell_type": "code",
   "execution_count": null,
   "metadata": {},
   "outputs": [],
   "source": []
  }
 ],
 "metadata": {
  "kernelspec": {
   "display_name": "Python 3",
   "language": "python",
   "name": "python3"
  },
  "language_info": {
   "codemirror_mode": {
    "name": "ipython",
    "version": 3
   },
   "file_extension": ".py",
   "mimetype": "text/x-python",
   "name": "python",
   "nbconvert_exporter": "python",
   "pygments_lexer": "ipython3",
   "version": "3.7.9"
  }
 },
 "nbformat": 4,
 "nbformat_minor": 4
}
