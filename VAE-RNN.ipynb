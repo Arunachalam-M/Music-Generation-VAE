{
 "cells": [
  {
   "cell_type": "code",
   "execution_count": 1,
   "metadata": {},
   "outputs": [],
   "source": [
    "from music21 import converter, instrument, note, chord, stream, midi, instrument\n",
    "from scipy import sparse\n",
    "import time\n",
    "import tqdm.auto\n",
    "import glob\n",
    "import numpy as np\n",
    "import pandas as pd\n",
    "import torch\n",
    "import torch.nn as nn\n",
    "import torch.optim as optim\n",
    "import math"
   ]
  },
  {
   "cell_type": "code",
   "execution_count": 2,
   "metadata": {},
   "outputs": [],
   "source": [
    "import os\n",
    "os.environ['CUDA_LAUNCH_BLOCKING'] = '1'"
   ]
  },
  {
   "cell_type": "code",
   "execution_count": 3,
   "metadata": {},
   "outputs": [],
   "source": [
    "def streamToData(stream_set):\n",
    "    stream = stream_set.parts[0]\n",
    "    total_length = np.int(np.round(stream.flat.highestTime / 0.25)) # in semiquavers\n",
    "    stream_list = []\n",
    "    output = np.zeros((total_length,128))\n",
    "    \n",
    "    for stream in stream_set:\n",
    "        for element in stream.flat:\n",
    "            if isinstance(element, note.Note):\n",
    "                off = np.int(np.round(element.offset / 0.25))\n",
    "                length = np.int(np.round(element.quarterLength / 0.25))\n",
    "                pitch = element.pitch.midi\n",
    "                output[off:off+length,pitch] = 1\n",
    "            elif isinstance(element, chord.Chord):\n",
    "                off = np.int(np.round(element.offset / 0.25))\n",
    "                length = np.int(np.round(element.quarterLength / 0.25))\n",
    "                pitches = np.array([np.int(np.round(i.midi)) for i in element.pitches])\n",
    "                times = np.arange(off,off+length)\n",
    "                output[off:off+length,pitches] = 1\n",
    "            \n",
    "    return sparse.csr_matrix(output)\n",
    "\n",
    "def DataToStream(data_mat, time_signature = 0.25):\n",
    "    melody_stream = stream.Stream()\n",
    "    melody_stream.append(instrument.Piano())\n",
    "    t,k = data_mat.shape\n",
    "    old_element = None\n",
    "    counter = 1\n",
    "    for i in range(t):\n",
    "        arr = data_mat[i,:]\n",
    "        r = np.int(np.sum(arr))\n",
    "        \n",
    "        if r == 1:\n",
    "            #print(np.argmax(arr))\n",
    "            new_element = note.Note(np.argmax(arr))\n",
    "        elif r > 1:\n",
    "            #print(arr)\n",
    "            arr = arr.todense()\n",
    "            #print(np.where(arr == 1)[1])\n",
    "            pitches = np.where(arr == 1)[1]\n",
    "            all_notes = np.array([note.Note(i) for i in pitches])\n",
    "            new_element = chord.Chord(all_notes)\n",
    "        else:\n",
    "            #print(r)\n",
    "            new_element = note.Rest()\n",
    "        \n",
    "        if new_element == old_element and counter < 6:\n",
    "            counter += 1\n",
    "        else:\n",
    "            if old_element:\n",
    "                old_element.quarterLength = time_signature*counter\n",
    "                melody_stream.append(old_element)\n",
    "            counter = 1\n",
    "            \n",
    "        old_element = new_element\n",
    "            \n",
    "    return melody_stream"
   ]
  },
  {
   "cell_type": "code",
   "execution_count": 4,
   "metadata": {},
   "outputs": [],
   "source": [
    "classes = ['bach','backstreetboys','beatles','beethoven','brahms','britneyspears',\n",
    "             'chopin','coldplay','debussy','haydn','liszt','mendelssohn',\n",
    "            'mozart','nirvana','paganini','queen','rachmaninow','schubert',\n",
    "            'schumann','tchaikovsky']\n",
    "datasets = [folder + '_dataset.npz' for folder in classes]\n",
    "labels = np.arange(20)"
   ]
  },
  {
   "cell_type": "code",
   "execution_count": 5,
   "metadata": {},
   "outputs": [],
   "source": [
    "song_length = 320\n",
    "sample_size = 20\n",
    "n_classes = len(classes)\n",
    "device = \"cuda:0\""
   ]
  },
  {
   "cell_type": "code",
   "execution_count": 6,
   "metadata": {},
   "outputs": [],
   "source": [
    "data = []\n",
    "for file in datasets:\n",
    "    d = []\n",
    "    subset = np.load(file,allow_pickle=True)\n",
    "    for item in subset.files:\n",
    "        d.append(subset[item])\n",
    "    data.append(d[0])\n",
    "    "
   ]
  },
  {
   "cell_type": "code",
   "execution_count": 7,
   "metadata": {},
   "outputs": [
    {
     "data": {
      "text/plain": [
       "20"
      ]
     },
     "execution_count": 7,
     "metadata": {},
     "output_type": "execute_result"
    }
   ],
   "source": [
    "len(data)"
   ]
  },
  {
   "cell_type": "code",
   "execution_count": 8,
   "metadata": {},
   "outputs": [
    {
     "data": {
      "text/plain": [
       "<2388x128 sparse matrix of type '<class 'numpy.float64'>'\n",
       "\twith 6871 stored elements in Compressed Sparse Row format>"
      ]
     },
     "execution_count": 8,
     "metadata": {},
     "output_type": "execute_result"
    }
   ],
   "source": [
    "data[19][19]"
   ]
  },
  {
   "cell_type": "code",
   "execution_count": 9,
   "metadata": {},
   "outputs": [],
   "source": [
    "def random_snippet(c):\n",
    "    n_songs = len(data[c])\n",
    "    song_no = np.random.randint(n_songs)\n",
    "    song = data[c][song_no]\n",
    "    L,D = song.shape\n",
    "    start_max = L-song_length\n",
    "    if start_max > 0:\n",
    "        song_start = np.random.randint(start_max)\n",
    "    else:\n",
    "        #print(c,song_no)\n",
    "        return random_snippet(c)\n",
    "    \n",
    "    return song[song_start:song_start+song_length,:]"
   ]
  },
  {
   "cell_type": "code",
   "execution_count": 10,
   "metadata": {},
   "outputs": [
    {
     "data": {
      "text/plain": [
       "<320x128 sparse matrix of type '<class 'numpy.float64'>'\n",
       "\twith 658 stored elements in Compressed Sparse Row format>"
      ]
     },
     "execution_count": 10,
     "metadata": {},
     "output_type": "execute_result"
    }
   ],
   "source": [
    "random_snippet(3)"
   ]
  },
  {
   "cell_type": "code",
   "execution_count": 11,
   "metadata": {},
   "outputs": [
    {
     "data": {
      "text/plain": [
       "tensor([ 5,  8,  5,  9,  4, 10, 15, 18,  1, 19])"
      ]
     },
     "execution_count": 11,
     "metadata": {},
     "output_type": "execute_result"
    }
   ],
   "source": [
    "torch.randint(20,(1,10)).detach().cpu()[0]"
   ]
  },
  {
   "cell_type": "code",
   "execution_count": 12,
   "metadata": {},
   "outputs": [],
   "source": [
    "def standard_batch(size = sample_size):\n",
    "    batch = []\n",
    "    #class_id = torch.randint(20,(1,sample_size)).detach().cpu()[0]\n",
    "    #class_id = [0,3,6,12,13]*int(sample_size/5)\n",
    "    class_id = torch.arange(20).detach().cpu().tolist()\n",
    "    for i in range(size):\n",
    "        snippet = random_snippet(class_id[i])\n",
    "        batch.append(snippet)\n",
    "    return batch"
   ]
  },
  {
   "cell_type": "code",
   "execution_count": 13,
   "metadata": {},
   "outputs": [],
   "source": [
    "batch1 = standard_batch()"
   ]
  },
  {
   "cell_type": "code",
   "execution_count": 14,
   "metadata": {},
   "outputs": [],
   "source": [
    "stream1 = DataToStream(batch1[sample_size-1], time_signature = 0.25)"
   ]
  },
  {
   "cell_type": "code",
   "execution_count": 15,
   "metadata": {},
   "outputs": [
    {
     "data": {
      "text/html": [
       "\n",
       "                <div id='midiPlayerDiv1643'></div>\n",
       "                <link rel=\"stylesheet\" href=\"//cuthbertLab.github.io/music21j/css/m21.css\"\n",
       "                    type=\"text/css\" />\n",
       "                <script>\n",
       "                require.config({\n",
       "                    paths: {'music21': '//cuthbertLab.github.io/music21j/src/music21'}\n",
       "                });\n",
       "                require(['music21'], function() {\n",
       "                               mp = new music21.miditools.MidiPlayer();\n",
       "                               mp.addPlayer('#midiPlayerDiv1643');\n",
       "                               mp.base64Load('data:audio/midi;base64,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');\n",
       "                        });\n",
       "                </script>"
      ],
      "text/plain": [
       "<IPython.core.display.HTML object>"
      ]
     },
     "metadata": {},
     "output_type": "display_data"
    }
   ],
   "source": [
    "stream1.show('midi')"
   ]
  },
  {
   "cell_type": "code",
   "execution_count": 16,
   "metadata": {},
   "outputs": [
    {
     "data": {
      "text/plain": [
       "(20, 320, 128)"
      ]
     },
     "execution_count": 16,
     "metadata": {},
     "output_type": "execute_result"
    }
   ],
   "source": [
    "batch2 = np.array([a.todense() for a in batch1])\n",
    "batch2.shape"
   ]
  },
  {
   "cell_type": "code",
   "execution_count": 17,
   "metadata": {},
   "outputs": [],
   "source": [
    "def sample():\n",
    "    batch1 = standard_batch()\n",
    "    batch2 = np.array([a.todense() for a in batch1])\n",
    "    device = \"cuda:0\"\n",
    "    batch3 = torch.from_numpy(batch2).to(device).float()\n",
    "    return batch3\n",
    "    "
   ]
  },
  {
   "cell_type": "code",
   "execution_count": 18,
   "metadata": {},
   "outputs": [],
   "source": [
    "def torch_convert(song):\n",
    "    batch2 = song.todense()\n",
    "    device = \"cuda:0\"\n",
    "    batch3 = torch.from_numpy(batch2).to(device).float()\n",
    "    return batch3.view(1,song.shape[0],song.shape[1])"
   ]
  },
  {
   "cell_type": "code",
   "execution_count": 19,
   "metadata": {},
   "outputs": [
    {
     "data": {
      "text/plain": [
       "torch.Size([20, 320, 128])"
      ]
     },
     "execution_count": 19,
     "metadata": {},
     "output_type": "execute_result"
    }
   ],
   "source": [
    "batch = sample()\n",
    "batch.shape"
   ]
  },
  {
   "cell_type": "code",
   "execution_count": 20,
   "metadata": {},
   "outputs": [],
   "source": [
    "class LingLing_VAE(nn.Module):\n",
    "    def __init__(self, input_dim=128, hidden_dim=512, latent_dim = 20, num_layers = 3):\n",
    "        super(LingLing_VAE, self).__init__()\n",
    "        \n",
    "        device = \"cuda:0\"\n",
    "        self.hidden_dim = hidden_dim\n",
    "        self.input_dim = input_dim\n",
    "        self.latent_dim = latent_dim\n",
    "        self.num_layers = num_layers\n",
    "        \n",
    "        self.encoder = nn.LSTM(self.input_dim,self.hidden_dim,num_layers = self.num_layers)\n",
    "        self.compressor = nn.Linear(self.hidden_dim*self.num_layers,self.latent_dim*2)\n",
    "        self.decompressor = nn.Linear(self.latent_dim,self.hidden_dim*self.num_layers)\n",
    "        self.decoder = nn.LSTM(self.input_dim+self.latent_dim,self.hidden_dim,num_layers=self.num_layers)\n",
    "        self.output = nn.Linear(self.hidden_dim,self.input_dim)\n",
    "        \n",
    "        self.encoder.to(device)\n",
    "        self.compressor.to(device)\n",
    "        self.decompressor.to(device)\n",
    "        self.decoder.to(device)\n",
    "        self.output.to(device)\n",
    "    \n",
    "    def reparameterize(self, mu, log_var):\n",
    "        std = torch.exp(0.5*log_var)\n",
    "        eps = torch.randn_like(std)\n",
    "        sample = mu + (eps * std)\n",
    "        return sample\n",
    "        \n",
    "\n",
    "    def forward(self, song):\n",
    "        inputs = song[:, :-1, :]\n",
    "        inputs = inputs.permute(1,0,2)\n",
    "        \n",
    "        _,(hidden_rep, _) = self.encoder(inputs)\n",
    "        latent_rep = self.compressor(hidden_rep.view(-1,self.hidden_dim*self.num_layers))\n",
    "        latent_rep = latent_rep.view(-1,2,self.latent_dim)\n",
    "        \n",
    "        mu = latent_rep[:,0, :]\n",
    "        log_var = latent_rep[:,1, :] \n",
    "        z = self.reparameterize(mu, log_var)\n",
    "        #z = mu\n",
    "        \n",
    "        latent_rep_context = z.repeat(inputs.shape[0],1,1)\n",
    "        decoder_input_rep = torch.cat((inputs,latent_rep_context), 2)\n",
    "        \n",
    "        hidden_out = self.decompressor(z)\n",
    "        h0 = hidden_out.view(self.num_layers,-1,self.hidden_dim).contiguous()\n",
    "        c0 = torch.zeros(h0.shape).to(device)\n",
    "        \n",
    "        o1, (h, _) = self.decoder(decoder_input_rep, (h0,c0))\n",
    "        o1 = o1.permute(1,0,2)\n",
    "        reconstruction = self.output(o1)\n",
    "        reconstruction = torch.sigmoid(reconstruction)\n",
    "                \n",
    "        return reconstruction, mu, log_var\n",
    "    \n",
    "    def generate_song(self, song_start, mu, log_var, max_length=600):\n",
    "        device = \"cuda:0\"\n",
    "\n",
    "        z = self.reparameterize(mu, log_var)\n",
    "\n",
    "        hidden_out = self.decompressor(z)\n",
    "        h0 = hidden_out.view(self.num_layers,-1,self.hidden_dim).contiguous()\n",
    "        c0 = torch.zeros(h0.shape).to(device)\n",
    "\n",
    "        latent_rep_context = z.repeat(song_start.shape[0],1,1)\n",
    "        song_start = song_start.view(1,song_start.shape[0],song_start.shape[1])\n",
    "        song_start = song_start.permute(1,0,2)\n",
    "\n",
    "        song_start_input = torch.cat((song_start,latent_rep_context), 2)\n",
    "\n",
    "        _, (prev_h, prev_c) = self.decoder(song_start_input, (h0,c0))\n",
    "\n",
    "        song_out = torch.zeros((max_length, self.input_dim), dtype=torch.long).to(device)\n",
    "\n",
    "        prev_chords = song_start[-1,:]\n",
    "\n",
    "        t = 0\n",
    "        while t<max_length:\n",
    "\n",
    "            prev_chords = prev_chords.view(1,1,self.input_dim)\n",
    "            latent_rep_context = z.repeat(prev_chords.shape[0],1,1)\n",
    "\n",
    "            decoder_input_rep = torch.cat((prev_chords,latent_rep_context), 2)\n",
    "\n",
    "            out, (next_h, next_c) = self.decoder(decoder_input_rep, (prev_h, prev_c))   \n",
    "\n",
    "            prev_c,prev_h = next_c,next_h\n",
    "            out = out.view(out.shape[1],out.shape[2])\n",
    "\n",
    "            out = self.output(out)\n",
    "            out = torch.sigmoid(out)\n",
    "\n",
    "            formatted_out = torch.bernoulli(out.view(-1))\n",
    "            #formatted_out = (out>0.6).float()\n",
    "            \n",
    "            song_out[t,:] = formatted_out\n",
    "            prev_chords = formatted_out\n",
    "\n",
    "            t+=1\n",
    "\n",
    "        return song_out"
   ]
  },
  {
   "cell_type": "code",
   "execution_count": 21,
   "metadata": {},
   "outputs": [],
   "source": [
    "#model = LingLing_VAE()\n",
    "#sample_batch = sample()\n",
    "#recon,mu,log_var = model(sample_batch)\n",
    "#print(recon.shape,mu.shape,log_var.shape)"
   ]
  },
  {
   "cell_type": "code",
   "execution_count": 22,
   "metadata": {},
   "outputs": [],
   "source": [
    "#song_start = sample_batch[0]\n",
    "#mu = mu[0].view(1,mu.shape[1])\n",
    "#log_var = log_var[0].view(1,log_var.shape[1])\n",
    "\n",
    "#song_start.detach()\n",
    "#mu.detach()\n",
    "#log_var.detach()\n",
    "\n",
    "#generated_sample = model.generate_song(song_start, mu, log_var, max_length=360)"
   ]
  },
  {
   "cell_type": "code",
   "execution_count": null,
   "metadata": {},
   "outputs": [],
   "source": []
  },
  {
   "cell_type": "code",
   "execution_count": 23,
   "metadata": {},
   "outputs": [],
   "source": [
    "model = LingLing_VAE()\n",
    "optimizer = optim.Adam(model.parameters(), lr=1e-5, betas =(0.9,0.999), weight_decay = 0, eps=1e-08)\n",
    "criterion = nn.BCELoss(reduction='sum')\n",
    "#optimizer = optim.SGD(model.parameters(), lr=1e-4, momentum=0.9)"
   ]
  },
  {
   "cell_type": "code",
   "execution_count": 24,
   "metadata": {},
   "outputs": [
    {
     "data": {
      "text/plain": [
       "<All keys matched successfully>"
      ]
     },
     "execution_count": 24,
     "metadata": {},
     "output_type": "execute_result"
    }
   ],
   "source": [
    "model.load_state_dict(torch.load('Ling_ling_VAE2.pt'))"
   ]
  },
  {
   "cell_type": "code",
   "execution_count": 25,
   "metadata": {},
   "outputs": [
    {
     "name": "stdout",
     "output_type": "stream",
     "text": [
      "Iteration : 249  Loss : 2097.5390625 Running Average Loss : 1507.4351134765625\n",
      "Reconstruction Loss 1280.818251171875  KLD Loss 226.61685943603516\n",
      "Iteration : 499  Loss : 3730.2890625 Running Average Loss : 2873.927471484375\n",
      "Reconstruction Loss 1273.5427984375  KLD Loss 1600.3847122192383\n",
      "Iteration : 749  Loss : 1835.0994140625 Running Average Loss : 2491.5426123046873\n",
      "Reconstruction Loss 1262.494853515625  KLD Loss 1229.0477752685547\n",
      "Iteration : 999  Loss : 3317.97265625 Running Average Loss : 2661.801773828125\n",
      "Reconstruction Loss 1282.55030703125  KLD Loss 1379.251480102539\n",
      "Iteration : 1249  Loss : 272.7484375 Running Average Loss : 2519.5558962890623\n",
      "Reconstruction Loss 1273.818846875  KLD Loss 1245.737075805664\n",
      "Iteration : 1499  Loss : 7606.2203125 Running Average Loss : 2501.6695111328127\n",
      "Reconstruction Loss 1264.277122265625  KLD Loss 1237.3924255371094\n"
     ]
    },
    {
     "ename": "KeyboardInterrupt",
     "evalue": "",
     "output_type": "error",
     "traceback": [
      "\u001b[1;31m---------------------------------------------------------------------------\u001b[0m",
      "\u001b[1;31mKeyboardInterrupt\u001b[0m                         Traceback (most recent call last)",
      "\u001b[1;32m<ipython-input-25-a998ad910bf3>\u001b[0m in \u001b[0;36m<module>\u001b[1;34m\u001b[0m\n\u001b[0;32m     25\u001b[0m     \u001b[0mkl_loss\u001b[0m \u001b[1;33m+=\u001b[0m \u001b[0mKLD_weight\u001b[0m\u001b[1;33m*\u001b[0m\u001b[0mKLD_loss\u001b[0m\u001b[1;33m.\u001b[0m\u001b[0mitem\u001b[0m\u001b[1;33m(\u001b[0m\u001b[1;33m)\u001b[0m\u001b[1;33m\u001b[0m\u001b[1;33m\u001b[0m\u001b[0m\n\u001b[0;32m     26\u001b[0m \u001b[1;33m\u001b[0m\u001b[0m\n\u001b[1;32m---> 27\u001b[1;33m     \u001b[0mloss\u001b[0m\u001b[1;33m.\u001b[0m\u001b[0mbackward\u001b[0m\u001b[1;33m(\u001b[0m\u001b[1;33m)\u001b[0m\u001b[1;33m\u001b[0m\u001b[1;33m\u001b[0m\u001b[0m\n\u001b[0m\u001b[0;32m     28\u001b[0m     \u001b[0moptimizer\u001b[0m\u001b[1;33m.\u001b[0m\u001b[0mstep\u001b[0m\u001b[1;33m(\u001b[0m\u001b[1;33m)\u001b[0m\u001b[1;33m\u001b[0m\u001b[1;33m\u001b[0m\u001b[0m\n\u001b[0;32m     29\u001b[0m \u001b[1;33m\u001b[0m\u001b[0m\n",
      "\u001b[1;32mC:\\ProgramData\\Anaconda3\\lib\\site-packages\\torch\\tensor.py\u001b[0m in \u001b[0;36mbackward\u001b[1;34m(self, gradient, retain_graph, create_graph)\u001b[0m\n\u001b[0;32m    193\u001b[0m                 \u001b[0mproducts\u001b[0m\u001b[1;33m.\u001b[0m \u001b[0mDefaults\u001b[0m \u001b[0mto\u001b[0m\u001b[0;31m \u001b[0m\u001b[0;31m`\u001b[0m\u001b[0;31m`\u001b[0m\u001b[1;32mFalse\u001b[0m\u001b[0;31m`\u001b[0m\u001b[0;31m`\u001b[0m\u001b[1;33m.\u001b[0m\u001b[1;33m\u001b[0m\u001b[1;33m\u001b[0m\u001b[0m\n\u001b[0;32m    194\u001b[0m         \"\"\"\n\u001b[1;32m--> 195\u001b[1;33m         \u001b[0mtorch\u001b[0m\u001b[1;33m.\u001b[0m\u001b[0mautograd\u001b[0m\u001b[1;33m.\u001b[0m\u001b[0mbackward\u001b[0m\u001b[1;33m(\u001b[0m\u001b[0mself\u001b[0m\u001b[1;33m,\u001b[0m \u001b[0mgradient\u001b[0m\u001b[1;33m,\u001b[0m \u001b[0mretain_graph\u001b[0m\u001b[1;33m,\u001b[0m \u001b[0mcreate_graph\u001b[0m\u001b[1;33m)\u001b[0m\u001b[1;33m\u001b[0m\u001b[1;33m\u001b[0m\u001b[0m\n\u001b[0m\u001b[0;32m    196\u001b[0m \u001b[1;33m\u001b[0m\u001b[0m\n\u001b[0;32m    197\u001b[0m     \u001b[1;32mdef\u001b[0m \u001b[0mregister_hook\u001b[0m\u001b[1;33m(\u001b[0m\u001b[0mself\u001b[0m\u001b[1;33m,\u001b[0m \u001b[0mhook\u001b[0m\u001b[1;33m)\u001b[0m\u001b[1;33m:\u001b[0m\u001b[1;33m\u001b[0m\u001b[1;33m\u001b[0m\u001b[0m\n",
      "\u001b[1;32mC:\\ProgramData\\Anaconda3\\lib\\site-packages\\torch\\autograd\\__init__.py\u001b[0m in \u001b[0;36mbackward\u001b[1;34m(tensors, grad_tensors, retain_graph, create_graph, grad_variables)\u001b[0m\n\u001b[0;32m     97\u001b[0m     Variable._execution_engine.run_backward(\n\u001b[0;32m     98\u001b[0m         \u001b[0mtensors\u001b[0m\u001b[1;33m,\u001b[0m \u001b[0mgrad_tensors\u001b[0m\u001b[1;33m,\u001b[0m \u001b[0mretain_graph\u001b[0m\u001b[1;33m,\u001b[0m \u001b[0mcreate_graph\u001b[0m\u001b[1;33m,\u001b[0m\u001b[1;33m\u001b[0m\u001b[1;33m\u001b[0m\u001b[0m\n\u001b[1;32m---> 99\u001b[1;33m         allow_unreachable=True)  # allow_unreachable flag\n\u001b[0m\u001b[0;32m    100\u001b[0m \u001b[1;33m\u001b[0m\u001b[0m\n\u001b[0;32m    101\u001b[0m \u001b[1;33m\u001b[0m\u001b[0m\n",
      "\u001b[1;31mKeyboardInterrupt\u001b[0m: "
     ]
    }
   ],
   "source": [
    "optimizer.zero_grad()\n",
    "iterations = 10000 + 1\n",
    "total_loss = 0\n",
    "re_loss = 0\n",
    "kl_loss = 0\n",
    "new_sample_cycle = 1\n",
    "KLD_weight = 1e10\n",
    "\n",
    "for i in range(iterations):\n",
    "    \n",
    "    if i%new_sample_cycle == 0:\n",
    "        sample_batch = sample()\n",
    "\n",
    "    optimizer.zero_grad()\n",
    "    reconstruction,mu,log_var = model(sample_batch)\n",
    "        \n",
    "    reconstruction_loss = criterion(reconstruction.view(-1,(song_length-1)*128), sample_batch[:, 1:, :].view(-1,(song_length-1)*128))\n",
    "    \n",
    "    KLD_loss = torch.sum(-0.5 * torch.sum(1 + log_var - mu ** 2 - log_var.exp(), dim = 1), dim = 0)\n",
    "    \n",
    "    loss = reconstruction_loss + KLD_weight*KLD_loss\n",
    "    \n",
    "    total_loss += loss.item()\n",
    "    re_loss += reconstruction_loss.item()\n",
    "    kl_loss += KLD_weight*KLD_loss.item()\n",
    "    \n",
    "    loss.backward()\n",
    "    optimizer.step()\n",
    "    \n",
    "    if i%250 == 249:\n",
    "        print(\"Iteration :\",i, \" Loss :\", loss.item()/sample_size, \"Running Average Loss :\", total_loss/(250*sample_size))\n",
    "        print(\"Reconstruction Loss\", re_loss/(250*sample_size),\" KLD Loss\", kl_loss/(250*sample_size))\n",
    "        if (kl_loss/(250*sample_size)) < 1000:\n",
    "            KLD_weight = KLD_weight*10\n",
    "        total_loss,re_loss,kl_loss = 0,0,0\n",
    "        \n",
    "    #if i%new_sample_cycle == 0: \n",
    "    #    print(\"Iteration :\",i, \" Starting Loss :\", loss.item()/sample_size)"
   ]
  },
  {
   "cell_type": "code",
   "execution_count": null,
   "metadata": {},
   "outputs": [],
   "source": [
    "torch.save(model.state_dict(), 'Ling_ling_VAE3.pt')"
   ]
  },
  {
   "cell_type": "code",
   "execution_count": null,
   "metadata": {},
   "outputs": [],
   "source": []
  },
  {
   "cell_type": "code",
   "execution_count": null,
   "metadata": {},
   "outputs": [],
   "source": []
  },
  {
   "cell_type": "code",
   "execution_count": 26,
   "metadata": {},
   "outputs": [],
   "source": [
    "path = \"./Data/ac_dc_thunderstruck.mid\"\n",
    "mf = midi.MidiFile()\n",
    "mf.open(path)\n",
    "mf.read()\n",
    "mf.close()\n",
    "loaded_song = midi.translate.midiFileToStream(mf)"
   ]
  },
  {
   "cell_type": "code",
   "execution_count": 47,
   "metadata": {},
   "outputs": [],
   "source": [
    "song_data = streamToData(loaded_song)\n",
    "batch1 = song_data[0:120,:]\n",
    "batch2 = np.array([a.todense() for a in batch1])\n",
    "device = \"cuda:0\"\n",
    "batch3 = torch.from_numpy(batch2).to(device).float()\n",
    "batch3 = batch3.permute(1,0,2).squeeze(0)\n",
    "song_start = batch3"
   ]
  },
  {
   "cell_type": "code",
   "execution_count": 28,
   "metadata": {},
   "outputs": [
    {
     "data": {
      "text/plain": [
       "LingLing_VAE(\n",
       "  (encoder): LSTM(128, 512, num_layers=3)\n",
       "  (compressor): Linear(in_features=1536, out_features=40, bias=True)\n",
       "  (decompressor): Linear(in_features=20, out_features=1536, bias=True)\n",
       "  (decoder): LSTM(148, 512, num_layers=3)\n",
       "  (output): Linear(in_features=512, out_features=128, bias=True)\n",
       ")"
      ]
     },
     "execution_count": 28,
     "metadata": {},
     "output_type": "execute_result"
    }
   ],
   "source": [
    "model.eval()"
   ]
  },
  {
   "cell_type": "code",
   "execution_count": 101,
   "metadata": {},
   "outputs": [
    {
     "name": "stdout",
     "output_type": "stream",
     "text": [
      "torch.Size([20, 319, 128]) torch.Size([20, 20]) torch.Size([20, 20])\n"
     ]
    }
   ],
   "source": [
    "sample_batch = sample()\n",
    "recon,mu_vec,log_var_vec = model(sample_batch)\n",
    "print(recon.shape,mu_vec.shape,log_var_vec.shape)"
   ]
  },
  {
   "cell_type": "code",
   "execution_count": 102,
   "metadata": {},
   "outputs": [],
   "source": [
    "#0-bach,1-backstreetboys,2-beatles,3-beethoven,4-brahms,5-britneyspears, 6-chopin,7-coldplay, 8-debussy, 9-haydn, 10-liszt,\n",
    "#11-mendelssohn, 12-mozart, 13-nirvana, 14-paganini, 15-queen, 16-rachmaninow, 17-schubert, 18-schumann,19-tchaikovsky\n",
    "\n",
    "song_start = sample_batch[6]\n",
    "mu = mu_vec[6].view(1,mu_vec.shape[1])\n",
    "log_var = log_var_vec[6].view(1,log_var_vec.shape[1])"
   ]
  },
  {
   "cell_type": "code",
   "execution_count": 103,
   "metadata": {},
   "outputs": [
    {
     "data": {
      "text/html": [
       "\n",
       "                <div id='midiPlayerDiv74124'></div>\n",
       "                <link rel=\"stylesheet\" href=\"//cuthbertLab.github.io/music21j/css/m21.css\"\n",
       "                    type=\"text/css\" />\n",
       "                <script>\n",
       "                require.config({\n",
       "                    paths: {'music21': '//cuthbertLab.github.io/music21j/src/music21'}\n",
       "                });\n",
       "                require(['music21'], function() {\n",
       "                               mp = new music21.miditools.MidiPlayer();\n",
       "                               mp.addPlayer('#midiPlayerDiv74124');\n",
       "                               mp.base64Load('data:audio/midi;base64,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');\n",
       "                        });\n",
       "                </script>"
      ],
      "text/plain": [
       "<IPython.core.display.HTML object>"
      ]
     },
     "metadata": {},
     "output_type": "display_data"
    }
   ],
   "source": [
    "song = song_start.detach().cpu().numpy()\n",
    "song = sparse.csr_matrix(song)\n",
    "start_stream = DataToStream(song, time_signature = 0.25)\n",
    "start_stream.show('midi')"
   ]
  },
  {
   "cell_type": "code",
   "execution_count": 104,
   "metadata": {},
   "outputs": [
    {
     "data": {
      "text/html": [
       "\n",
       "                <div id='midiPlayerDiv75300'></div>\n",
       "                <link rel=\"stylesheet\" href=\"//cuthbertLab.github.io/music21j/css/m21.css\"\n",
       "                    type=\"text/css\" />\n",
       "                <script>\n",
       "                require.config({\n",
       "                    paths: {'music21': '//cuthbertLab.github.io/music21j/src/music21'}\n",
       "                });\n",
       "                require(['music21'], function() {\n",
       "                               mp = new music21.miditools.MidiPlayer();\n",
       "                               mp.addPlayer('#midiPlayerDiv75300');\n",
       "                               mp.base64Load('data:audio/midi;base64,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');\n",
       "                        });\n",
       "                </script>"
      ],
      "text/plain": [
       "<IPython.core.display.HTML object>"
      ]
     },
     "metadata": {},
     "output_type": "display_data"
    }
   ],
   "source": [
    "generated_sample = model.generate_song(song_start, mu, log_var, max_length=240)\n",
    "song = generated_sample.detach().cpu().numpy()\n",
    "song = sparse.csr_matrix(song)\n",
    "generated_stream = DataToStream(song, time_signature = 0.25)\n",
    "generated_stream.show('midi')"
   ]
  },
  {
   "cell_type": "code",
   "execution_count": 105,
   "metadata": {},
   "outputs": [
    {
     "name": "stdout",
     "output_type": "stream",
     "text": [
      "{0.0} <music21.instrument.Piano 'Piano'>\n",
      "{0.0} <music21.chord.Chord G#2 C4 G#4>\n",
      "{0.25} <music21.chord.Chord G#2 E-3 C4 G#4>\n",
      "{0.5} <music21.chord.Chord E-3 C4 G#4>\n",
      "{0.75} <music21.chord.Chord G#2 E-3 C4 G#4>\n",
      "{1.0} <music21.chord.Chord E-3 C4>\n",
      "{1.25} <music21.chord.Chord E-3 C4 F4>\n",
      "{1.5} <music21.chord.Chord C4 C#4>\n",
      "{1.75} <music21.chord.Chord C4 C#4 F4>\n",
      "{2.0} <music21.chord.Chord A3 C4 C#4 F4>\n",
      "{2.25} <music21.chord.Chord C4 C#4 F4>\n",
      "{2.5} <music21.note.Note C#>\n",
      "{4.0} <music21.note.Note C#>\n",
      "{4.5} <music21.note.Rest rest>\n",
      "{5.0} <music21.note.Note C#>\n",
      "{5.25} <music21.chord.Chord C#2 C3 E7>\n",
      "{5.5} <music21.chord.Chord C#2 C3>\n",
      "{6.0} <music21.note.Note C#>\n",
      "{6.25} <music21.chord.Chord C#2 B-2 G#3>\n",
      "{6.5} <music21.chord.Chord C#2 C#4>\n",
      "{7.0} <music21.note.Note C#>\n",
      "{7.5} <music21.chord.Chord C#2 C#4>\n",
      "{7.75} <music21.note.Note C#>\n",
      "{8.25} <music21.chord.Chord C#2 C#3>\n",
      "{8.5} <music21.note.Note C#>\n",
      "{9.0} <music21.chord.Chord E-3 C#4>\n",
      "{9.25} <music21.note.Rest rest>\n",
      "{10.0} <music21.note.Note G#>\n",
      "{10.5} <music21.note.Note G#>\n",
      "{10.75} <music21.note.Rest rest>\n",
      "{11.0} <music21.chord.Chord F#4 G#4>\n",
      "{11.5} <music21.chord.Chord C#4 F#4 G#4>\n",
      "{12.0} <music21.chord.Chord C4 C#4 F#4 G#4>\n",
      "{12.75} <music21.chord.Chord C4 F#4 G#4>\n",
      "{13.0} <music21.chord.Chord C4 G#4>\n",
      "{13.5} <music21.note.Note G#>\n",
      "{13.75} <music21.chord.Chord C#4 G#4>\n",
      "{14.75} <music21.chord.Chord F4 G#4>\n",
      "{15.25} <music21.chord.Chord F#4 G#4>\n",
      "{15.5} <music21.chord.Chord C4 F#4 G#4>\n",
      "{15.75} <music21.chord.Chord F#4 G#4>\n",
      "{16.25} <music21.note.Rest rest>\n",
      "{16.5} <music21.note.Note E>\n",
      "{16.75} <music21.note.Rest rest>\n",
      "{17.0} <music21.note.Note E->\n",
      "{17.25} <music21.note.Note F>\n",
      "{17.5} <music21.chord.Chord C#4 A4>\n",
      "{17.75} <music21.note.Note C#>\n",
      "{18.75} <music21.note.Rest rest>\n",
      "{19.0} <music21.chord.Chord B-2 G#4>\n",
      "{19.25} <music21.chord.Chord B-2 C#4>\n",
      "{19.5} <music21.chord.Chord B-2 F4>\n",
      "{19.75} <music21.chord.Chord B-2 C#4>\n",
      "{20.0} <music21.note.Note F>\n",
      "{20.25} <music21.note.Note C#>\n",
      "{20.5} <music21.chord.Chord F4 C#5>\n",
      "{20.75} <music21.note.Note C#>\n",
      "{21.0} <music21.note.Note F>\n",
      "{21.25} <music21.chord.Chord B-3 C#5>\n",
      "{21.5} <music21.chord.Chord F3 C#5>\n",
      "{21.75} <music21.chord.Chord C#3 C#5>\n",
      "{22.0} <music21.note.Note E->\n",
      "{22.25} <music21.chord.Chord E-3 G#3 C#4>\n",
      "{22.5} <music21.chord.Chord F#3 C#4>\n",
      "{22.75} <music21.note.Note G#>\n",
      "{23.0} <music21.chord.Chord F4 C#5>\n",
      "{23.25} <music21.note.Note F>\n",
      "{23.75} <music21.note.Rest rest>\n",
      "{24.0} <music21.note.Note C#>\n",
      "{24.25} <music21.chord.Chord C#4 B-4>\n",
      "{24.5} <music21.chord.Chord G#3 B-4>\n",
      "{25.0} <music21.chord.Chord G#3 E-4 B-4>\n",
      "{25.5} <music21.chord.Chord G#3 C4 E-4 B-4>\n",
      "{26.0} <music21.chord.Chord G#3 E-4 B-4>\n",
      "{26.25} <music21.chord.Chord C#3 G#3 E-4 B-4 E-5>\n",
      "{26.5} <music21.chord.Chord E-3 G#3 B3 B-4 E-5>\n",
      "{26.75} <music21.chord.Chord G#3 B3>\n",
      "{27.0} <music21.chord.Chord G#3 B4>\n",
      "{27.25} <music21.chord.Chord F4 C#5>\n",
      "{27.5} <music21.chord.Chord G#3 B3 C#5 E-5>\n",
      "{27.75} <music21.note.Note G#>\n",
      "{28.0} <music21.chord.Chord G#3 E-4>\n",
      "{28.25} <music21.chord.Chord G#3 E-5>\n",
      "{28.5} <music21.chord.Chord F4 E-5 E5>\n",
      "{28.75} <music21.note.Rest rest>\n",
      "{29.0} <music21.note.Note G#>\n",
      "{29.25} <music21.note.Note F>\n",
      "{29.5} <music21.chord.Chord G4 B-4 F5>\n",
      "{29.75} <music21.chord.Chord G4 F5>\n",
      "{30.0} <music21.note.Rest rest>\n",
      "{30.25} <music21.note.Note B->\n",
      "{30.5} <music21.chord.Chord G#4 B-4 E-5>\n",
      "{30.75} <music21.chord.Chord B-4 E-5>\n",
      "{31.0} <music21.chord.Chord G#4 B-4 E-5>\n",
      "{31.25} <music21.note.Note E->\n",
      "{31.5} <music21.note.Note G#>\n",
      "{31.75} <music21.chord.Chord C4 E-5>\n",
      "{32.0} <music21.chord.Chord E-5 B5>\n",
      "{32.25} <music21.chord.Chord C#4 E-4 E-5 B-5>\n",
      "{32.5} <music21.chord.Chord C#4 E-5>\n",
      "{32.75} <music21.note.Note F>\n",
      "{33.25} <music21.note.Rest rest>\n",
      "{33.5} <music21.note.Note F>\n",
      "{33.75} <music21.note.Note F>\n",
      "{34.0} <music21.note.Note D>\n",
      "{34.25} <music21.chord.Chord G#3 F5>\n",
      "{34.5} <music21.note.Rest rest>\n",
      "{35.5} <music21.chord.Chord G4 C#5>\n",
      "{35.75} <music21.chord.Chord C#4 F4 C#5>\n",
      "{36.0} <music21.chord.Chord C#4 F4>\n",
      "{36.25} <music21.note.Note C#>\n",
      "{36.75} <music21.note.Note F#>\n",
      "{37.0} <music21.chord.Chord F#3 A4>\n",
      "{37.5} <music21.chord.Chord F#2 F#3 C#4>\n",
      "{37.75} <music21.note.Note C#>\n",
      "{38.0} <music21.note.Rest rest>\n",
      "{38.25} <music21.note.Note D>\n",
      "{38.5} <music21.note.Rest rest>\n",
      "{38.75} <music21.note.Note C#>\n",
      "{39.0} <music21.note.Rest rest>\n",
      "{39.25} <music21.chord.Chord F#3 F4 B-4>\n",
      "{39.5} <music21.chord.Chord D3 F#3>\n",
      "{39.75} <music21.chord.Chord F#3 F#4>\n",
      "{40.0} <music21.note.Note F#>\n",
      "{40.25} <music21.note.Rest rest>\n",
      "{40.5} <music21.note.Note C#>\n",
      "{41.0} <music21.note.Note B->\n",
      "{41.25} <music21.note.Note B->\n",
      "{41.5} <music21.note.Note A>\n",
      "{41.75} <music21.note.Note F>\n",
      "{42.0} <music21.note.Rest rest>\n",
      "{42.25} <music21.chord.Chord F#3 E-4>\n",
      "{42.5} <music21.note.Rest rest>\n",
      "{42.75} <music21.chord.Chord F#3 E-4 E-5>\n",
      "{43.0} <music21.note.Rest rest>\n",
      "{43.25} <music21.note.Note F#>\n",
      "{43.5} <music21.chord.Chord F#3 B-3 C#4 G#5>\n",
      "{43.75} <music21.chord.Chord F#3 C#4>\n",
      "{44.0} <music21.chord.Chord F#3 G#5>\n",
      "{44.5} <music21.note.Note F#>\n",
      "{44.75} <music21.chord.Chord F#3 G#4>\n",
      "{45.0} <music21.note.Rest rest>\n",
      "{45.25} <music21.note.Note E->\n",
      "{45.5} <music21.note.Note G#>\n",
      "{45.75} <music21.chord.Chord C#3 F#4 B-5 C#6>\n",
      "{46.0} <music21.note.Note C#>\n",
      "{46.25} <music21.note.Rest rest>\n",
      "{46.5} <music21.chord.Chord G#4 B5>\n",
      "{46.75} <music21.note.Rest rest>\n",
      "{47.25} <music21.chord.Chord F#3 E-5 F5>\n",
      "{47.5} <music21.chord.Chord F#3 E-5>\n",
      "{47.75} <music21.note.Note E->\n",
      "{48.0} <music21.chord.Chord C#5 F5>\n",
      "{48.25} <music21.note.Rest rest>\n",
      "{48.5} <music21.note.Note C#>\n",
      "{48.75} <music21.note.Note G>\n",
      "{49.0} <music21.note.Rest rest>\n",
      "{49.5} <music21.note.Note C#>\n",
      "{49.75} <music21.note.Note C#>\n",
      "{50.0} <music21.chord.Chord F#3 C#5>\n",
      "{50.25} <music21.chord.Chord F#3 B-5>\n",
      "{50.5} <music21.note.Note F#>\n",
      "{50.75} <music21.chord.Chord F#3 E-5>\n",
      "{51.0} <music21.note.Note B->\n",
      "{51.25} <music21.chord.Chord F#3 B-4 C5>\n",
      "{51.5} <music21.chord.Chord C#3 C5>\n",
      "{51.75} <music21.note.Rest rest>\n",
      "{52.0} <music21.chord.Chord G#3 C#5>\n",
      "{52.25} <music21.note.Note C#>\n",
      "{52.5} <music21.chord.Chord C#5 F#5 B5>\n",
      "{52.75} <music21.chord.Chord F4 B-5>\n",
      "{53.0} <music21.note.Note C#>\n",
      "{53.5} <music21.note.Note B->\n",
      "{53.75} <music21.note.Rest rest>\n",
      "{54.0} <music21.chord.Chord F#3 E-5 B5>\n",
      "{54.25} <music21.chord.Chord F#3 C#5 E-5>\n",
      "{54.5} <music21.chord.Chord F#3 E-5>\n",
      "{54.75} <music21.chord.Chord F#3 F4>\n",
      "{55.0} <music21.chord.Chord G#3 G#5>\n",
      "{55.5} <music21.chord.Chord F#5 G#5>\n",
      "{55.75} <music21.note.Note G#>\n",
      "{56.0} <music21.note.Rest rest>\n",
      "{56.25} <music21.note.Note C#>\n",
      "{56.5} <music21.chord.Chord C#3 E-5>\n",
      "{56.75} <music21.note.Rest rest>\n",
      "{57.0} <music21.note.Note F#>\n",
      "{57.25} <music21.chord.Chord F#4 B-4 C#5 F5>\n",
      "{57.5} <music21.chord.Chord F#4 C#5>\n",
      "{57.75} <music21.note.Note F#>\n",
      "{58.0} <music21.chord.Chord D5 F#5>\n",
      "{58.25} <music21.chord.Chord C#5 F#5>\n",
      "{58.5} <music21.chord.Chord B4 F#5>\n",
      "{58.75} <music21.chord.Chord G#4 F5>\n",
      "{59.0} <music21.chord.Chord E-5 F6>\n",
      "{59.25} <music21.note.Note C#>\n",
      "{59.5} <music21.note.Rest rest>\n"
     ]
    }
   ],
   "source": [
    "generated_stream.show('text')"
   ]
  },
  {
   "cell_type": "code",
   "execution_count": 34,
   "metadata": {},
   "outputs": [
    {
     "name": "stdout",
     "output_type": "stream",
     "text": [
      "{0.0} <music21.instrument.Piano 'Piano'>\n",
      "{0.0} <music21.chord.Chord F#3 A4 D5>\n",
      "{0.25} <music21.chord.Chord G3 B-4 D5>\n",
      "{1.25} <music21.chord.Chord E3 G4 C5>\n",
      "{2.25} <music21.chord.Chord F3 A4 C5>\n",
      "{3.25} <music21.chord.Chord D3 F4 B4>\n",
      "{4.25} <music21.chord.Chord C2 C3 C5>\n",
      "{4.5} <music21.chord.Chord C2 C3 E4 G4>\n",
      "{4.75} <music21.chord.Chord C4 C5>\n",
      "{5.0} <music21.chord.Chord E4 G4>\n",
      "{5.25} <music21.chord.Chord C4 C5>\n",
      "{5.5} <music21.chord.Chord E4 G4>\n",
      "{5.75} <music21.chord.Chord C4 D5>\n",
      "{6.0} <music21.chord.Chord E4 G4>\n",
      "{6.25} <music21.chord.Chord C4 E5>\n",
      "{6.5} <music21.chord.Chord G4 B-4>\n",
      "{6.75} <music21.chord.Chord C4 C5>\n",
      "{7.0} <music21.chord.Chord G4 B-4>\n",
      "{7.25} <music21.chord.Chord C4 D5>\n",
      "{7.5} <music21.chord.Chord G4 B-4>\n",
      "{7.75} <music21.chord.Chord C4 E5>\n",
      "{8.0} <music21.chord.Chord G4 B-4>\n",
      "{8.25} <music21.chord.Chord C4 F5>\n",
      "{8.5} <music21.chord.Chord F4 A4>\n",
      "{8.75} <music21.chord.Chord C4 F5>\n",
      "{9.0} <music21.chord.Chord F4 A4>\n",
      "{9.25} <music21.chord.Chord C4 F5>\n",
      "{9.5} <music21.chord.Chord F4 A4>\n",
      "{9.75} <music21.chord.Chord C4 E5>\n",
      "{10.0} <music21.chord.Chord F4 A4>\n",
      "{10.25} <music21.chord.Chord C4 D5>\n",
      "{10.5} <music21.chord.Chord F4 G#4>\n",
      "{10.75} <music21.chord.Chord C4 C5>\n",
      "{11.0} <music21.chord.Chord F4 G#4>\n",
      "{11.25} <music21.chord.Chord C4 B4>\n",
      "{11.5} <music21.chord.Chord F4 G#4>\n",
      "{11.75} <music21.chord.Chord C4 D5>\n",
      "{12.0} <music21.chord.Chord F4 G#4>\n",
      "{12.25} <music21.chord.Chord C2 C3 C5>\n",
      "{12.5} <music21.chord.Chord C2 C3 E4 G4>\n",
      "{12.75} <music21.chord.Chord C4 B4>\n",
      "{13.0} <music21.chord.Chord E4 G4>\n",
      "{13.25} <music21.chord.Chord C4 C5>\n",
      "{13.5} <music21.chord.Chord E4 G4>\n",
      "{13.75} <music21.chord.Chord C4 D5>\n",
      "{14.0} <music21.chord.Chord E4 G4>\n",
      "{14.25} <music21.chord.Chord C4 E5>\n",
      "{14.5} <music21.chord.Chord G4 B-4>\n",
      "{14.75} <music21.chord.Chord C4 C5>\n",
      "{15.0} <music21.chord.Chord G4 B-4>\n",
      "{15.25} <music21.chord.Chord C4 D5>\n",
      "{15.5} <music21.chord.Chord G4 B-4>\n",
      "{15.75} <music21.chord.Chord C4 E5>\n",
      "{16.0} <music21.chord.Chord G4 B-4>\n",
      "{16.25} <music21.chord.Chord C4 F5>\n",
      "{16.5} <music21.chord.Chord F4 A4>\n",
      "{16.75} <music21.chord.Chord C4 F5>\n",
      "{17.0} <music21.chord.Chord F4 A4>\n",
      "{17.25} <music21.chord.Chord C4 F5>\n",
      "{17.5} <music21.chord.Chord F4 A4>\n",
      "{17.75} <music21.chord.Chord C4 E5>\n",
      "{18.0} <music21.chord.Chord F4 A4>\n",
      "{18.25} <music21.chord.Chord C4 D5>\n",
      "{18.5} <music21.chord.Chord F4 G#4>\n",
      "{18.75} <music21.chord.Chord C4 C5>\n",
      "{19.0} <music21.chord.Chord F4 G#4>\n",
      "{19.25} <music21.chord.Chord C4 B4>\n",
      "{19.5} <music21.chord.Chord F4 G#4>\n",
      "{19.75} <music21.chord.Chord C4 D5>\n",
      "{20.0} <music21.chord.Chord F4 G#4>\n",
      "{20.25} <music21.chord.Chord C3 C5>\n",
      "{20.5} <music21.chord.Chord C3 E4 G4>\n",
      "{20.75} <music21.chord.Chord C4 C5>\n",
      "{21.0} <music21.chord.Chord E4 G4>\n",
      "{21.25} <music21.chord.Chord C4 B4>\n",
      "{21.5} <music21.chord.Chord F4 G#4>\n",
      "{21.75} <music21.chord.Chord C4 D5>\n",
      "{22.0} <music21.chord.Chord F4 G#4>\n",
      "{22.25} <music21.chord.Chord C3 C5>\n",
      "{22.5} <music21.chord.Chord C3 E4 G4>\n",
      "{22.75} <music21.chord.Chord C4 C5>\n",
      "{23.0} <music21.chord.Chord E4 G4>\n",
      "{23.25} <music21.chord.Chord C4 B4>\n",
      "{23.5} <music21.chord.Chord F4 G#4>\n",
      "{23.75} <music21.chord.Chord C4 D5>\n",
      "{24.0} <music21.chord.Chord F4 G#4>\n",
      "{24.25} <music21.chord.Chord C3 E4 G4 C5>\n",
      "{24.5} <music21.chord.Chord C3 C4>\n",
      "{24.75} <music21.chord.Chord C3 D4>\n",
      "{25.0} <music21.chord.Chord C3 E4>\n",
      "{25.25} <music21.note.Note F>\n",
      "{25.5} <music21.note.Note G>\n",
      "{25.75} <music21.note.Note A>\n",
      "{26.0} <music21.note.Note B>\n",
      "{26.25} <music21.note.Note C>\n",
      "{26.5} <music21.note.Note B>\n",
      "{26.75} <music21.note.Note C>\n",
      "{27.0} <music21.note.Note B>\n",
      "{27.25} <music21.note.Note C>\n",
      "{27.5} <music21.note.Note B>\n",
      "{27.75} <music21.note.Note C>\n",
      "{28.0} <music21.note.Note B>\n",
      "{28.25} <music21.chord.Chord A4 C5>\n",
      "{28.5} <music21.chord.Chord F3 A4 C5>\n",
      "{28.75} <music21.chord.Chord G3 A4 C5>\n",
      "{29.0} <music21.chord.Chord A3 A4 C5>\n",
      "{29.25} <music21.chord.Chord B-3 A4 C5>\n",
      "{29.5} <music21.chord.Chord C4 A4 C5>\n",
      "{29.75} <music21.chord.Chord D4 A4 C5>\n",
      "{30.0} <music21.chord.Chord E4 A4 C5>\n",
      "{30.25} <music21.chord.Chord F4 A4>\n",
      "{30.5} <music21.chord.Chord E4 A4>\n",
      "{30.75} <music21.chord.Chord F4 A4>\n",
      "{31.0} <music21.chord.Chord E4 A4>\n",
      "{31.25} <music21.chord.Chord F4 F5>\n",
      "{31.5} <music21.chord.Chord E4 F5>\n",
      "{31.75} <music21.chord.Chord F4 F5>\n",
      "{32.0} <music21.chord.Chord E4 F5>\n",
      "{32.25} <music21.chord.Chord F4 A4 C5>\n",
      "{32.5} <music21.chord.Chord E4 A4 C5>\n",
      "{32.75} <music21.chord.Chord F4 A4 C5>\n",
      "{33.0} <music21.chord.Chord E4 A4 C5>\n",
      "{33.25} <music21.chord.Chord F4 F5 A5>\n",
      "{33.5} <music21.chord.Chord E4 F5 A5>\n",
      "{33.75} <music21.chord.Chord F4 F5 A5>\n",
      "{34.0} <music21.chord.Chord E4 F5 A5>\n",
      "{34.25} <music21.chord.Chord F4 A4 C5>\n",
      "{34.5} <music21.chord.Chord E4 A4 C5>\n",
      "{34.75} <music21.chord.Chord F4 A4 C5>\n",
      "{35.0} <music21.chord.Chord E4 A4 C5>\n",
      "{35.25} <music21.chord.Chord F4 A5 C6>\n",
      "{35.5} <music21.chord.Chord E4 A5 C6>\n",
      "{35.75} <music21.chord.Chord F4 A5 C6>\n",
      "{36.0} <music21.chord.Chord E4 A5 C6>\n",
      "{36.25} <music21.chord.Chord F4 A4 C5>\n",
      "{36.5} <music21.chord.Chord F3 A4 C5>\n",
      "{36.75} <music21.chord.Chord G3 A4 C5>\n",
      "{37.0} <music21.chord.Chord A3 A4 C5>\n",
      "{37.25} <music21.chord.Chord B-3 A4 C5>\n",
      "{37.5} <music21.chord.Chord C4 A4 C5>\n",
      "{37.75} <music21.chord.Chord D4 A4 C5>\n",
      "{38.0} <music21.chord.Chord E4 A4 C5>\n",
      "{38.25} <music21.chord.Chord F4 A4>\n",
      "{38.5} <music21.chord.Chord E4 A4>\n",
      "{38.75} <music21.chord.Chord F4 A4>\n",
      "{39.0} <music21.chord.Chord E4 A4>\n",
      "{39.25} <music21.chord.Chord F4 F5>\n",
      "{39.5} <music21.chord.Chord E4 F5>\n",
      "{39.75} <music21.chord.Chord F4 F5>\n",
      "{40.0} <music21.chord.Chord E4 F5>\n",
      "{40.25} <music21.chord.Chord F4 A4 C5>\n",
      "{40.5} <music21.chord.Chord E4 A4 C5>\n",
      "{40.75} <music21.chord.Chord F4 A4 C5>\n",
      "{41.0} <music21.chord.Chord E4 A4 C5>\n",
      "{41.25} <music21.chord.Chord F4 F5 A5>\n",
      "{41.5} <music21.chord.Chord E4 F5 A5>\n",
      "{41.75} <music21.chord.Chord F4 F5 A5>\n",
      "{42.0} <music21.chord.Chord E4 F5 A5>\n",
      "{42.25} <music21.chord.Chord F4 A4 C5>\n",
      "{42.5} <music21.chord.Chord E4 A4 C5>\n",
      "{42.75} <music21.chord.Chord F4 A4 C5>\n",
      "{43.0} <music21.chord.Chord E4 A4 C5>\n",
      "{43.25} <music21.chord.Chord F4 A5 C6>\n",
      "{43.5} <music21.chord.Chord E-4 A5 C6>\n",
      "{43.75} <music21.chord.Chord F4 A5 C6>\n",
      "{44.0} <music21.chord.Chord E-4 A5 C6>\n",
      "{44.25} <music21.chord.Chord C#4 A4 C5 D5 F#5>\n",
      "{44.5} <music21.chord.Chord D4 A4 C5 D5 F#5>\n",
      "{44.75} <music21.chord.Chord C#4 A4 C5 D5 F#5>\n",
      "{45.0} <music21.chord.Chord D4 A4 C5 D5 F#5>\n",
      "{45.25} <music21.chord.Chord B3 A4 C5 D5 F#5>\n",
      "{45.5} <music21.chord.Chord C4 A4 C5 D5 F#5>\n",
      "{45.75} <music21.chord.Chord B3 A4 C5 D5 F#5>\n",
      "{46.0} <music21.chord.Chord C4 A4 C5 D5 F#5>\n",
      "{46.25} <music21.note.Note G#>\n",
      "{46.5} <music21.note.Note A>\n",
      "{46.75} <music21.note.Note G#>\n",
      "{47.0} <music21.note.Note A>\n",
      "{47.25} <music21.note.Note F>\n",
      "{47.5} <music21.note.Note F#>\n",
      "{47.75} <music21.note.Note F>\n",
      "{48.0} <music21.note.Note F#>\n",
      "{48.25} <music21.note.Note C#>\n",
      "{48.5} <music21.note.Note D>\n",
      "{48.75} <music21.note.Note C#>\n",
      "{49.0} <music21.note.Note D>\n",
      "{49.25} <music21.chord.Chord B2 F#5>\n",
      "{49.5} <music21.chord.Chord C3 F#5>\n",
      "{49.75} <music21.chord.Chord B2 F#5>\n",
      "{50.0} <music21.chord.Chord C3 F#5>\n",
      "{50.25} <music21.chord.Chord G#2 A5>\n",
      "{50.5} <music21.chord.Chord A2 A5>\n",
      "{50.75} <music21.chord.Chord G#2 A5>\n",
      "{51.0} <music21.chord.Chord A2 A5>\n",
      "{51.25} <music21.chord.Chord F2 C6>\n",
      "{51.5} <music21.chord.Chord F#2 C6>\n",
      "{51.75} <music21.chord.Chord F2 C6>\n",
      "{52.0} <music21.chord.Chord F#2 C6>\n",
      "{52.25} <music21.chord.Chord C#2 F#5 C6>\n",
      "{52.5} <music21.chord.Chord D2 F#5 C6>\n",
      "{52.75} <music21.chord.Chord C#2 F#5 C6>\n",
      "{53.0} <music21.chord.Chord D2 F#5 C6>\n",
      "{53.25} <music21.chord.Chord C#2 F#5 B-5>\n",
      "{53.5} <music21.chord.Chord D2 F#5 B-5>\n",
      "{53.75} <music21.chord.Chord C#2 F#5 B-5>\n",
      "{54.0} <music21.chord.Chord D2 F#5 B-5>\n",
      "{54.25} <music21.chord.Chord D2 G5 B-5>\n",
      "{54.5} <music21.chord.Chord E-2 G5 B-5>\n",
      "{54.75} <music21.chord.Chord D2 G5 B-5>\n",
      "{55.0} <music21.chord.Chord E-2 G5 B-5>\n",
      "{55.25} <music21.chord.Chord E-2 C#5 G5 B-5>\n",
      "{55.5} <music21.chord.Chord E2 C#5 G5 B-5>\n",
      "{55.75} <music21.chord.Chord E-2 C#5 G5 B-5>\n",
      "{56.0} <music21.chord.Chord E2 C#5 G5 B-5>\n",
      "{56.25} <music21.chord.Chord E2 C5 G5 B-5>\n",
      "{56.5} <music21.chord.Chord F2 C5 G5 B-5>\n",
      "{56.75} <music21.chord.Chord E2 C5 G5 B-5>\n",
      "{57.0} <music21.chord.Chord F2 C5 G5 B-5>\n",
      "{57.25} <music21.chord.Chord E2 C5 F5 A5>\n",
      "{57.5} <music21.chord.Chord F2 C5 F5 A5>\n",
      "{57.75} <music21.chord.Chord E2 C5 F5 A5>\n",
      "{58.0} <music21.chord.Chord F2 C5 F5 A5>\n",
      "{58.25} <music21.chord.Chord A1 B-4 D5 G5>\n",
      "{58.5} <music21.chord.Chord B-1 B-4 D5 G5>\n",
      "{58.75} <music21.chord.Chord A1 B-4 D5 G5>\n",
      "{59.0} <music21.chord.Chord B-1 B-4 D5 G5>\n",
      "{59.25} <music21.chord.Chord B1 G4 B-4 E5>\n",
      "{59.5} <music21.chord.Chord C2 G4 B-4 E5>\n",
      "{59.75} <music21.chord.Chord B1 G4 B-4 E5>\n",
      "{60.0} <music21.chord.Chord C2 G4 B-4 E5>\n",
      "{60.25} <music21.chord.Chord F1 F4 A4 F5>\n",
      "{60.75} <music21.note.Rest rest>\n",
      "{62.25} <music21.chord.Chord F3 A3 F4 A4>\n",
      "{63.75} <music21.chord.Chord F3 A3 F4 A4>\n",
      "{64.25} <music21.chord.Chord D3 F3 D4 F4>\n",
      "{65.25} <music21.chord.Chord B-2 D3 B-3 D4>\n",
      "{65.75} <music21.note.Rest rest>\n",
      "{66.25} <music21.chord.Chord G3 B-3 G4 B-4>\n",
      "{67.75} <music21.chord.Chord F3 A3 F4 A4>\n",
      "{68.25} <music21.chord.Chord E3 G3 E4 G4>\n",
      "{69.25} <music21.chord.Chord C3 E3 C4 E4>\n",
      "{69.75} <music21.note.Rest rest>\n",
      "{70.25} <music21.chord.Chord A3 C4 A4 C5>\n",
      "{71.75} <music21.chord.Chord A3 C4 A4 C5>\n",
      "{72.25} <music21.chord.Chord F3 A3 F4 A4>\n",
      "{73.25} <music21.chord.Chord D3 F3 D4 F4>\n",
      "{73.75} <music21.note.Rest rest>\n",
      "{74.25} <music21.chord.Chord B-3 D4 B-4 D5>\n",
      "{75.75} <music21.chord.Chord A3 C4 A4 C5>\n",
      "{76.25} <music21.chord.Chord G3 B-3 G4 B-4>\n",
      "{77.25} <music21.chord.Chord E3 G3 E4 G4>\n",
      "{77.75} <music21.note.Rest rest>\n",
      "{78.25} <music21.chord.Chord B-3 G4 B-4 G5>\n"
     ]
    }
   ],
   "source": [
    "start_stream.show('text')"
   ]
  },
  {
   "cell_type": "code",
   "execution_count": null,
   "metadata": {},
   "outputs": [],
   "source": []
  },
  {
   "cell_type": "code",
   "execution_count": 80,
   "metadata": {},
   "outputs": [
    {
     "data": {
      "text/plain": [
       "'output_samples/mozart_in2.mid'"
      ]
     },
     "execution_count": 80,
     "metadata": {},
     "output_type": "execute_result"
    }
   ],
   "source": [
    "start_stream.write('midi', fp='output_samples/mozart_in2.mid')"
   ]
  },
  {
   "cell_type": "code",
   "execution_count": 81,
   "metadata": {},
   "outputs": [
    {
     "data": {
      "text/plain": [
       "'output_samples/mozart_out2.mid'"
      ]
     },
     "execution_count": 81,
     "metadata": {},
     "output_type": "execute_result"
    }
   ],
   "source": [
    "generated_stream.write('midi', fp='output_samples/mozart_out2.mid')"
   ]
  },
  {
   "cell_type": "code",
   "execution_count": null,
   "metadata": {},
   "outputs": [],
   "source": []
  }
 ],
 "metadata": {
  "kernelspec": {
   "display_name": "Python 3",
   "language": "python",
   "name": "python3"
  },
  "language_info": {
   "codemirror_mode": {
    "name": "ipython",
    "version": 3
   },
   "file_extension": ".py",
   "mimetype": "text/x-python",
   "name": "python",
   "nbconvert_exporter": "python",
   "pygments_lexer": "ipython3",
   "version": "3.7.9"
  }
 },
 "nbformat": 4,
 "nbformat_minor": 4
}
