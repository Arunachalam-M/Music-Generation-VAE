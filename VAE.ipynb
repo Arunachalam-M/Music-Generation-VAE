{
 "cells": [
  {
   "cell_type": "code",
   "execution_count": 1,
   "metadata": {},
   "outputs": [],
   "source": [
    "from music21 import converter, instrument, note, chord, stream, midi, instrument\n",
    "from scipy import sparse\n",
    "import time\n",
    "import tqdm.auto\n",
    "import glob\n",
    "import numpy as np\n",
    "import pandas as pd\n",
    "import torch\n",
    "import torch.nn as nn\n",
    "import torch.optim as optim\n",
    "import math"
   ]
  },
  {
   "cell_type": "code",
   "execution_count": 2,
   "metadata": {},
   "outputs": [],
   "source": [
    "def DataToStream(data_mat, time_signature = 0.25):\n",
    "    melody_stream = stream.Stream()\n",
    "    melody_stream.append(instrument.Piano())\n",
    "    t,k = data_mat.shape\n",
    "    old_element = None\n",
    "    counter = 1\n",
    "    for i in range(t):\n",
    "        arr = data_mat[i,:]\n",
    "        r = np.int(np.sum(arr))\n",
    "        \n",
    "        if r == 1:\n",
    "            #print(np.argmax(arr))\n",
    "            new_element = note.Note(np.argmax(arr))\n",
    "        elif r > 1:\n",
    "            #print(arr)\n",
    "            arr = arr.todense()\n",
    "            #print(np.where(arr == 1)[1])\n",
    "            pitches = np.where(arr == 1)[1]\n",
    "            all_notes = np.array([note.Note(i) for i in pitches])\n",
    "            new_element = chord.Chord(all_notes)\n",
    "        else:\n",
    "            #print(r)\n",
    "            new_element = note.Rest()\n",
    "        \n",
    "        if new_element == old_element and counter < 6:\n",
    "            counter += 1\n",
    "        else:\n",
    "            if old_element:\n",
    "                old_element.quarterLength = time_signature*counter\n",
    "                melody_stream.append(old_element)\n",
    "            counter = 1\n",
    "            \n",
    "        old_element = new_element\n",
    "            \n",
    "    return melody_stream"
   ]
  },
  {
   "cell_type": "code",
   "execution_count": 3,
   "metadata": {},
   "outputs": [],
   "source": [
    "classes = ['bach','backstreetboys','beatles','beethoven','brahms','britneyspears',\n",
    "             'chopin','coldplay','debussy','haydn','liszt','mendelssohn',\n",
    "            'mozart','nirvana','paganini','queen','rachmaninow','schubert',\n",
    "            'schumann','tchaikovsky']\n",
    "datasets = [folder + '_dataset.npz' for folder in classes]\n",
    "labels = np.arange(20)"
   ]
  },
  {
   "cell_type": "code",
   "execution_count": 4,
   "metadata": {},
   "outputs": [],
   "source": [
    "song_length = 320\n",
    "sample_size = 20\n",
    "n_classes = len(classes)\n",
    "device = \"cuda:0\""
   ]
  },
  {
   "cell_type": "code",
   "execution_count": 5,
   "metadata": {},
   "outputs": [],
   "source": [
    "data = []\n",
    "for file in datasets:\n",
    "    d = []\n",
    "    subset = np.load(file,allow_pickle=True)\n",
    "    for item in subset.files:\n",
    "        d.append(subset[item])\n",
    "    data.append(d[0])\n",
    "    "
   ]
  },
  {
   "cell_type": "code",
   "execution_count": 6,
   "metadata": {},
   "outputs": [
    {
     "data": {
      "text/plain": [
       "20"
      ]
     },
     "execution_count": 6,
     "metadata": {},
     "output_type": "execute_result"
    }
   ],
   "source": [
    "len(data)"
   ]
  },
  {
   "cell_type": "code",
   "execution_count": 7,
   "metadata": {},
   "outputs": [
    {
     "data": {
      "text/plain": [
       "<2388x128 sparse matrix of type '<class 'numpy.float64'>'\n",
       "\twith 6871 stored elements in Compressed Sparse Row format>"
      ]
     },
     "execution_count": 7,
     "metadata": {},
     "output_type": "execute_result"
    }
   ],
   "source": [
    "data[19][19]"
   ]
  },
  {
   "cell_type": "code",
   "execution_count": 8,
   "metadata": {},
   "outputs": [],
   "source": [
    "def random_snippet(c):\n",
    "    n_songs = len(data[c])\n",
    "    song_no = np.random.randint(n_songs)\n",
    "    song = data[c][song_no]\n",
    "    L,D = song.shape\n",
    "    start_max = L-song_length\n",
    "    if start_max > 0:\n",
    "        song_start = np.random.randint(start_max)\n",
    "    else:\n",
    "        #print(c,song_no)\n",
    "        return random_snippet(c)\n",
    "    \n",
    "    return song[song_start:song_start+song_length,:]"
   ]
  },
  {
   "cell_type": "code",
   "execution_count": 9,
   "metadata": {},
   "outputs": [
    {
     "data": {
      "text/plain": [
       "<320x128 sparse matrix of type '<class 'numpy.float64'>'\n",
       "\twith 1095 stored elements in Compressed Sparse Row format>"
      ]
     },
     "execution_count": 9,
     "metadata": {},
     "output_type": "execute_result"
    }
   ],
   "source": [
    "random_snippet(3)"
   ]
  },
  {
   "cell_type": "code",
   "execution_count": 10,
   "metadata": {},
   "outputs": [
    {
     "data": {
      "text/plain": [
       "tensor([ 8,  4, 13, 10,  6,  0,  7, 19,  3, 13])"
      ]
     },
     "execution_count": 10,
     "metadata": {},
     "output_type": "execute_result"
    }
   ],
   "source": [
    "torch.randint(20,(1,10)).detach().cpu()[0]"
   ]
  },
  {
   "cell_type": "code",
   "execution_count": 11,
   "metadata": {},
   "outputs": [],
   "source": [
    "def standard_batch(size = sample_size):\n",
    "    batch = []\n",
    "    #class_id = torch.randint(20,(1,sample_size)).detach().cpu()[0]\n",
    "    class_id = [0,3,6,12,13]*int(sample_size/5)\n",
    "    for i in range(size):\n",
    "        snippet = random_snippet(class_id[i])\n",
    "        batch.append(snippet)\n",
    "    return batch"
   ]
  },
  {
   "cell_type": "code",
   "execution_count": 12,
   "metadata": {},
   "outputs": [],
   "source": [
    "batch1 = standard_batch()"
   ]
  },
  {
   "cell_type": "code",
   "execution_count": 13,
   "metadata": {},
   "outputs": [],
   "source": [
    "stream1 = DataToStream(batch1[sample_size-1], time_signature = 0.25)"
   ]
  },
  {
   "cell_type": "code",
   "execution_count": 14,
   "metadata": {},
   "outputs": [
    {
     "data": {
      "text/html": [
       "\n",
       "                <div id='midiPlayerDiv539'></div>\n",
       "                <link rel=\"stylesheet\" href=\"//cuthbertLab.github.io/music21j/css/m21.css\"\n",
       "                    type=\"text/css\" />\n",
       "                <script>\n",
       "                require.config({\n",
       "                    paths: {'music21': '//cuthbertLab.github.io/music21j/src/music21'}\n",
       "                });\n",
       "                require(['music21'], function() {\n",
       "                               mp = new music21.miditools.MidiPlayer();\n",
       "                               mp.addPlayer('#midiPlayerDiv539');\n",
       "                               mp.base64Load('data:audio/midi;base64,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');\n",
       "                        });\n",
       "                </script>"
      ],
      "text/plain": [
       "<IPython.core.display.HTML object>"
      ]
     },
     "metadata": {},
     "output_type": "display_data"
    }
   ],
   "source": [
    "stream1.show('midi')"
   ]
  },
  {
   "cell_type": "code",
   "execution_count": 15,
   "metadata": {},
   "outputs": [
    {
     "data": {
      "text/plain": [
       "(20, 320, 128)"
      ]
     },
     "execution_count": 15,
     "metadata": {},
     "output_type": "execute_result"
    }
   ],
   "source": [
    "batch2 = np.array([a.todense() for a in batch1])\n",
    "batch2.shape"
   ]
  },
  {
   "cell_type": "code",
   "execution_count": 16,
   "metadata": {},
   "outputs": [],
   "source": [
    "def sample():\n",
    "    batch1 = standard_batch()\n",
    "    batch2 = np.array([a.todense() for a in batch1])\n",
    "    device = \"cuda:0\"\n",
    "    batch3 = torch.from_numpy(batch2).to(device).float()\n",
    "    return batch3\n",
    "    "
   ]
  },
  {
   "cell_type": "code",
   "execution_count": 17,
   "metadata": {},
   "outputs": [],
   "source": [
    "def torch_convert(song):\n",
    "    batch2 = song.todense()\n",
    "    device = \"cuda:0\"\n",
    "    batch3 = torch.from_numpy(batch2).to(device).float()\n",
    "    return batch3.view(1,song.shape[0],song.shape[1])"
   ]
  },
  {
   "cell_type": "code",
   "execution_count": 18,
   "metadata": {},
   "outputs": [
    {
     "data": {
      "text/plain": [
       "torch.Size([20, 320, 128])"
      ]
     },
     "execution_count": 18,
     "metadata": {},
     "output_type": "execute_result"
    }
   ],
   "source": [
    "batch = sample()\n",
    "batch.shape"
   ]
  },
  {
   "cell_type": "code",
   "execution_count": 19,
   "metadata": {},
   "outputs": [],
   "source": [
    "class LingLing_VAE(nn.Module):\n",
    "    def __init__(self, dim = 128, nheads = 8, nlayers = 6, features = 1):\n",
    "        super(LingLing_VAE, self).__init__()\n",
    "        \n",
    "        device = \"cuda:0\"\n",
    "        self.dim = dim\n",
    "        self.feature_len = features\n",
    "        \n",
    "        self.positional_encodings = nn.Embedding(song_length, dim)\n",
    "        \n",
    "        self.encoder_layer = nn.TransformerEncoderLayer(d_model=dim, nhead=nheads)\n",
    "        self.transformer_encoder = nn.TransformerEncoder(self.encoder_layer, num_layers=nlayers)\n",
    "\n",
    "        self.decoder_layer = nn.TransformerEncoderLayer(d_model=dim, nhead=nheads)\n",
    "        self.transformer_decoder = nn.TransformerEncoder(self.decoder_layer, num_layers=nlayers)\n",
    "        \n",
    "        \n",
    "        self.positional_encodings.to(device)\n",
    "        self.transformer_encoder.to(device)\n",
    "        self.transformer_decoder.to(device)\n",
    "    \n",
    "    def reparameterize(self, mu, log_var):\n",
    "        std = torch.exp(0.5*log_var)\n",
    "        eps = torch.randn_like(std)\n",
    "        sample = mu + (eps * std)\n",
    "        return sample\n",
    "        \n",
    "\n",
    "    def forward(self, song):\n",
    "        \n",
    "        pos = torch.arange(0, song_length).unsqueeze(0).repeat(sample_size, 1).to(device)\n",
    "        pos_embeddings = self.positional_encodings(pos)\n",
    "        pos_song = song + pos_embeddings\n",
    "\n",
    "        latent_rep = self.transformer_encoder(pos_song)\n",
    "        \n",
    "        frac = song_length//self.feature_len\n",
    "        mu = latent_rep[:,0, :]\n",
    "        log_var = latent_rep[:,-1, :] \n",
    "        z = self.reparameterize(mu, log_var)\n",
    "        #z = mu\n",
    "        \n",
    "        decoder_input_rep = z.unsqueeze(1).repeat(1,frac,1).to(device)\n",
    "        decoder_input_rep = decoder_input_rep + pos_embeddings\n",
    "        reconstruction = self.transformer_decoder(decoder_input_rep)\n",
    "        reconstruction = torch.sigmoid(reconstruction)\n",
    "                \n",
    "        return reconstruction, mu, log_var"
   ]
  },
  {
   "cell_type": "code",
   "execution_count": 20,
   "metadata": {},
   "outputs": [],
   "source": [
    "#sample_batch = sample()\n",
    "#recon,mu,log_var = model(sample_batch)\n",
    "#print(recon.shape,mu.shape,log_var.shape)"
   ]
  },
  {
   "cell_type": "code",
   "execution_count": 21,
   "metadata": {},
   "outputs": [],
   "source": [
    "#torch.sum(recon)"
   ]
  },
  {
   "cell_type": "code",
   "execution_count": null,
   "metadata": {},
   "outputs": [],
   "source": []
  },
  {
   "cell_type": "code",
   "execution_count": 22,
   "metadata": {},
   "outputs": [],
   "source": [
    "model = LingLing_VAE()\n",
    "optimizer = optim.Adam(model.parameters(), lr=1e-4, betas =(0.9,0.999), weight_decay = 0.000001, eps=1e-08)\n",
    "#criterion = nn.MSELoss(reduction='sum')\n",
    "criterion = nn.BCELoss(reduction='sum')\n",
    "#optimizer = optim.SGD(model.parameters(), lr=1e-4, momentum=0.9)"
   ]
  },
  {
   "cell_type": "code",
   "execution_count": 23,
   "metadata": {},
   "outputs": [
    {
     "data": {
      "text/plain": [
       "<All keys matched successfully>"
      ]
     },
     "execution_count": 23,
     "metadata": {},
     "output_type": "execute_result"
    }
   ],
   "source": [
    "model.load_state_dict(torch.load('Ling_ling_Transformer_VAE.pt'))"
   ]
  },
  {
   "cell_type": "code",
   "execution_count": 78,
   "metadata": {},
   "outputs": [
    {
     "name": "stdout",
     "output_type": "stream",
     "text": [
      "Iteration : 249  Loss : 3965.328125 Running Average Loss : 3875.99588125\n",
      "Reconstruction Loss 3875.960603125  KLD Loss 0.03529240489006043\n",
      "Iteration : 499  Loss : 3800.581640625 Running Average Loss : 3860.87831171875\n",
      "Reconstruction Loss 3860.7133578125  KLD Loss 0.16495633125305176\n",
      "Iteration : 749  Loss : 3473.268359375 Running Average Loss : 3832.774109375\n",
      "Reconstruction Loss 3832.06891875  KLD Loss 0.705181360244751\n",
      "Iteration : 999  Loss : 3812.240234375 Running Average Loss : 3853.047475\n",
      "Reconstruction Loss 3849.8421703125  KLD Loss 3.2052993774414062\n",
      "Iteration : 1249  Loss : 3952.744921875 Running Average Loss : 4164.86530703125\n",
      "Reconstruction Loss 3820.4320078125  KLD Loss 344.4333076477051\n"
     ]
    },
    {
     "ename": "KeyboardInterrupt",
     "evalue": "",
     "output_type": "error",
     "traceback": [
      "\u001b[1;31m---------------------------------------------------------------------------\u001b[0m",
      "\u001b[1;31mKeyboardInterrupt\u001b[0m                         Traceback (most recent call last)",
      "\u001b[1;32m<ipython-input-78-8f2404c40714>\u001b[0m in \u001b[0;36m<module>\u001b[1;34m\u001b[0m\n\u001b[0;32m     26\u001b[0m \u001b[1;33m\u001b[0m\u001b[0m\n\u001b[0;32m     27\u001b[0m     \u001b[0mloss\u001b[0m\u001b[1;33m.\u001b[0m\u001b[0mbackward\u001b[0m\u001b[1;33m(\u001b[0m\u001b[1;33m)\u001b[0m\u001b[1;33m\u001b[0m\u001b[1;33m\u001b[0m\u001b[0m\n\u001b[1;32m---> 28\u001b[1;33m     \u001b[0moptimizer\u001b[0m\u001b[1;33m.\u001b[0m\u001b[0mstep\u001b[0m\u001b[1;33m(\u001b[0m\u001b[1;33m)\u001b[0m\u001b[1;33m\u001b[0m\u001b[1;33m\u001b[0m\u001b[0m\n\u001b[0m\u001b[0;32m     29\u001b[0m \u001b[1;33m\u001b[0m\u001b[0m\n\u001b[0;32m     30\u001b[0m     \u001b[1;32mif\u001b[0m \u001b[0mi\u001b[0m\u001b[1;33m%\u001b[0m\u001b[1;36m250\u001b[0m \u001b[1;33m==\u001b[0m \u001b[1;36m249\u001b[0m\u001b[1;33m:\u001b[0m\u001b[1;33m\u001b[0m\u001b[1;33m\u001b[0m\u001b[0m\n",
      "\u001b[1;32mC:\\ProgramData\\Anaconda3\\lib\\site-packages\\torch\\optim\\adam.py\u001b[0m in \u001b[0;36mstep\u001b[1;34m(self, closure)\u001b[0m\n\u001b[0;32m    101\u001b[0m                     \u001b[0mdenom\u001b[0m \u001b[1;33m=\u001b[0m \u001b[1;33m(\u001b[0m\u001b[0mmax_exp_avg_sq\u001b[0m\u001b[1;33m.\u001b[0m\u001b[0msqrt\u001b[0m\u001b[1;33m(\u001b[0m\u001b[1;33m)\u001b[0m \u001b[1;33m/\u001b[0m \u001b[0mmath\u001b[0m\u001b[1;33m.\u001b[0m\u001b[0msqrt\u001b[0m\u001b[1;33m(\u001b[0m\u001b[0mbias_correction2\u001b[0m\u001b[1;33m)\u001b[0m\u001b[1;33m)\u001b[0m\u001b[1;33m.\u001b[0m\u001b[0madd_\u001b[0m\u001b[1;33m(\u001b[0m\u001b[0mgroup\u001b[0m\u001b[1;33m[\u001b[0m\u001b[1;34m'eps'\u001b[0m\u001b[1;33m]\u001b[0m\u001b[1;33m)\u001b[0m\u001b[1;33m\u001b[0m\u001b[1;33m\u001b[0m\u001b[0m\n\u001b[0;32m    102\u001b[0m                 \u001b[1;32melse\u001b[0m\u001b[1;33m:\u001b[0m\u001b[1;33m\u001b[0m\u001b[1;33m\u001b[0m\u001b[0m\n\u001b[1;32m--> 103\u001b[1;33m                     \u001b[0mdenom\u001b[0m \u001b[1;33m=\u001b[0m \u001b[1;33m(\u001b[0m\u001b[0mexp_avg_sq\u001b[0m\u001b[1;33m.\u001b[0m\u001b[0msqrt\u001b[0m\u001b[1;33m(\u001b[0m\u001b[1;33m)\u001b[0m \u001b[1;33m/\u001b[0m \u001b[0mmath\u001b[0m\u001b[1;33m.\u001b[0m\u001b[0msqrt\u001b[0m\u001b[1;33m(\u001b[0m\u001b[0mbias_correction2\u001b[0m\u001b[1;33m)\u001b[0m\u001b[1;33m)\u001b[0m\u001b[1;33m.\u001b[0m\u001b[0madd_\u001b[0m\u001b[1;33m(\u001b[0m\u001b[0mgroup\u001b[0m\u001b[1;33m[\u001b[0m\u001b[1;34m'eps'\u001b[0m\u001b[1;33m]\u001b[0m\u001b[1;33m)\u001b[0m\u001b[1;33m\u001b[0m\u001b[1;33m\u001b[0m\u001b[0m\n\u001b[0m\u001b[0;32m    104\u001b[0m \u001b[1;33m\u001b[0m\u001b[0m\n\u001b[0;32m    105\u001b[0m                 \u001b[0mstep_size\u001b[0m \u001b[1;33m=\u001b[0m \u001b[0mgroup\u001b[0m\u001b[1;33m[\u001b[0m\u001b[1;34m'lr'\u001b[0m\u001b[1;33m]\u001b[0m \u001b[1;33m/\u001b[0m \u001b[0mbias_correction1\u001b[0m\u001b[1;33m\u001b[0m\u001b[1;33m\u001b[0m\u001b[0m\n",
      "\u001b[1;31mKeyboardInterrupt\u001b[0m: "
     ]
    }
   ],
   "source": [
    "optimizer.zero_grad()\n",
    "iterations = 5000 + 1\n",
    "total_loss = 0\n",
    "re_loss = 0\n",
    "kl_loss = 0\n",
    "new_sample_cycle = 1\n",
    "KLD_weight = 1000\n",
    "\n",
    "for i in range(iterations):\n",
    "    \n",
    "    if i%new_sample_cycle == 0:\n",
    "        sample_batch = sample()\n",
    "\n",
    "    optimizer.zero_grad()\n",
    "    reconstruction,mu,log_var = model(sample_batch)\n",
    "        \n",
    "    reconstruction_loss = criterion(reconstruction.view(-1,song_length*128), sample_batch.view(-1,song_length*128))\n",
    "    \n",
    "    KLD_loss = torch.sum(-0.5 * torch.sum(1 + log_var - mu ** 2 - log_var.exp(), dim = 1), dim = 0)\n",
    "    \n",
    "    loss = reconstruction_loss + KLD_weight*KLD_loss\n",
    "    \n",
    "    total_loss += loss.item()\n",
    "    re_loss += reconstruction_loss.item()\n",
    "    kl_loss += KLD_weight*KLD_loss.item()\n",
    "    \n",
    "    loss.backward()\n",
    "    optimizer.step()\n",
    "    \n",
    "    if i%250 == 249:\n",
    "        print(\"Iteration :\",i, \" Loss :\", loss.item()/sample_size, \"Running Average Loss :\", total_loss/(250*sample_size))\n",
    "        print(\"Reconstruction Loss\", re_loss/(250*sample_size),\" KLD Loss\", kl_loss/(250*sample_size))\n",
    "        if (kl_loss/(250*sample_size)) < 10:\n",
    "            KLD_weight = KLD_weight*10\n",
    "        total_loss,re_loss,kl_loss = 0,0,0\n",
    "        \n",
    "    #if i%new_sample_cycle == 0: \n",
    "    #    print(\"Iteration :\",i, \" Starting Loss :\", loss.item()/sample_size)"
   ]
  },
  {
   "cell_type": "code",
   "execution_count": 79,
   "metadata": {},
   "outputs": [],
   "source": [
    "torch.save(model.state_dict(), 'Ling_ling_Transformer_VAE.pt')"
   ]
  },
  {
   "cell_type": "code",
   "execution_count": null,
   "metadata": {},
   "outputs": [],
   "source": []
  },
  {
   "cell_type": "code",
   "execution_count": null,
   "metadata": {},
   "outputs": [],
   "source": []
  },
  {
   "cell_type": "code",
   "execution_count": 80,
   "metadata": {},
   "outputs": [],
   "source": [
    "batch1 = sample()\n",
    "song = batch1[1].detach().cpu().numpy()\n",
    "song = sparse.csr_matrix(song)\n",
    "stream1 = DataToStream(song, time_signature = 0.25)"
   ]
  },
  {
   "cell_type": "code",
   "execution_count": 81,
   "metadata": {},
   "outputs": [
    {
     "data": {
      "text/html": [
       "\n",
       "                <div id='midiPlayerDiv11453'></div>\n",
       "                <link rel=\"stylesheet\" href=\"//cuthbertLab.github.io/music21j/css/m21.css\"\n",
       "                    type=\"text/css\" />\n",
       "                <script>\n",
       "                require.config({\n",
       "                    paths: {'music21': '//cuthbertLab.github.io/music21j/src/music21'}\n",
       "                });\n",
       "                require(['music21'], function() {\n",
       "                               mp = new music21.miditools.MidiPlayer();\n",
       "                               mp.addPlayer('#midiPlayerDiv11453');\n",
       "                               mp.base64Load('data:audio/midi;base64,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');\n",
       "                        });\n",
       "                </script>"
      ],
      "text/plain": [
       "<IPython.core.display.HTML object>"
      ]
     },
     "metadata": {},
     "output_type": "display_data"
    }
   ],
   "source": [
    "stream1.show('midi')"
   ]
  },
  {
   "cell_type": "code",
   "execution_count": 82,
   "metadata": {},
   "outputs": [],
   "source": [
    "reconstructed_songs,mu,log_var = model(batch1)\n",
    "test = reconstructed_songs[1]"
   ]
  },
  {
   "cell_type": "code",
   "execution_count": 83,
   "metadata": {},
   "outputs": [],
   "source": [
    "test_song = (test>0.1).int()"
   ]
  },
  {
   "cell_type": "code",
   "execution_count": 84,
   "metadata": {},
   "outputs": [
    {
     "data": {
      "text/plain": [
       "(320, 128)"
      ]
     },
     "execution_count": 84,
     "metadata": {},
     "output_type": "execute_result"
    }
   ],
   "source": [
    "test_song = test_song.detach().cpu().numpy()\n",
    "test_song = sparse.csr_matrix(test_song)\n",
    "test_song.shape"
   ]
  },
  {
   "cell_type": "code",
   "execution_count": 85,
   "metadata": {},
   "outputs": [],
   "source": [
    "test_stream = DataToStream(test_song, time_signature = 0.25)"
   ]
  },
  {
   "cell_type": "code",
   "execution_count": 86,
   "metadata": {},
   "outputs": [
    {
     "data": {
      "text/html": [
       "\n",
       "                <div id='midiPlayerDiv12479'></div>\n",
       "                <link rel=\"stylesheet\" href=\"//cuthbertLab.github.io/music21j/css/m21.css\"\n",
       "                    type=\"text/css\" />\n",
       "                <script>\n",
       "                require.config({\n",
       "                    paths: {'music21': '//cuthbertLab.github.io/music21j/src/music21'}\n",
       "                });\n",
       "                require(['music21'], function() {\n",
       "                               mp = new music21.miditools.MidiPlayer();\n",
       "                               mp.addPlayer('#midiPlayerDiv12479');\n",
       "                               mp.base64Load('data:audio/midi;base64,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');\n",
       "                        });\n",
       "                </script>"
      ],
      "text/plain": [
       "<IPython.core.display.HTML object>"
      ]
     },
     "metadata": {},
     "output_type": "display_data"
    }
   ],
   "source": [
    "test_stream.show('midi')"
   ]
  },
  {
   "cell_type": "code",
   "execution_count": 87,
   "metadata": {},
   "outputs": [
    {
     "name": "stdout",
     "output_type": "stream",
     "text": [
      "{0.0} <music21.instrument.Piano 'Piano'>\n",
      "{0.0} <music21.chord.Chord G3 A3 C4 D4 G4 A4>\n",
      "{0.25} <music21.chord.Chord G3 A3 C4 D4 G4>\n",
      "{0.5} <music21.chord.Chord G3 A3 C4 D4 E4 G4 A4>\n",
      "{0.75} <music21.chord.Chord G3 A3 C4 D4 E4 G4>\n",
      "{1.0} <music21.chord.Chord G3 A3 C4 D4 E4 G4 A4>\n",
      "{1.25} <music21.chord.Chord G3 A3 C4 D4 E4 G4>\n",
      "{1.75} <music21.chord.Chord G3 A3 C4 D4 E4 G4 A4>\n",
      "{2.0} <music21.chord.Chord G3 A3 B3 C4 D4 E4 G4>\n",
      "{2.25} <music21.chord.Chord G3 A3 C4 D4 E4 G4 A4>\n",
      "{2.75} <music21.chord.Chord G3 A3 C4 D4 G4>\n",
      "{3.0} <music21.chord.Chord G3 A3 C4 D4 G4 A4>\n",
      "{3.25} <music21.chord.Chord G3 A3 C4 D4 E4 G4 A4>\n",
      "{3.5} <music21.chord.Chord G3 A3 C4 D4 G4 A4>\n",
      "{3.75} <music21.chord.Chord G3 A3 C4 D4 E4 G4>\n",
      "{4.0} <music21.chord.Chord G3 A3 C4 D4 G4 A4>\n",
      "{4.5} <music21.chord.Chord G3 A3 C4 D4 E4 G4 A4>\n",
      "{4.75} <music21.chord.Chord G3 A3 C4 D4 G4 A4>\n",
      "{5.0} <music21.chord.Chord G3 A3 C4 D4 E4 G4>\n",
      "{5.5} <music21.chord.Chord G3 A3 C4 D4 G4 A4>\n",
      "{5.75} <music21.chord.Chord G3 A3 C4 D4 E4 G4 A4>\n",
      "{6.0} <music21.chord.Chord G3 A3 C4 D4 E4 G4>\n",
      "{6.5} <music21.chord.Chord G3 A3 C4 D4 E4 G4 A4>\n",
      "{7.0} <music21.chord.Chord G3 A3 C4 D4 E4 G4>\n",
      "{7.75} <music21.chord.Chord G3 A3 C4 D4 E4 G4 A4>\n",
      "{8.0} <music21.chord.Chord G3 A3 C4 D4 G4 A4>\n",
      "{8.25} <music21.chord.Chord G3 A3 C4 D4 E4 G4 A4>\n",
      "{8.5} <music21.chord.Chord G3 A3 C4 D4 E4 G4>\n",
      "{9.0} <music21.chord.Chord G3 A3 C4 D4 E4 G4 A4>\n",
      "{9.25} <music21.chord.Chord G3 A3 C4 D4 E4 G4>\n",
      "{9.5} <music21.chord.Chord G3 A3 C4 D4 G4>\n",
      "{9.75} <music21.chord.Chord G3 A3 C4 D4 E4 G4>\n",
      "{10.25} <music21.chord.Chord G3 A3 C4 D4 E4 G4 A4>\n",
      "{11.0} <music21.chord.Chord G3 A3 C4 D4 E4 G4>\n",
      "{11.25} <music21.chord.Chord G3 A3 C4 D4 G4 A4>\n",
      "{11.5} <music21.chord.Chord G3 A3 C4 D4 E4 G4 A4>\n",
      "{11.75} <music21.chord.Chord G3 A3 C4 D4 E4 G4>\n",
      "{12.25} <music21.chord.Chord G3 A3 C4 D4 E4 G4 A4>\n",
      "{12.5} <music21.chord.Chord G3 A3 C4 D4 E4 G4>\n",
      "{13.25} <music21.chord.Chord G3 A3 C4 D4 E4 G4 A4>\n",
      "{13.75} <music21.chord.Chord G3 A3 C4 D4 E4 G4>\n",
      "{14.25} <music21.chord.Chord G3 A3 C4 D4 E4 G4 A4>\n",
      "{14.5} <music21.chord.Chord G3 A3 C4 D4 E4 G4>\n",
      "{15.5} <music21.chord.Chord G3 A3 C4 D4 E4 G4 A4>\n",
      "{15.75} <music21.chord.Chord G3 A3 C4 D4 E4 G4>\n",
      "{16.25} <music21.chord.Chord G3 A3 C4 D4 E4 G4 A4>\n",
      "{16.5} <music21.chord.Chord G3 A3 C4 D4 E4 G4>\n",
      "{17.25} <music21.chord.Chord G3 A3 C4 D4 G4>\n",
      "{17.5} <music21.chord.Chord G3 A3 C4 D4 E4 G4>\n",
      "{17.75} <music21.chord.Chord G3 A3 C4 D4 E4 G4 A4>\n",
      "{18.0} <music21.chord.Chord G3 A3 C4 D4 E4 G4>\n",
      "{19.0} <music21.chord.Chord G3 A3 C4 D4 E4 G4 A4>\n",
      "{19.25} <music21.chord.Chord G3 A3 C4 D4 E4 G4>\n",
      "{20.0} <music21.chord.Chord G3 A3 C4 D4 E4 G4 A4>\n",
      "{20.25} <music21.chord.Chord G3 A3 C4 D4 E4 G4>\n",
      "{20.5} <music21.chord.Chord G3 A3 C4 D4 G4>\n",
      "{20.75} <music21.chord.Chord G3 A3 C4 D4 E4 G4 A4>\n",
      "{21.0} <music21.chord.Chord G3 A3 C4 D4 E4 G4>\n",
      "{22.0} <music21.chord.Chord G3 A3 C4 D4 G4>\n",
      "{22.25} <music21.chord.Chord G3 A3 C4 D4 E4 G4 A4>\n",
      "{22.5} <music21.chord.Chord G3 A3 C4 D4 E4 G4>\n",
      "{23.5} <music21.chord.Chord G3 A3 C4 D4 E4 G4 A4>\n",
      "{23.75} <music21.chord.Chord G3 A3 C4 D4 E4 G4>\n",
      "{24.25} <music21.chord.Chord G3 A3 C4 D4 E4 G4 A4>\n",
      "{24.5} <music21.chord.Chord G3 A3 C4 D4 E4 G4>\n",
      "{24.75} <music21.chord.Chord G3 A3 C4 D4 G4>\n",
      "{25.0} <music21.chord.Chord G3 A3 C4 D4 E4 G4>\n",
      "{26.25} <music21.chord.Chord G3 A3 C4 D4 E4 G4 A4>\n",
      "{26.75} <music21.chord.Chord G3 A3 C4 D4 E4 G4>\n",
      "{27.25} <music21.chord.Chord G3 A3 C4 D4 G4>\n",
      "{27.5} <music21.chord.Chord G3 A3 C4 D4 E4 G4>\n",
      "{27.75} <music21.chord.Chord G3 A3 C4 D4 E4 G4 A4>\n",
      "{28.25} <music21.chord.Chord G3 A3 C4 D4 E4 G4>\n",
      "{29.0} <music21.chord.Chord G3 A3 C4 D4 E4 G4 A4>\n",
      "{29.25} <music21.chord.Chord G3 A3 C4 D4 E4 G4>\n",
      "{29.5} <music21.chord.Chord G3 A3 C4 D4 E4 G4 A4>\n",
      "{29.75} <music21.chord.Chord G3 A3 C4 D4 E4 G4>\n",
      "{30.0} <music21.chord.Chord G3 A3 C4 D4 G4 A4>\n",
      "{30.25} <music21.chord.Chord G3 A3 C4 D4 E4 G4>\n",
      "{30.5} <music21.chord.Chord G3 A3 C4 D4 E4 G4 A4>\n",
      "{30.75} <music21.chord.Chord G3 A3 C4 D4 E4 G4>\n",
      "{32.25} <music21.chord.Chord G3 A3 C4 D4 E4 G4>\n",
      "{32.75} <music21.chord.Chord G3 A3 C4 D4 E4 G4 A4>\n",
      "{33.0} <music21.chord.Chord G3 A3 C4 D4 E4 G4>\n",
      "{34.0} <music21.chord.Chord G3 A3 C4 D4 G4 A4>\n",
      "{34.25} <music21.chord.Chord G3 A3 C4 D4 E4 G4>\n",
      "{35.25} <music21.chord.Chord G3 A3 C4 D4 E4 G4 A4>\n",
      "{35.5} <music21.chord.Chord G3 A3 C4 D4 E4 G4>\n",
      "{36.25} <music21.chord.Chord G3 A3 C4 D4 E4 G4 A4>\n",
      "{36.5} <music21.chord.Chord G3 A3 C4 D4 E4 G4>\n",
      "{37.0} <music21.chord.Chord G3 A3 C4 D4 E4 G4 A4>\n",
      "{37.25} <music21.chord.Chord G3 A3 C4 D4 E4 G4>\n",
      "{38.25} <music21.chord.Chord G3 A3 C4 D4 G4>\n",
      "{38.5} <music21.chord.Chord G3 A3 C4 D4 E4 G4 A4>\n",
      "{38.75} <music21.chord.Chord G3 A3 C4 D4 E4 G4>\n",
      "{39.0} <music21.chord.Chord G3 A3 B3 C4 D4 E4 G4>\n",
      "{39.25} <music21.chord.Chord G3 A3 C4 D4 E4 G4>\n",
      "{40.5} <music21.chord.Chord G3 A3 C4 D4 E4 G4 A4>\n",
      "{40.75} <music21.chord.Chord G3 A3 C4 D4 E4 G4>\n",
      "{41.75} <music21.chord.Chord G3 A3 C4 D4 E4 G4 A4>\n",
      "{42.0} <music21.chord.Chord G3 A3 C4 D4 E4 G4>\n",
      "{42.5} <music21.chord.Chord G3 A3 C4 D4 G4>\n",
      "{42.75} <music21.chord.Chord G3 A3 C4 D4 E4 G4 A4>\n",
      "{43.0} <music21.chord.Chord G3 A3 C4 D4 E4 G4>\n",
      "{43.5} <music21.chord.Chord G3 A3 C4 D4 E4 G4 A4>\n",
      "{44.0} <music21.chord.Chord G3 A3 C4 D4 E4 G4>\n",
      "{45.5} <music21.chord.Chord G3 A3 C4 D4 E4 G4>\n",
      "{46.0} <music21.chord.Chord G3 A3 C4 D4 E4 G4 A4>\n",
      "{46.25} <music21.chord.Chord G3 A3 C4 D4 E4 G4>\n",
      "{47.25} <music21.chord.Chord G3 A3 C4 D4 G4>\n",
      "{47.5} <music21.chord.Chord G3 A3 C4 D4 E4 G4>\n",
      "{48.0} <music21.chord.Chord G3 A3 C4 D4 E4 G4 A4>\n",
      "{48.25} <music21.chord.Chord G3 A3 C4 D4 E4 G4>\n",
      "{49.0} <music21.chord.Chord G3 A3 C4 D4 E4 G4 A4>\n",
      "{49.25} <music21.chord.Chord G3 A3 C4 D4 E4 G4>\n",
      "{49.5} <music21.chord.Chord G3 A3 C4 D4 E4 G4 A4>\n",
      "{50.0} <music21.chord.Chord G3 A3 C4 D4 E4 G4>\n",
      "{50.5} <music21.chord.Chord G3 A3 C4 D4 E4 G4 A4>\n",
      "{50.75} <music21.chord.Chord G3 A3 C4 D4 E4 G4>\n",
      "{51.0} <music21.chord.Chord G3 A3 C4 D4 E4 G4 A4>\n",
      "{51.5} <music21.chord.Chord G3 A3 C4 D4 E4 G4>\n",
      "{52.25} <music21.chord.Chord G3 A3 C4 D4 G4>\n",
      "{52.5} <music21.chord.Chord G3 A3 C4 D4 G4 A4>\n",
      "{52.75} <music21.chord.Chord G3 A3 C4 D4 E4 G4>\n",
      "{53.0} <music21.chord.Chord G3 A3 C4 D4 E4 G4 A4>\n",
      "{53.25} <music21.chord.Chord G3 A3 C4 D4 E4 G4>\n",
      "{54.75} <music21.chord.Chord G3 A3 C4 D4 E4 G4>\n",
      "{55.75} <music21.chord.Chord G3 A3 C4 D4 E4 G4 A4>\n",
      "{56.0} <music21.chord.Chord G3 A3 C4 D4 E4 G4>\n",
      "{56.25} <music21.chord.Chord G3 A3 C4 D4 G4>\n",
      "{56.5} <music21.chord.Chord G3 A3 C4 D4 E4 G4>\n",
      "{57.25} <music21.chord.Chord G3 A3 C4 D4 E4 G4 A4>\n",
      "{57.5} <music21.chord.Chord G3 A3 C4 D4 E4 G4>\n",
      "{58.5} <music21.chord.Chord G3 A3 C4 D4 E4 G4 A4>\n",
      "{58.75} <music21.chord.Chord G3 A3 C4 D4 G4 A4>\n",
      "{59.0} <music21.chord.Chord G3 A3 C4 D4 E4 G4>\n",
      "{59.25} <music21.chord.Chord G3 A3 C4 D4 E4 G4 A4>\n",
      "{59.75} <music21.chord.Chord G3 A3 C4 D4 E4 G4>\n",
      "{61.25} <music21.chord.Chord G3 A3 C4 D4 E4 G4>\n",
      "{62.0} <music21.chord.Chord G3 A3 C4 D4 E4 G4 A4>\n",
      "{62.25} <music21.chord.Chord G3 A3 C4 D4 E4 G4>\n",
      "{62.5} <music21.chord.Chord G3 A3 C4 D4 E4 G4 D5>\n",
      "{62.75} <music21.chord.Chord G3 A3 C4 D4 E4 G4>\n",
      "{64.0} <music21.chord.Chord G3 A3 C4 D4 E4 G4 A4>\n",
      "{64.25} <music21.chord.Chord G3 A3 C4 D4 G4>\n",
      "{64.5} <music21.chord.Chord G3 A3 C4 D4 E4 G4>\n",
      "{65.5} <music21.chord.Chord G3 A3 C4 D4 E4 G4 A4>\n",
      "{65.75} <music21.chord.Chord G3 A3 C4 D4 E4 G4>\n",
      "{66.5} <music21.chord.Chord G3 A3 C4 D4 E4 G4 A4>\n",
      "{66.75} <music21.chord.Chord G3 A3 C4 D4 G4>\n",
      "{67.0} <music21.chord.Chord G3 A3 C4 D4 E4 G4>\n",
      "{67.25} <music21.chord.Chord G3 A3 C4 D4 E4 G4 A4>\n",
      "{67.75} <music21.chord.Chord G3 A3 C4 D4 E4 G4>\n",
      "{68.0} <music21.chord.Chord G3 A3 C4 D4 G4>\n",
      "{68.25} <music21.chord.Chord G3 A3 C4 D4 E4 G4>\n",
      "{68.5} <music21.chord.Chord G3 A3 C4 D4 E4 G4 A4>\n",
      "{68.75} <music21.chord.Chord G3 A3 C4 D4 E4 G4>\n",
      "{70.25} <music21.chord.Chord G3 A3 C4 D4 E4 G4>\n",
      "{71.75} <music21.chord.Chord G3 A3 C4 D4 E4 G4>\n",
      "{73.25} <music21.chord.Chord G3 A3 C4 D4 E4 G4>\n",
      "{74.25} <music21.chord.Chord G3 A3 C4 D4 E4 G4 A4>\n",
      "{74.5} <music21.chord.Chord G3 A3 C4 D4 E4 G4>\n",
      "{75.0} <music21.chord.Chord G3 A3 C4 D4 E4 G4 A4>\n",
      "{75.25} <music21.chord.Chord G3 A3 C4 D4 G4>\n",
      "{75.5} <music21.chord.Chord G3 A3 C4 D4 E4 G4>\n",
      "{76.25} <music21.chord.Chord G3 A3 C4 D4 E4 G4 A4>\n",
      "{76.5} <music21.chord.Chord G3 A3 C4 D4 E4 G4>\n",
      "{78.0} <music21.chord.Chord G3 A3 C4 D4 E4 G4>\n",
      "{78.5} <music21.chord.Chord G3 A3 B3 C4 D4 E4 G4>\n",
      "{78.75} <music21.chord.Chord G3 A3 C4 D4 E4 G4>\n",
      "{79.0} <music21.chord.Chord G3 A3 C4 D4 G4>\n"
     ]
    }
   ],
   "source": [
    "test_stream.show('text')"
   ]
  },
  {
   "cell_type": "code",
   "execution_count": 88,
   "metadata": {},
   "outputs": [
    {
     "name": "stdout",
     "output_type": "stream",
     "text": [
      "{0.0} <music21.instrument.Piano 'Piano'>\n",
      "{0.0} <music21.chord.Chord E3 B-4 B-5 D6>\n",
      "{0.25} <music21.chord.Chord C3 B-4 B-5 B5 C6>\n",
      "{0.5} <music21.chord.Chord E3 B-4 B-5 C6>\n",
      "{0.75} <music21.chord.Chord C3 B-4 B-5 C6>\n",
      "{1.0} <music21.chord.Chord E3 G4 G5 C6>\n",
      "{1.25} <music21.chord.Chord C3 G4 G5 C6>\n",
      "{1.5} <music21.chord.Chord F3 A4 A5 C6>\n",
      "{1.75} <music21.chord.Chord C3 A4 A5 B5 C6>\n",
      "{2.0} <music21.chord.Chord F3 A4 A5 D6>\n",
      "{2.25} <music21.chord.Chord C3 A4 A5 B5 C6>\n",
      "{2.5} <music21.chord.Chord F3 A4 A5 C6>\n",
      "{2.75} <music21.chord.Chord C3 A4 A5 C6>\n",
      "{3.0} <music21.chord.Chord A2 F4 F5 C6>\n",
      "{3.25} <music21.chord.Chord C3 F4 F5 C6>\n",
      "{3.5} <music21.chord.Chord B-2 G4 G5 C6>\n",
      "{3.75} <music21.chord.Chord C3 G4 G5 C6>\n",
      "{4.0} <music21.chord.Chord G2 G4 G5 C6>\n",
      "{4.25} <music21.chord.Chord C3 E4 E5>\n",
      "{4.5} <music21.chord.Chord B-2 C6>\n",
      "{4.75} <music21.note.Note C>\n",
      "{5.0} <music21.chord.Chord G2 C6>\n",
      "{5.25} <music21.note.Note C>\n",
      "{5.5} <music21.chord.Chord F2 F3 F5>\n",
      "{5.75} <music21.chord.Chord F2 F3 E5 F5>\n",
      "{6.0} <music21.chord.Chord F2 F3 G5>\n",
      "{6.25} <music21.chord.Chord F2 F3 E5 F5>\n",
      "{6.5} <music21.chord.Chord F2 F3 F5>\n",
      "{6.75} <music21.chord.Chord F2 F5>\n",
      "{7.0} <music21.chord.Chord D3 F3 F5 B-5>\n",
      "{7.25} <music21.chord.Chord D3 F3 F5 B-5 C6>\n",
      "{7.5} <music21.chord.Chord E-3 F3 F5 A5>\n",
      "{7.75} <music21.chord.Chord E-3 F3 E5 F5 A5>\n",
      "{8.0} <music21.chord.Chord E-3 F3 G5>\n",
      "{8.25} <music21.chord.Chord E-3 F3 E5 F5>\n",
      "{8.5} <music21.chord.Chord E-3 F3 F5>\n",
      "{8.75} <music21.chord.Chord E-3 F5>\n",
      "{9.0} <music21.chord.Chord C3 F3 F5 A5>\n",
      "{9.25} <music21.chord.Chord C3 F3 F5 G5 A5>\n",
      "{9.5} <music21.chord.Chord D3 F3 F5 B-5>\n",
      "{9.75} <music21.chord.Chord D3 F3 D5 E-5 B-5>\n",
      "{10.0} <music21.chord.Chord D3 F3 F5>\n",
      "{10.25} <music21.chord.Chord D3 F3 G5 A5>\n",
      "{10.5} <music21.chord.Chord D3 F3 B-5>\n",
      "{10.75} <music21.chord.Chord D3 G5 A5>\n",
      "{11.0} <music21.chord.Chord B-2 F3 F5 D6>\n",
      "{11.25} <music21.chord.Chord B-2 F3 D5 E-5 C6 D6>\n",
      "{11.5} <music21.chord.Chord C3 F3 E-5 E-6>\n",
      "{11.75} <music21.chord.Chord C3 F3 F5 G5 E-6>\n",
      "{12.0} <music21.chord.Chord C3 F3 F5 E-6>\n",
      "{12.25} <music21.chord.Chord C3 F3 D5 E-5 E-6>\n",
      "{12.5} <music21.chord.Chord C3 F3 C5 E-6>\n",
      "{12.75} <music21.chord.Chord C3 A4 B-4 E-6>\n",
      "{13.0} <music21.chord.Chord F2 F3 G4 A5>\n",
      "{13.25} <music21.chord.Chord F2 F3 E-4 F4 A5>\n",
      "{13.5} <music21.chord.Chord B-2 F3 D4 B-5>\n",
      "{13.75} <music21.chord.Chord B-2 F3 D4 A5 B-5>\n",
      "{14.0} <music21.note.Note C>\n",
      "{14.25} <music21.chord.Chord A5 B-5>\n",
      "{14.5} <music21.note.Note G>\n",
      "{14.75} <music21.chord.Chord E-5 F5>\n",
      "{15.0} <music21.note.Note D>\n",
      "{15.25} <music21.chord.Chord B-4 C5>\n",
      "{15.5} <music21.chord.Chord C4 E-4 F4 A4>\n",
      "{15.75} <music21.note.Rest rest>\n",
      "{16.0} <music21.chord.Chord C4 E-4 F4 A4>\n",
      "{16.25} <music21.note.Rest rest>\n",
      "{16.5} <music21.chord.Chord A3 E-4 F4 C5>\n",
      "{16.75} <music21.note.Rest rest>\n",
      "{17.5} <music21.note.Note C>\n",
      "{17.75} <music21.chord.Chord B5 C6>\n",
      "{18.0} <music21.note.Note D>\n",
      "{18.25} <music21.chord.Chord B-5 C6>\n",
      "{18.5} <music21.note.Note A>\n",
      "{18.75} <music21.chord.Chord F5 G5>\n",
      "{19.0} <music21.note.Note E->\n",
      "{19.25} <music21.chord.Chord C5 D5>\n",
      "{19.5} <music21.chord.Chord D4 F4 G#4 B4>\n",
      "{19.75} <music21.note.Rest rest>\n",
      "{20.0} <music21.chord.Chord D4 F4 G#4 B4>\n",
      "{20.25} <music21.note.Rest rest>\n",
      "{20.5} <music21.chord.Chord B3 F4 G#4 D5>\n",
      "{20.75} <music21.note.Rest rest>\n",
      "{21.5} <music21.note.Note D>\n",
      "{21.75} <music21.chord.Chord C#4 D4>\n",
      "{22.0} <music21.note.Note E>\n",
      "{22.25} <music21.chord.Chord C4 D4>\n",
      "{22.5} <music21.note.Note B->\n",
      "{22.75} <music21.chord.Chord G3 A3>\n",
      "{23.0} <music21.note.Note F>\n",
      "{23.25} <music21.chord.Chord D3 E3>\n",
      "{23.5} <music21.note.Note C#>\n",
      "{23.75} <music21.note.Rest rest>\n",
      "{24.0} <music21.note.Note C#>\n",
      "{24.25} <music21.note.Rest rest>\n",
      "{24.5} <music21.chord.Chord E3 G4>\n",
      "{24.75} <music21.note.Rest rest>\n",
      "{25.0} <music21.note.Note G>\n",
      "{25.25} <music21.note.Rest rest>\n",
      "{25.5} <music21.chord.Chord B-4 C#5>\n",
      "{25.75} <music21.note.Note B->\n",
      "{26.0} <music21.note.Note C#>\n",
      "{26.25} <music21.note.Rest rest>\n",
      "{26.5} <music21.chord.Chord E5 G5>\n",
      "{26.75} <music21.note.Rest rest>\n",
      "{27.0} <music21.note.Note G>\n",
      "{27.25} <music21.note.Rest rest>\n",
      "{27.5} <music21.chord.Chord C#3 G4 B-4 B-5>\n",
      "{27.75} <music21.note.Rest rest>\n",
      "{28.0} <music21.chord.Chord C#3 G4 B-4 B-5>\n",
      "{28.25} <music21.note.Rest rest>\n",
      "{28.5} <music21.chord.Chord E3 G4 B-4 G5>\n",
      "{28.75} <music21.note.Rest rest>\n",
      "{29.0} <music21.chord.Chord G4 B-4>\n",
      "{29.25} <music21.note.Rest rest>\n",
      "{29.5} <music21.chord.Chord G3 G4 B-4 E5>\n",
      "{29.75} <music21.note.Rest rest>\n",
      "{30.0} <music21.chord.Chord G3 G4 B-4 E5>\n",
      "{30.25} <music21.note.Rest rest>\n",
      "{30.5} <music21.chord.Chord B-3 G4 B-4 C#5>\n",
      "{30.75} <music21.note.Rest rest>\n",
      "{31.0} <music21.chord.Chord G4 B-4>\n",
      "{31.25} <music21.note.Rest rest>\n",
      "{31.5} <music21.chord.Chord C3 F#4 A4 A5>\n",
      "{31.75} <music21.chord.Chord F#4 A4>\n",
      "{32.0} <music21.chord.Chord C3 F#4 A4 A5>\n",
      "{32.25} <music21.chord.Chord F#4 A4>\n",
      "{32.5} <music21.chord.Chord E-3 F#4 A4 F#5>\n",
      "{32.75} <music21.chord.Chord F#4 A4>\n",
      "{33.5} <music21.chord.Chord F#3 F#4 A4 E-5>\n",
      "{33.75} <music21.chord.Chord F#4 A4>\n",
      "{34.0} <music21.chord.Chord F#3 F#4 A4 E-5>\n",
      "{34.25} <music21.chord.Chord F#4 A4>\n",
      "{34.5} <music21.chord.Chord A3 F#4 A4 C5>\n",
      "{34.75} <music21.chord.Chord F#4 A4>\n",
      "{35.5} <music21.chord.Chord B2 F4 G#4 G#5>\n",
      "{35.75} <music21.chord.Chord F4 G#4>\n",
      "{36.0} <music21.chord.Chord B2 F4 G#4 G#5>\n",
      "{36.25} <music21.chord.Chord F4 G#4>\n",
      "{36.5} <music21.chord.Chord D3 F4 G#4 F5>\n",
      "{36.75} <music21.chord.Chord F4 G#4>\n",
      "{37.5} <music21.chord.Chord F3 F4 G#4 D5>\n",
      "{37.75} <music21.chord.Chord F4 G#4>\n",
      "{38.0} <music21.chord.Chord F3 F4 G#4 D5>\n",
      "{38.25} <music21.chord.Chord F4 G#4>\n",
      "{38.5} <music21.chord.Chord G#3 F4 G#4 B4>\n",
      "{38.75} <music21.chord.Chord F4 G#4>\n",
      "{39.5} <music21.chord.Chord F3 F4 G#4 D5>\n",
      "{39.75} <music21.chord.Chord F4 G#4>\n",
      "{40.0} <music21.chord.Chord F3 F4 G#4 D5>\n",
      "{40.25} <music21.chord.Chord F4 G#4>\n",
      "{40.5} <music21.chord.Chord G#3 F4 G#4 B4>\n",
      "{40.75} <music21.chord.Chord F4 G#4>\n",
      "{41.5} <music21.chord.Chord F3 F4 G#4 D5>\n",
      "{41.75} <music21.chord.Chord F4 G#4>\n",
      "{42.0} <music21.chord.Chord F3 F4 G#4 D5>\n",
      "{42.25} <music21.chord.Chord F4 G#4>\n",
      "{42.5} <music21.chord.Chord G#3 F4 G#4 B4>\n",
      "{42.75} <music21.chord.Chord F4 G#4>\n",
      "{43.5} <music21.chord.Chord E4 G4 C#5>\n",
      "{43.75} <music21.chord.Chord E4 G4>\n",
      "{44.0} <music21.chord.Chord E4 G4 C#5>\n",
      "{44.25} <music21.chord.Chord E4 G4>\n",
      "{44.5} <music21.chord.Chord E4 G4 B-4>\n",
      "{44.75} <music21.chord.Chord E4 G4>\n",
      "{45.5} <music21.chord.Chord E4 G4 C#5>\n",
      "{45.75} <music21.chord.Chord E4 G4>\n",
      "{46.0} <music21.chord.Chord E4 G4 C#5>\n",
      "{46.25} <music21.chord.Chord E4 G4>\n",
      "{46.5} <music21.chord.Chord E4 G4 B-4>\n",
      "{46.75} <music21.chord.Chord E4 G4>\n",
      "{47.5} <music21.chord.Chord B-3 E4 G4 C#5>\n",
      "{48.5} <music21.chord.Chord C#4 E4 G4 B-4>\n",
      "{50.0} <music21.chord.Chord C#4 E4 G4 B-4>\n",
      "{50.5} <music21.chord.Chord B-3 C4 G4 E5>\n",
      "{51.0} <music21.chord.Chord C3 C4 G4 E5>\n",
      "{51.25} <music21.chord.Chord C4 G4 E5>\n",
      "{51.5} <music21.chord.Chord A3 C4 F4 F5>\n",
      "{51.75} <music21.chord.Chord A3 C4 E4 F4 F5>\n",
      "{52.0} <music21.chord.Chord A3 G4>\n",
      "{52.25} <music21.chord.Chord A3 E4 F4>\n",
      "{52.5} <music21.chord.Chord A3 D4>\n",
      "{52.75} <music21.chord.Chord A3 B-3 C4>\n",
      "{53.0} <music21.note.Note A>\n",
      "{53.25} <music21.chord.Chord F3 G3 A3>\n",
      "{53.5} <music21.chord.Chord E3 B-3>\n",
      "{53.75} <music21.note.Note B->\n",
      "{54.0} <music21.chord.Chord E3 B-3>\n",
      "{54.25} <music21.note.Note B->\n",
      "{54.5} <music21.chord.Chord G3 B-3>\n",
      "{54.75} <music21.note.Rest rest>\n",
      "{55.0} <music21.note.Note G>\n",
      "{55.5} <music21.chord.Chord E3 G4>\n",
      "{55.75} <music21.chord.Chord F#4 G4>\n",
      "{56.0} <music21.chord.Chord C3 A4>\n",
      "{56.25} <music21.chord.Chord F4 G4>\n",
      "{56.5} <music21.chord.Chord C4 E4>\n",
      "{56.75} <music21.chord.Chord C4 D4>\n",
      "{57.0} <music21.chord.Chord B-3 C4>\n",
      "{57.25} <music21.chord.Chord G3 A3 C4>\n",
      "{57.5} <music21.chord.Chord F3 C4>\n",
      "{57.75} <music21.note.Rest rest>\n",
      "{58.0} <music21.chord.Chord F3 A3>\n",
      "{58.25} <music21.note.Rest rest>\n",
      "{58.5} <music21.chord.Chord A3 C4>\n",
      "{58.75} <music21.note.Rest rest>\n",
      "{59.0} <music21.note.Note A>\n",
      "{59.25} <music21.note.Rest rest>\n",
      "{59.5} <music21.chord.Chord F3 A4 F5>\n",
      "{59.75} <music21.chord.Chord F3 A4 E5 F5>\n",
      "{60.0} <music21.chord.Chord F3 A4 G5>\n",
      "{60.25} <music21.chord.Chord F3 A4 E5 F5>\n",
      "{60.5} <music21.chord.Chord F3 A4 D5>\n",
      "{60.75} <music21.chord.Chord A4 B-4 C5>\n",
      "{61.0} <music21.chord.Chord C3 A4>\n",
      "{61.25} <music21.chord.Chord C3 F4 G4 A4>\n",
      "{61.5} <music21.chord.Chord G3 E4 B-4>\n",
      "{61.75} <music21.chord.Chord G3 B-4>\n",
      "{62.0} <music21.chord.Chord G3 E4 B-4>\n",
      "{62.25} <music21.chord.Chord G3 B-4>\n",
      "{62.5} <music21.chord.Chord G3 G4 B-4>\n",
      "{62.75} <music21.note.Rest rest>\n",
      "{63.0} <music21.chord.Chord C3 G4>\n",
      "{63.5} <music21.chord.Chord B-3 E4 G5>\n",
      "{63.75} <music21.chord.Chord B-3 F#5 G5>\n",
      "{64.0} <music21.chord.Chord B-3 C4 A5>\n",
      "{64.25} <music21.chord.Chord B-3 F5 G5>\n",
      "{64.5} <music21.chord.Chord B-3 C5 E5>\n",
      "{64.75} <music21.chord.Chord C5 D5>\n",
      "{65.0} <music21.chord.Chord C3 B-4 C5>\n",
      "{65.25} <music21.chord.Chord C3 G4 A4 C5>\n",
      "{65.5} <music21.chord.Chord A3 F4 C5>\n",
      "{65.75} <music21.note.Note A>\n",
      "{66.0} <music21.chord.Chord F4 A4>\n",
      "{66.25} <music21.note.Rest rest>\n",
      "{66.5} <music21.chord.Chord A4 C5>\n",
      "{66.75} <music21.note.Rest rest>\n",
      "{67.0} <music21.note.Note A>\n",
      "{67.25} <music21.note.Rest rest>\n",
      "{67.5} <music21.chord.Chord F3 F4 A4 A5>\n",
      "{67.75} <music21.chord.Chord E3 F3 F4 A4 A5>\n",
      "{68.0} <music21.chord.Chord C3 G3 C4 A4 A5>\n",
      "{68.25} <music21.chord.Chord C3 E3 F3 C4 A4 A5>\n",
      "{68.5} <music21.chord.Chord C3 D3 C4 A4 A5>\n",
      "{68.75} <music21.chord.Chord B-2 C3 C4 A4 A5>\n",
      "{69.0} <music21.chord.Chord A2 C3 C4 A4 A5>\n",
      "{69.25} <music21.chord.Chord F2 G2 C3 C4 A4 A5>\n",
      "{69.5} <music21.chord.Chord E2 C3 C4 B-4 B-5>\n",
      "{69.75} <music21.chord.Chord C3 C4 B-4 B-5>\n",
      "{70.0} <music21.chord.Chord E2 C3 C4 B-4 B-5>\n",
      "{70.25} <music21.chord.Chord C3 C4 B-4 B-5>\n",
      "{70.5} <music21.chord.Chord G2 C3 C4 B-4 B-5>\n",
      "{70.75} <music21.chord.Chord C3 C4>\n",
      "{71.0} <music21.chord.Chord C3 C4 G4 G5>\n",
      "{71.5} <music21.chord.Chord C3 B-3 C4 E4 E5>\n",
      "{71.75} <music21.chord.Chord C3 A3 B-3 C4>\n",
      "{72.0} <music21.chord.Chord C3 C4 C5>\n",
      "{72.25} <music21.chord.Chord C3 A3 B-3>\n",
      "{72.5} <music21.chord.Chord C3 G3 C4 C5 C6>\n",
      "{72.75} <music21.chord.Chord C3 E3 F3 C4 C5 C6>\n",
      "{73.0} <music21.chord.Chord C3 D3 C4 C5 C6>\n",
      "{73.25} <music21.chord.Chord B-2 C3 C4 C5 C6>\n",
      "{73.5} <music21.chord.Chord A2 C3 C4 C5 C6>\n",
      "{73.75} <music21.chord.Chord C3 C4 C5 C6>\n",
      "{74.0} <music21.chord.Chord F2 F3 A4 A5>\n",
      "{74.25} <music21.note.Rest rest>\n",
      "{74.5} <music21.chord.Chord A2 A3 C5 C6>\n",
      "{74.75} <music21.note.Rest rest>\n",
      "{75.0} <music21.chord.Chord C3 C4 A4 A5>\n",
      "{75.25} <music21.note.Rest rest>\n",
      "{75.5} <music21.chord.Chord F3 C4 E-4 A4 E-6>\n",
      "{75.75} <music21.chord.Chord F3 C4 E-4 A4 D6 E-6>\n",
      "{76.0} <music21.chord.Chord F3 C4 E-4 A4 F6>\n",
      "{76.25} <music21.chord.Chord F3 C4 E-4 A4 D6 E-6>\n",
      "{76.5} <music21.chord.Chord C4 E-4 A4 C6>\n",
      "{76.75} <music21.chord.Chord C4 E-4 A4 A5 B-5>\n",
      "{77.0} <music21.chord.Chord F2 C4 E-4 A4 G5>\n",
      "{77.25} <music21.chord.Chord F2 E-5 F5>\n",
      "{77.5} <music21.chord.Chord B-2 B-3 D4 B-4 D5>\n",
      "{77.75} <music21.chord.Chord B-2 B-3 D4 B-4>\n",
      "{78.0} <music21.chord.Chord B-2 B-3 D4 B-4 D5>\n",
      "{78.25} <music21.chord.Chord B-2 B-3 D4 B-4>\n",
      "{78.5} <music21.chord.Chord B-3 D4 B-4 D6>\n",
      "{78.75} <music21.chord.Chord B-3 D4 B-4>\n",
      "{79.25} <music21.note.Note B->\n",
      "{79.5} <music21.chord.Chord C3 G4 E5 B-5>\n"
     ]
    }
   ],
   "source": [
    "stream1.show('text')"
   ]
  },
  {
   "cell_type": "code",
   "execution_count": null,
   "metadata": {},
   "outputs": [],
   "source": []
  },
  {
   "cell_type": "code",
   "execution_count": null,
   "metadata": {},
   "outputs": [],
   "source": []
  }
 ],
 "metadata": {
  "kernelspec": {
   "display_name": "Python 3",
   "language": "python",
   "name": "python3"
  },
  "language_info": {
   "codemirror_mode": {
    "name": "ipython",
    "version": 3
   },
   "file_extension": ".py",
   "mimetype": "text/x-python",
   "name": "python",
   "nbconvert_exporter": "python",
   "pygments_lexer": "ipython3",
   "version": "3.7.9"
  }
 },
 "nbformat": 4,
 "nbformat_minor": 4
}
