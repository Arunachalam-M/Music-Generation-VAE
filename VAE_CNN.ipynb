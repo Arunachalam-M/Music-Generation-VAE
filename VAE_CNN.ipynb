{
 "cells": [
  {
   "cell_type": "code",
   "execution_count": 1,
   "metadata": {},
   "outputs": [],
   "source": [
    "from music21 import converter, instrument, note, chord, stream, midi, instrument\n",
    "from scipy import sparse\n",
    "import time\n",
    "import tqdm.auto\n",
    "import glob\n",
    "import numpy as np\n",
    "import pandas as pd\n",
    "import torch\n",
    "import torch.nn as nn\n",
    "import torch.optim as optim\n",
    "import math"
   ]
  },
  {
   "cell_type": "code",
   "execution_count": 2,
   "metadata": {},
   "outputs": [],
   "source": [
    "def DataToStream(data_mat, time_signature = 0.25):\n",
    "    melody_stream = stream.Stream()\n",
    "    melody_stream.append(instrument.Piano())\n",
    "    t,k = data_mat.shape\n",
    "    old_element = None\n",
    "    counter = 1\n",
    "    for i in range(t):\n",
    "        arr = data_mat[i,:]\n",
    "        r = np.int(np.sum(arr))\n",
    "        \n",
    "        if r == 1:\n",
    "            #print(np.argmax(arr))\n",
    "            new_element = note.Note(np.argmax(arr))\n",
    "        elif r > 1:\n",
    "            #print(arr)\n",
    "            arr = arr.todense()\n",
    "            #print(np.where(arr == 1)[1])\n",
    "            pitches = np.where(arr == 1)[1]\n",
    "            all_notes = np.array([note.Note(i) for i in pitches])\n",
    "            new_element = chord.Chord(all_notes)\n",
    "        else:\n",
    "            #print(r)\n",
    "            new_element = note.Rest()\n",
    "        \n",
    "        if new_element == old_element and counter < 6:\n",
    "            counter += 1\n",
    "        else:\n",
    "            if old_element:\n",
    "                old_element.quarterLength = time_signature*counter\n",
    "                melody_stream.append(old_element)\n",
    "            counter = 1\n",
    "            \n",
    "        old_element = new_element\n",
    "            \n",
    "    return melody_stream"
   ]
  },
  {
   "cell_type": "code",
   "execution_count": 3,
   "metadata": {},
   "outputs": [],
   "source": [
    "classes = ['bach','backstreetboys','beatles','beethoven','brahms','britneyspears',\n",
    "             'chopin','coldplay','debussy','haydn','liszt','mendelssohn',\n",
    "            'mozart','nirvana','paganini','queen','rachmaninow','schubert',\n",
    "            'schumann','tchaikovsky']\n",
    "datasets = [folder + '_dataset.npz' for folder in classes]\n",
    "labels = np.arange(20)"
   ]
  },
  {
   "cell_type": "code",
   "execution_count": 4,
   "metadata": {},
   "outputs": [],
   "source": [
    "song_length = 1*60*6\n",
    "sample_size = 20\n",
    "n_classes = len(classes)\n",
    "device = \"cuda:0\""
   ]
  },
  {
   "cell_type": "code",
   "execution_count": 5,
   "metadata": {},
   "outputs": [],
   "source": [
    "data = []\n",
    "for file in datasets:\n",
    "    d = []\n",
    "    subset = np.load(file,allow_pickle=True)\n",
    "    for item in subset.files:\n",
    "        d.append(subset[item])\n",
    "    data.append(d[0])\n",
    "    "
   ]
  },
  {
   "cell_type": "code",
   "execution_count": 6,
   "metadata": {},
   "outputs": [
    {
     "data": {
      "text/plain": [
       "20"
      ]
     },
     "execution_count": 6,
     "metadata": {},
     "output_type": "execute_result"
    }
   ],
   "source": [
    "len(data)"
   ]
  },
  {
   "cell_type": "code",
   "execution_count": 7,
   "metadata": {},
   "outputs": [
    {
     "data": {
      "text/plain": [
       "<2388x128 sparse matrix of type '<class 'numpy.float64'>'\n",
       "\twith 6871 stored elements in Compressed Sparse Row format>"
      ]
     },
     "execution_count": 7,
     "metadata": {},
     "output_type": "execute_result"
    }
   ],
   "source": [
    "data[19][19]"
   ]
  },
  {
   "cell_type": "code",
   "execution_count": 8,
   "metadata": {},
   "outputs": [],
   "source": [
    "def random_snippet(c):\n",
    "    n_songs = len(data[c])\n",
    "    song_no = np.random.randint(n_songs)\n",
    "    song = data[c][song_no]\n",
    "    L,D = song.shape\n",
    "    start_max = L-song_length\n",
    "    if start_max > 0:\n",
    "        song_start = np.random.randint(start_max)\n",
    "    else:\n",
    "        #print(c,song_no)\n",
    "        return random_snippet(c)\n",
    "    \n",
    "    return song[song_start:song_start+song_length,:]"
   ]
  },
  {
   "cell_type": "code",
   "execution_count": 9,
   "metadata": {},
   "outputs": [
    {
     "data": {
      "text/plain": [
       "<360x128 sparse matrix of type '<class 'numpy.float64'>'\n",
       "\twith 809 stored elements in Compressed Sparse Row format>"
      ]
     },
     "execution_count": 9,
     "metadata": {},
     "output_type": "execute_result"
    }
   ],
   "source": [
    "random_snippet(3)"
   ]
  },
  {
   "cell_type": "code",
   "execution_count": 10,
   "metadata": {},
   "outputs": [
    {
     "data": {
      "text/plain": [
       "tensor([ 8, 10,  3, 18, 15, 17, 19, 12,  2,  1])"
      ]
     },
     "execution_count": 10,
     "metadata": {},
     "output_type": "execute_result"
    }
   ],
   "source": [
    "torch.randint(20,(1,10)).detach().cpu()[0]"
   ]
  },
  {
   "cell_type": "code",
   "execution_count": 11,
   "metadata": {},
   "outputs": [],
   "source": [
    "def standard_batch(size = sample_size):\n",
    "    batch = []\n",
    "    #class_id = torch.randint(20,(1,sample_size)).detach().cpu()[0]\n",
    "    class_id = [0,6]*int(sample_size/2)\n",
    "    for i in range(size):\n",
    "        snippet = random_snippet(class_id[i])\n",
    "        batch.append(snippet)\n",
    "    return batch"
   ]
  },
  {
   "cell_type": "code",
   "execution_count": 12,
   "metadata": {},
   "outputs": [],
   "source": [
    "batch1 = standard_batch()"
   ]
  },
  {
   "cell_type": "code",
   "execution_count": 13,
   "metadata": {},
   "outputs": [],
   "source": [
    "stream1 = DataToStream(batch1[sample_size-1], time_signature = 0.25)"
   ]
  },
  {
   "cell_type": "code",
   "execution_count": 14,
   "metadata": {},
   "outputs": [
    {
     "data": {
      "text/html": [
       "\n",
       "                <div id='midiPlayerDiv1559'></div>\n",
       "                <link rel=\"stylesheet\" href=\"//cuthbertLab.github.io/music21j/css/m21.css\"\n",
       "                    type=\"text/css\" />\n",
       "                <script>\n",
       "                require.config({\n",
       "                    paths: {'music21': '//cuthbertLab.github.io/music21j/src/music21'}\n",
       "                });\n",
       "                require(['music21'], function() {\n",
       "                               mp = new music21.miditools.MidiPlayer();\n",
       "                               mp.addPlayer('#midiPlayerDiv1559');\n",
       "                               mp.base64Load('data:audio/midi;base64,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');\n",
       "                        });\n",
       "                </script>"
      ],
      "text/plain": [
       "<IPython.core.display.HTML object>"
      ]
     },
     "metadata": {},
     "output_type": "display_data"
    }
   ],
   "source": [
    "stream1.show('midi')"
   ]
  },
  {
   "cell_type": "code",
   "execution_count": 15,
   "metadata": {},
   "outputs": [
    {
     "data": {
      "text/plain": [
       "(20, 360, 128)"
      ]
     },
     "execution_count": 15,
     "metadata": {},
     "output_type": "execute_result"
    }
   ],
   "source": [
    "batch2 = np.array([a.todense() for a in batch1])\n",
    "batch2.shape"
   ]
  },
  {
   "cell_type": "code",
   "execution_count": 16,
   "metadata": {},
   "outputs": [],
   "source": [
    "def sample():\n",
    "    batch1 = standard_batch()\n",
    "    batch2 = np.array([a.todense() for a in batch1])\n",
    "    device = \"cuda:0\"\n",
    "    batch3 = torch.from_numpy(batch2).to(device).float()\n",
    "    return batch3\n",
    "    "
   ]
  },
  {
   "cell_type": "code",
   "execution_count": 17,
   "metadata": {},
   "outputs": [],
   "source": [
    "def torch_convert(song):\n",
    "    batch2 = song.todense()\n",
    "    device = \"cuda:0\"\n",
    "    batch3 = torch.from_numpy(batch2).to(device).float()\n",
    "    return batch3.view(1,song.shape[0],song.shape[1])"
   ]
  },
  {
   "cell_type": "code",
   "execution_count": 18,
   "metadata": {},
   "outputs": [
    {
     "data": {
      "text/plain": [
       "torch.Size([20, 360, 128])"
      ]
     },
     "execution_count": 18,
     "metadata": {},
     "output_type": "execute_result"
    }
   ],
   "source": [
    "batch = sample()\n",
    "batch.shape"
   ]
  },
  {
   "cell_type": "code",
   "execution_count": 61,
   "metadata": {},
   "outputs": [],
   "source": [
    "class LingLing_VAE(nn.Module):\n",
    "    def __init__(self, dim = 128, feature_len = 256, kernel_num = 64, channel_num = 1):\n",
    "        super(LingLing_VAE, self).__init__()\n",
    "        \n",
    "        device = \"cuda:0\"\n",
    "        \n",
    "        self.dim = dim\n",
    "        self.latent_dim = feature_len//2\n",
    "        self.feature_len = self.latent_dim*2\n",
    "        self.kernel_num = kernel_num\n",
    "        \n",
    "        \n",
    "        self.encoder = nn.Sequential(\n",
    "            self._conv(channel_num, kernel_num // 4),\n",
    "            self._conv(kernel_num // 4, kernel_num // 2),\n",
    "            self._conv(kernel_num // 2, kernel_num),\n",
    "        )\n",
    "        \n",
    "        self.decoder = nn.Sequential(\n",
    "            self._deconv(kernel_num, kernel_num // 2),\n",
    "            self._deconv(kernel_num // 2, kernel_num // 4),\n",
    "            self._deconv(kernel_num // 4, channel_num),\n",
    "            nn.Sigmoid()\n",
    "        )\n",
    "        \n",
    "        self.n_features = (song_length//8)*(self.dim//8)*kernel_num\n",
    "        \n",
    "        self.compressor = nn.Linear(self.n_features,self.feature_len)\n",
    "        self.decompressor = nn.Linear(self.latent_dim,self.n_features)\n",
    "        \n",
    "        self.compressor.to(device)\n",
    "        self.decompressor.to(device)\n",
    "        self.encoder.to(device)\n",
    "        self.decoder.to(device)\n",
    "    \n",
    "    def reparameterize(self, mu, log_var):\n",
    "        std = torch.exp(0.5*log_var)\n",
    "        eps = torch.randn_like(std)\n",
    "        sample = mu + (eps * std)\n",
    "        return sample\n",
    "        \n",
    "\n",
    "    def forward(self, song):\n",
    "        \n",
    "        encoded = self.encoder(song.unsqueeze(1))\n",
    "        features = self.compressor(encoded.view(-1,self.n_features))        \n",
    "        features = features.view(-1, 2, self.latent_dim)\n",
    "        \n",
    "        mu = features[:, 0, :]\n",
    "        log_var = features[:, 1, :]\n",
    "        #print(mu.shape,log_var.shape)\n",
    "        #z = self.reparameterize(mu, log_var)\n",
    "        z = mu\n",
    "        \n",
    "        decoder_input = self.decompressor(z)\n",
    "        decoder_input = decoder_input.view(-1, self.kernel_num,(song_length//8),(self.dim//8))\n",
    "        \n",
    "        reconstruction = self.decoder(decoder_input).view(-1,song_length,self.dim)\n",
    "                \n",
    "        return reconstruction, mu, log_var\n",
    "    \n",
    "    def _conv(self, channel_size, kernel_num):\n",
    "        return nn.Sequential(\n",
    "            nn.Conv2d(\n",
    "                channel_size, kernel_num,\n",
    "                kernel_size=4, stride=2, padding=1,\n",
    "            ),\n",
    "            nn.BatchNorm2d(kernel_num),\n",
    "            nn.ReLU(),\n",
    "        )\n",
    "\n",
    "    def _deconv(self, channel_num, kernel_num):\n",
    "        return nn.Sequential(\n",
    "            nn.ConvTranspose2d(\n",
    "                channel_num, kernel_num,\n",
    "                kernel_size=4, stride=2, padding=1,\n",
    "            ),\n",
    "            nn.BatchNorm2d(kernel_num),\n",
    "            nn.ReLU(),\n",
    "        )\n"
   ]
  },
  {
   "cell_type": "code",
   "execution_count": 62,
   "metadata": {},
   "outputs": [],
   "source": [
    "#sample_batch = sample()\n",
    "#recon,mu,log_var = model(sample_batch)\n",
    "#print(recon.shape,mu.shape,log_var.shape)"
   ]
  },
  {
   "cell_type": "code",
   "execution_count": 63,
   "metadata": {},
   "outputs": [],
   "source": [
    "#torch.sum(recon)"
   ]
  },
  {
   "cell_type": "code",
   "execution_count": null,
   "metadata": {},
   "outputs": [],
   "source": []
  },
  {
   "cell_type": "code",
   "execution_count": 77,
   "metadata": {},
   "outputs": [],
   "source": [
    "model = LingLing_VAE()\n",
    "optimizer = optim.Adam(model.parameters(), lr=1e-4, betas =(0.9,0.999), weight_decay = 0.00001, eps=1e-08)\n",
    "criterion = nn.MSELoss(reduction='sum')\n",
    "#criterion = nn.BCELoss(reduction='sum')\n",
    "optimizer = optim.SGD(model.parameters(), lr=1e-4, momentum=0.9)"
   ]
  },
  {
   "cell_type": "code",
   "execution_count": 78,
   "metadata": {},
   "outputs": [
    {
     "data": {
      "text/plain": [
       "<All keys matched successfully>"
      ]
     },
     "execution_count": 78,
     "metadata": {},
     "output_type": "execute_result"
    }
   ],
   "source": [
    "model.load_state_dict(torch.load('Ling_ling_VAE.pt'))"
   ]
  },
  {
   "cell_type": "code",
   "execution_count": 80,
   "metadata": {},
   "outputs": [
    {
     "name": "stdout",
     "output_type": "stream",
     "text": [
      "Iteration : 249  Loss : 11520.0 Running Average Loss : 11520.0\n",
      "Iteration : 499  Loss : 11520.0 Running Average Loss : 11520.000015625\n",
      "Iteration : 749  Loss : 11520.0 Running Average Loss : 11520.0\n",
      "Iteration : 999  Loss : 11520.0 Running Average Loss : 11520.0\n",
      "Iteration : 1249  Loss : 11520.0 Running Average Loss : 11520.0\n",
      "Iteration : 1499  Loss : 11520.0 Running Average Loss : 11520.000003125\n"
     ]
    },
    {
     "ename": "KeyboardInterrupt",
     "evalue": "",
     "output_type": "error",
     "traceback": [
      "\u001b[1;31m---------------------------------------------------------------------------\u001b[0m",
      "\u001b[1;31mKeyboardInterrupt\u001b[0m                         Traceback (most recent call last)",
      "\u001b[1;32m<ipython-input-80-810c19b0b178>\u001b[0m in \u001b[0;36m<module>\u001b[1;34m\u001b[0m\n\u001b[0;32m     23\u001b[0m     \u001b[1;31m#print(loss.item(),bce_loss.item(),KLD_weight*KLD_loss.item())\u001b[0m\u001b[1;33m\u001b[0m\u001b[1;33m\u001b[0m\u001b[1;33m\u001b[0m\u001b[0m\n\u001b[0;32m     24\u001b[0m \u001b[1;33m\u001b[0m\u001b[0m\n\u001b[1;32m---> 25\u001b[1;33m     \u001b[0mtotal_loss\u001b[0m \u001b[1;33m+=\u001b[0m \u001b[0mloss\u001b[0m\u001b[1;33m.\u001b[0m\u001b[0mitem\u001b[0m\u001b[1;33m(\u001b[0m\u001b[1;33m)\u001b[0m\u001b[1;33m\u001b[0m\u001b[1;33m\u001b[0m\u001b[0m\n\u001b[0m\u001b[0;32m     26\u001b[0m     \u001b[0mre_loss\u001b[0m \u001b[1;33m+=\u001b[0m \u001b[0mreconstruction_loss\u001b[0m\u001b[1;33m.\u001b[0m\u001b[0mitem\u001b[0m\u001b[1;33m(\u001b[0m\u001b[1;33m)\u001b[0m\u001b[1;33m\u001b[0m\u001b[1;33m\u001b[0m\u001b[0m\n\u001b[0;32m     27\u001b[0m \u001b[1;33m\u001b[0m\u001b[0m\n",
      "\u001b[1;31mKeyboardInterrupt\u001b[0m: "
     ]
    }
   ],
   "source": [
    "optimizer.zero_grad()\n",
    "iterations = 5000 + 1\n",
    "total_loss = 0\n",
    "re_loss = 0\n",
    "new_sample_cycle = 1\n",
    "KLD_weight = 100000\n",
    "\n",
    "for i in range(iterations):\n",
    "    \n",
    "    if i%new_sample_cycle == 0:\n",
    "        sample_batch = sample()\n",
    "\n",
    "    optimizer.zero_grad()\n",
    "    reconstruction,mu,log_var = model(sample_batch)\n",
    "    \n",
    "    #print(reconstruction,sample_batch)\n",
    "    \n",
    "    reconstruction_loss = criterion(reconstruction.view(-1,song_length*128), sample_batch.view(-1,song_length*128))\n",
    "    \n",
    "    #KLD_loss = torch.sum(-0.5 * torch.sum(1 + log_var - mu ** 2 - log_var.exp(), dim = 1), dim = 0)\n",
    "    \n",
    "    loss = reconstruction_loss #+ KLD_weight*KLD_loss\n",
    "    #print(loss.item(),bce_loss.item(),KLD_weight*KLD_loss.item())\n",
    "    \n",
    "    total_loss += loss.item()\n",
    "    re_loss += reconstruction_loss.item()\n",
    "    \n",
    "    loss.backward()\n",
    "    optimizer.step()\n",
    "    \n",
    "    if i%250 == 249:\n",
    "        print(\"Iteration :\",i, \" Loss :\", loss.item()/sample_size, \"Running Average Loss :\", total_loss/(250*sample_size))\n",
    "        #print(\"Reconstruction Loss\", re_loss/(250*sample_size),\" KLD Loss\", KLD_weight*KLD_loss.item()/sample_size)\n",
    "        total_loss = 0\n",
    "        re_loss = 0\n",
    "        \n",
    "    #if i%new_sample_cycle == 0: \n",
    "    #    print(\"Iteration :\",i, \" Starting Loss :\", loss.item()/sample_size)"
   ]
  },
  {
   "cell_type": "code",
   "execution_count": 67,
   "metadata": {},
   "outputs": [],
   "source": [
    "torch.save(model.state_dict(), 'Ling_ling_VAE.pt')"
   ]
  },
  {
   "cell_type": "code",
   "execution_count": null,
   "metadata": {},
   "outputs": [],
   "source": []
  },
  {
   "cell_type": "code",
   "execution_count": null,
   "metadata": {},
   "outputs": [],
   "source": []
  },
  {
   "cell_type": "code",
   "execution_count": 40,
   "metadata": {},
   "outputs": [],
   "source": [
    "sample_batch = sample()"
   ]
  },
  {
   "cell_type": "code",
   "execution_count": 41,
   "metadata": {},
   "outputs": [],
   "source": [
    "song = sample_batch[1].detach().cpu().numpy()\n",
    "song = sparse.csr_matrix(song)\n",
    "stream1 = DataToStream(song, time_signature = 0.25)"
   ]
  },
  {
   "cell_type": "code",
   "execution_count": 42,
   "metadata": {},
   "outputs": [
    {
     "data": {
      "text/html": [
       "\n",
       "                <div id='midiPlayerDiv3113'></div>\n",
       "                <link rel=\"stylesheet\" href=\"//cuthbertLab.github.io/music21j/css/m21.css\"\n",
       "                    type=\"text/css\" />\n",
       "                <script>\n",
       "                require.config({\n",
       "                    paths: {'music21': '//cuthbertLab.github.io/music21j/src/music21'}\n",
       "                });\n",
       "                require(['music21'], function() {\n",
       "                               mp = new music21.miditools.MidiPlayer();\n",
       "                               mp.addPlayer('#midiPlayerDiv3113');\n",
       "                               mp.base64Load('data:audio/midi;base64,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');\n",
       "                        });\n",
       "                </script>"
      ],
      "text/plain": [
       "<IPython.core.display.HTML object>"
      ]
     },
     "metadata": {},
     "output_type": "display_data"
    }
   ],
   "source": [
    "stream1.show('midi')"
   ]
  },
  {
   "cell_type": "code",
   "execution_count": null,
   "metadata": {},
   "outputs": [],
   "source": []
  },
  {
   "cell_type": "code",
   "execution_count": 43,
   "metadata": {},
   "outputs": [],
   "source": [
    "def make_it_music(not_a_song, max_notes = 3, song_length = 360):\n",
    "    threshold = -1\n",
    "    avg_notes = 100\n",
    "    while avg_notes > max_notes:\n",
    "        threshold = threshold + 0.01\n",
    "        s = (not_a_song>threshold).sum()\n",
    "        avg_notes = s.item()/song_length\n",
    "\n",
    "    print(avg_notes, threshold)\n",
    "    return (not_a_song>threshold).int()"
   ]
  },
  {
   "cell_type": "code",
   "execution_count": 44,
   "metadata": {},
   "outputs": [],
   "source": [
    "def make_it_music2(not_a_song, max_notes = 3, song_length = 360):\n",
    "    threshold = 0.5\n",
    "\n",
    "    s = (not_a_song>threshold).sum()\n",
    "    avg_notes = s.item()/song_length\n",
    "\n",
    "    print(avg_notes, threshold)\n",
    "    return (not_a_song>threshold).int()"
   ]
  },
  {
   "cell_type": "code",
   "execution_count": 54,
   "metadata": {},
   "outputs": [],
   "source": [
    "batch1 = sample()\n",
    "song = batch1[0].detach().cpu().numpy()\n",
    "song = sparse.csr_matrix(song)\n",
    "stream1 = DataToStream(song, time_signature = 0.25)"
   ]
  },
  {
   "cell_type": "code",
   "execution_count": 55,
   "metadata": {},
   "outputs": [
    {
     "data": {
      "text/html": [
       "\n",
       "                <div id='midiPlayerDiv8669'></div>\n",
       "                <link rel=\"stylesheet\" href=\"//cuthbertLab.github.io/music21j/css/m21.css\"\n",
       "                    type=\"text/css\" />\n",
       "                <script>\n",
       "                require.config({\n",
       "                    paths: {'music21': '//cuthbertLab.github.io/music21j/src/music21'}\n",
       "                });\n",
       "                require(['music21'], function() {\n",
       "                               mp = new music21.miditools.MidiPlayer();\n",
       "                               mp.addPlayer('#midiPlayerDiv8669');\n",
       "                               mp.base64Load('data:audio/midi;base64,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');\n",
       "                        });\n",
       "                </script>"
      ],
      "text/plain": [
       "<IPython.core.display.HTML object>"
      ]
     },
     "metadata": {},
     "output_type": "display_data"
    }
   ],
   "source": [
    "stream1.show('midi')"
   ]
  },
  {
   "cell_type": "code",
   "execution_count": 56,
   "metadata": {},
   "outputs": [
    {
     "ename": "RuntimeError",
     "evalue": "CUDA out of memory. Tried to allocate 58.00 MiB (GPU 0; 6.00 GiB total capacity; 4.39 GiB already allocated; 48.91 MiB free; 4.55 GiB reserved in total by PyTorch)",
     "output_type": "error",
     "traceback": [
      "\u001b[1;31m---------------------------------------------------------------------------\u001b[0m",
      "\u001b[1;31mRuntimeError\u001b[0m                              Traceback (most recent call last)",
      "\u001b[1;32m<ipython-input-56-e4009175aec3>\u001b[0m in \u001b[0;36m<module>\u001b[1;34m\u001b[0m\n\u001b[1;32m----> 1\u001b[1;33m \u001b[0mreconstructed_songs\u001b[0m\u001b[1;33m,\u001b[0m\u001b[0mmu\u001b[0m\u001b[1;33m,\u001b[0m\u001b[0mlog_var\u001b[0m \u001b[1;33m=\u001b[0m \u001b[0mmodel\u001b[0m\u001b[1;33m(\u001b[0m\u001b[0mbatch1\u001b[0m\u001b[1;33m)\u001b[0m\u001b[1;33m\u001b[0m\u001b[1;33m\u001b[0m\u001b[0m\n\u001b[0m\u001b[0;32m      2\u001b[0m \u001b[0mtest\u001b[0m \u001b[1;33m=\u001b[0m \u001b[0mreconstructed_songs\u001b[0m\u001b[1;33m[\u001b[0m\u001b[1;36m0\u001b[0m\u001b[1;33m]\u001b[0m\u001b[1;33m\u001b[0m\u001b[1;33m\u001b[0m\u001b[0m\n",
      "\u001b[1;32mC:\\ProgramData\\Anaconda3\\lib\\site-packages\\torch\\nn\\modules\\module.py\u001b[0m in \u001b[0;36m__call__\u001b[1;34m(self, *input, **kwargs)\u001b[0m\n\u001b[0;32m    530\u001b[0m             \u001b[0mresult\u001b[0m \u001b[1;33m=\u001b[0m \u001b[0mself\u001b[0m\u001b[1;33m.\u001b[0m\u001b[0m_slow_forward\u001b[0m\u001b[1;33m(\u001b[0m\u001b[1;33m*\u001b[0m\u001b[0minput\u001b[0m\u001b[1;33m,\u001b[0m \u001b[1;33m**\u001b[0m\u001b[0mkwargs\u001b[0m\u001b[1;33m)\u001b[0m\u001b[1;33m\u001b[0m\u001b[1;33m\u001b[0m\u001b[0m\n\u001b[0;32m    531\u001b[0m         \u001b[1;32melse\u001b[0m\u001b[1;33m:\u001b[0m\u001b[1;33m\u001b[0m\u001b[1;33m\u001b[0m\u001b[0m\n\u001b[1;32m--> 532\u001b[1;33m             \u001b[0mresult\u001b[0m \u001b[1;33m=\u001b[0m \u001b[0mself\u001b[0m\u001b[1;33m.\u001b[0m\u001b[0mforward\u001b[0m\u001b[1;33m(\u001b[0m\u001b[1;33m*\u001b[0m\u001b[0minput\u001b[0m\u001b[1;33m,\u001b[0m \u001b[1;33m**\u001b[0m\u001b[0mkwargs\u001b[0m\u001b[1;33m)\u001b[0m\u001b[1;33m\u001b[0m\u001b[1;33m\u001b[0m\u001b[0m\n\u001b[0m\u001b[0;32m    533\u001b[0m         \u001b[1;32mfor\u001b[0m \u001b[0mhook\u001b[0m \u001b[1;32min\u001b[0m \u001b[0mself\u001b[0m\u001b[1;33m.\u001b[0m\u001b[0m_forward_hooks\u001b[0m\u001b[1;33m.\u001b[0m\u001b[0mvalues\u001b[0m\u001b[1;33m(\u001b[0m\u001b[1;33m)\u001b[0m\u001b[1;33m:\u001b[0m\u001b[1;33m\u001b[0m\u001b[1;33m\u001b[0m\u001b[0m\n\u001b[0;32m    534\u001b[0m             \u001b[0mhook_result\u001b[0m \u001b[1;33m=\u001b[0m \u001b[0mhook\u001b[0m\u001b[1;33m(\u001b[0m\u001b[0mself\u001b[0m\u001b[1;33m,\u001b[0m \u001b[0minput\u001b[0m\u001b[1;33m,\u001b[0m \u001b[0mresult\u001b[0m\u001b[1;33m)\u001b[0m\u001b[1;33m\u001b[0m\u001b[1;33m\u001b[0m\u001b[0m\n",
      "\u001b[1;32m<ipython-input-33-fb472049f22d>\u001b[0m in \u001b[0;36mforward\u001b[1;34m(self, song)\u001b[0m\n\u001b[0;32m     48\u001b[0m \u001b[1;33m\u001b[0m\u001b[0m\n\u001b[0;32m     49\u001b[0m         \u001b[0mdecoder_input_rep\u001b[0m \u001b[1;33m=\u001b[0m \u001b[0mdecoder_input_rep\u001b[0m \u001b[1;33m+\u001b[0m \u001b[0mpos_embeddings\u001b[0m\u001b[1;33m\u001b[0m\u001b[1;33m\u001b[0m\u001b[0m\n\u001b[1;32m---> 50\u001b[1;33m         \u001b[0mreconstruction\u001b[0m \u001b[1;33m=\u001b[0m \u001b[0mself\u001b[0m\u001b[1;33m.\u001b[0m\u001b[0mtransformer_decoder\u001b[0m\u001b[1;33m(\u001b[0m\u001b[0mdecoder_input_rep\u001b[0m\u001b[1;33m)\u001b[0m\u001b[1;33m\u001b[0m\u001b[1;33m\u001b[0m\u001b[0m\n\u001b[0m\u001b[0;32m     51\u001b[0m \u001b[1;33m\u001b[0m\u001b[0m\n\u001b[0;32m     52\u001b[0m         \u001b[1;32mreturn\u001b[0m \u001b[0mreconstruction\u001b[0m\u001b[1;33m,\u001b[0m \u001b[0mmu\u001b[0m\u001b[1;33m,\u001b[0m \u001b[0mlog_var\u001b[0m\u001b[1;33m\u001b[0m\u001b[1;33m\u001b[0m\u001b[0m\n",
      "\u001b[1;32mC:\\ProgramData\\Anaconda3\\lib\\site-packages\\torch\\nn\\modules\\module.py\u001b[0m in \u001b[0;36m__call__\u001b[1;34m(self, *input, **kwargs)\u001b[0m\n\u001b[0;32m    530\u001b[0m             \u001b[0mresult\u001b[0m \u001b[1;33m=\u001b[0m \u001b[0mself\u001b[0m\u001b[1;33m.\u001b[0m\u001b[0m_slow_forward\u001b[0m\u001b[1;33m(\u001b[0m\u001b[1;33m*\u001b[0m\u001b[0minput\u001b[0m\u001b[1;33m,\u001b[0m \u001b[1;33m**\u001b[0m\u001b[0mkwargs\u001b[0m\u001b[1;33m)\u001b[0m\u001b[1;33m\u001b[0m\u001b[1;33m\u001b[0m\u001b[0m\n\u001b[0;32m    531\u001b[0m         \u001b[1;32melse\u001b[0m\u001b[1;33m:\u001b[0m\u001b[1;33m\u001b[0m\u001b[1;33m\u001b[0m\u001b[0m\n\u001b[1;32m--> 532\u001b[1;33m             \u001b[0mresult\u001b[0m \u001b[1;33m=\u001b[0m \u001b[0mself\u001b[0m\u001b[1;33m.\u001b[0m\u001b[0mforward\u001b[0m\u001b[1;33m(\u001b[0m\u001b[1;33m*\u001b[0m\u001b[0minput\u001b[0m\u001b[1;33m,\u001b[0m \u001b[1;33m**\u001b[0m\u001b[0mkwargs\u001b[0m\u001b[1;33m)\u001b[0m\u001b[1;33m\u001b[0m\u001b[1;33m\u001b[0m\u001b[0m\n\u001b[0m\u001b[0;32m    533\u001b[0m         \u001b[1;32mfor\u001b[0m \u001b[0mhook\u001b[0m \u001b[1;32min\u001b[0m \u001b[0mself\u001b[0m\u001b[1;33m.\u001b[0m\u001b[0m_forward_hooks\u001b[0m\u001b[1;33m.\u001b[0m\u001b[0mvalues\u001b[0m\u001b[1;33m(\u001b[0m\u001b[1;33m)\u001b[0m\u001b[1;33m:\u001b[0m\u001b[1;33m\u001b[0m\u001b[1;33m\u001b[0m\u001b[0m\n\u001b[0;32m    534\u001b[0m             \u001b[0mhook_result\u001b[0m \u001b[1;33m=\u001b[0m \u001b[0mhook\u001b[0m\u001b[1;33m(\u001b[0m\u001b[0mself\u001b[0m\u001b[1;33m,\u001b[0m \u001b[0minput\u001b[0m\u001b[1;33m,\u001b[0m \u001b[0mresult\u001b[0m\u001b[1;33m)\u001b[0m\u001b[1;33m\u001b[0m\u001b[1;33m\u001b[0m\u001b[0m\n",
      "\u001b[1;32mC:\\ProgramData\\Anaconda3\\lib\\site-packages\\torch\\nn\\modules\\transformer.py\u001b[0m in \u001b[0;36mforward\u001b[1;34m(self, src, mask, src_key_padding_mask)\u001b[0m\n\u001b[0;32m    174\u001b[0m         \u001b[1;32mfor\u001b[0m \u001b[0mi\u001b[0m \u001b[1;32min\u001b[0m \u001b[0mrange\u001b[0m\u001b[1;33m(\u001b[0m\u001b[0mself\u001b[0m\u001b[1;33m.\u001b[0m\u001b[0mnum_layers\u001b[0m\u001b[1;33m)\u001b[0m\u001b[1;33m:\u001b[0m\u001b[1;33m\u001b[0m\u001b[1;33m\u001b[0m\u001b[0m\n\u001b[0;32m    175\u001b[0m             output = self.layers[i](output, src_mask=mask,\n\u001b[1;32m--> 176\u001b[1;33m                                     src_key_padding_mask=src_key_padding_mask)\n\u001b[0m\u001b[0;32m    177\u001b[0m \u001b[1;33m\u001b[0m\u001b[0m\n\u001b[0;32m    178\u001b[0m         \u001b[1;32mif\u001b[0m \u001b[0mself\u001b[0m\u001b[1;33m.\u001b[0m\u001b[0mnorm\u001b[0m\u001b[1;33m:\u001b[0m\u001b[1;33m\u001b[0m\u001b[1;33m\u001b[0m\u001b[0m\n",
      "\u001b[1;32mC:\\ProgramData\\Anaconda3\\lib\\site-packages\\torch\\nn\\modules\\module.py\u001b[0m in \u001b[0;36m__call__\u001b[1;34m(self, *input, **kwargs)\u001b[0m\n\u001b[0;32m    530\u001b[0m             \u001b[0mresult\u001b[0m \u001b[1;33m=\u001b[0m \u001b[0mself\u001b[0m\u001b[1;33m.\u001b[0m\u001b[0m_slow_forward\u001b[0m\u001b[1;33m(\u001b[0m\u001b[1;33m*\u001b[0m\u001b[0minput\u001b[0m\u001b[1;33m,\u001b[0m \u001b[1;33m**\u001b[0m\u001b[0mkwargs\u001b[0m\u001b[1;33m)\u001b[0m\u001b[1;33m\u001b[0m\u001b[1;33m\u001b[0m\u001b[0m\n\u001b[0;32m    531\u001b[0m         \u001b[1;32melse\u001b[0m\u001b[1;33m:\u001b[0m\u001b[1;33m\u001b[0m\u001b[1;33m\u001b[0m\u001b[0m\n\u001b[1;32m--> 532\u001b[1;33m             \u001b[0mresult\u001b[0m \u001b[1;33m=\u001b[0m \u001b[0mself\u001b[0m\u001b[1;33m.\u001b[0m\u001b[0mforward\u001b[0m\u001b[1;33m(\u001b[0m\u001b[1;33m*\u001b[0m\u001b[0minput\u001b[0m\u001b[1;33m,\u001b[0m \u001b[1;33m**\u001b[0m\u001b[0mkwargs\u001b[0m\u001b[1;33m)\u001b[0m\u001b[1;33m\u001b[0m\u001b[1;33m\u001b[0m\u001b[0m\n\u001b[0m\u001b[0;32m    533\u001b[0m         \u001b[1;32mfor\u001b[0m \u001b[0mhook\u001b[0m \u001b[1;32min\u001b[0m \u001b[0mself\u001b[0m\u001b[1;33m.\u001b[0m\u001b[0m_forward_hooks\u001b[0m\u001b[1;33m.\u001b[0m\u001b[0mvalues\u001b[0m\u001b[1;33m(\u001b[0m\u001b[1;33m)\u001b[0m\u001b[1;33m:\u001b[0m\u001b[1;33m\u001b[0m\u001b[1;33m\u001b[0m\u001b[0m\n\u001b[0;32m    534\u001b[0m             \u001b[0mhook_result\u001b[0m \u001b[1;33m=\u001b[0m \u001b[0mhook\u001b[0m\u001b[1;33m(\u001b[0m\u001b[0mself\u001b[0m\u001b[1;33m,\u001b[0m \u001b[0minput\u001b[0m\u001b[1;33m,\u001b[0m \u001b[0mresult\u001b[0m\u001b[1;33m)\u001b[0m\u001b[1;33m\u001b[0m\u001b[1;33m\u001b[0m\u001b[0m\n",
      "\u001b[1;32mC:\\ProgramData\\Anaconda3\\lib\\site-packages\\torch\\nn\\modules\\transformer.py\u001b[0m in \u001b[0;36mforward\u001b[1;34m(self, src, src_mask, src_key_padding_mask)\u001b[0m\n\u001b[0;32m    285\u001b[0m         \u001b[0msrc\u001b[0m \u001b[1;33m=\u001b[0m \u001b[0mself\u001b[0m\u001b[1;33m.\u001b[0m\u001b[0mnorm1\u001b[0m\u001b[1;33m(\u001b[0m\u001b[0msrc\u001b[0m\u001b[1;33m)\u001b[0m\u001b[1;33m\u001b[0m\u001b[1;33m\u001b[0m\u001b[0m\n\u001b[0;32m    286\u001b[0m         \u001b[1;32mif\u001b[0m \u001b[0mhasattr\u001b[0m\u001b[1;33m(\u001b[0m\u001b[0mself\u001b[0m\u001b[1;33m,\u001b[0m \u001b[1;34m\"activation\"\u001b[0m\u001b[1;33m)\u001b[0m\u001b[1;33m:\u001b[0m\u001b[1;33m\u001b[0m\u001b[1;33m\u001b[0m\u001b[0m\n\u001b[1;32m--> 287\u001b[1;33m             \u001b[0msrc2\u001b[0m \u001b[1;33m=\u001b[0m \u001b[0mself\u001b[0m\u001b[1;33m.\u001b[0m\u001b[0mlinear2\u001b[0m\u001b[1;33m(\u001b[0m\u001b[0mself\u001b[0m\u001b[1;33m.\u001b[0m\u001b[0mdropout\u001b[0m\u001b[1;33m(\u001b[0m\u001b[0mself\u001b[0m\u001b[1;33m.\u001b[0m\u001b[0mactivation\u001b[0m\u001b[1;33m(\u001b[0m\u001b[0mself\u001b[0m\u001b[1;33m.\u001b[0m\u001b[0mlinear1\u001b[0m\u001b[1;33m(\u001b[0m\u001b[0msrc\u001b[0m\u001b[1;33m)\u001b[0m\u001b[1;33m)\u001b[0m\u001b[1;33m)\u001b[0m\u001b[1;33m)\u001b[0m\u001b[1;33m\u001b[0m\u001b[1;33m\u001b[0m\u001b[0m\n\u001b[0m\u001b[0;32m    288\u001b[0m         \u001b[1;32melse\u001b[0m\u001b[1;33m:\u001b[0m  \u001b[1;31m# for backward compatibility\u001b[0m\u001b[1;33m\u001b[0m\u001b[1;33m\u001b[0m\u001b[0m\n\u001b[0;32m    289\u001b[0m             \u001b[0msrc2\u001b[0m \u001b[1;33m=\u001b[0m \u001b[0mself\u001b[0m\u001b[1;33m.\u001b[0m\u001b[0mlinear2\u001b[0m\u001b[1;33m(\u001b[0m\u001b[0mself\u001b[0m\u001b[1;33m.\u001b[0m\u001b[0mdropout\u001b[0m\u001b[1;33m(\u001b[0m\u001b[0mF\u001b[0m\u001b[1;33m.\u001b[0m\u001b[0mrelu\u001b[0m\u001b[1;33m(\u001b[0m\u001b[0mself\u001b[0m\u001b[1;33m.\u001b[0m\u001b[0mlinear1\u001b[0m\u001b[1;33m(\u001b[0m\u001b[0msrc\u001b[0m\u001b[1;33m)\u001b[0m\u001b[1;33m)\u001b[0m\u001b[1;33m)\u001b[0m\u001b[1;33m)\u001b[0m\u001b[1;33m\u001b[0m\u001b[1;33m\u001b[0m\u001b[0m\n",
      "\u001b[1;32mC:\\ProgramData\\Anaconda3\\lib\\site-packages\\torch\\nn\\modules\\module.py\u001b[0m in \u001b[0;36m__call__\u001b[1;34m(self, *input, **kwargs)\u001b[0m\n\u001b[0;32m    530\u001b[0m             \u001b[0mresult\u001b[0m \u001b[1;33m=\u001b[0m \u001b[0mself\u001b[0m\u001b[1;33m.\u001b[0m\u001b[0m_slow_forward\u001b[0m\u001b[1;33m(\u001b[0m\u001b[1;33m*\u001b[0m\u001b[0minput\u001b[0m\u001b[1;33m,\u001b[0m \u001b[1;33m**\u001b[0m\u001b[0mkwargs\u001b[0m\u001b[1;33m)\u001b[0m\u001b[1;33m\u001b[0m\u001b[1;33m\u001b[0m\u001b[0m\n\u001b[0;32m    531\u001b[0m         \u001b[1;32melse\u001b[0m\u001b[1;33m:\u001b[0m\u001b[1;33m\u001b[0m\u001b[1;33m\u001b[0m\u001b[0m\n\u001b[1;32m--> 532\u001b[1;33m             \u001b[0mresult\u001b[0m \u001b[1;33m=\u001b[0m \u001b[0mself\u001b[0m\u001b[1;33m.\u001b[0m\u001b[0mforward\u001b[0m\u001b[1;33m(\u001b[0m\u001b[1;33m*\u001b[0m\u001b[0minput\u001b[0m\u001b[1;33m,\u001b[0m \u001b[1;33m**\u001b[0m\u001b[0mkwargs\u001b[0m\u001b[1;33m)\u001b[0m\u001b[1;33m\u001b[0m\u001b[1;33m\u001b[0m\u001b[0m\n\u001b[0m\u001b[0;32m    533\u001b[0m         \u001b[1;32mfor\u001b[0m \u001b[0mhook\u001b[0m \u001b[1;32min\u001b[0m \u001b[0mself\u001b[0m\u001b[1;33m.\u001b[0m\u001b[0m_forward_hooks\u001b[0m\u001b[1;33m.\u001b[0m\u001b[0mvalues\u001b[0m\u001b[1;33m(\u001b[0m\u001b[1;33m)\u001b[0m\u001b[1;33m:\u001b[0m\u001b[1;33m\u001b[0m\u001b[1;33m\u001b[0m\u001b[0m\n\u001b[0;32m    534\u001b[0m             \u001b[0mhook_result\u001b[0m \u001b[1;33m=\u001b[0m \u001b[0mhook\u001b[0m\u001b[1;33m(\u001b[0m\u001b[0mself\u001b[0m\u001b[1;33m,\u001b[0m \u001b[0minput\u001b[0m\u001b[1;33m,\u001b[0m \u001b[0mresult\u001b[0m\u001b[1;33m)\u001b[0m\u001b[1;33m\u001b[0m\u001b[1;33m\u001b[0m\u001b[0m\n",
      "\u001b[1;32mC:\\ProgramData\\Anaconda3\\lib\\site-packages\\torch\\nn\\modules\\dropout.py\u001b[0m in \u001b[0;36mforward\u001b[1;34m(self, input)\u001b[0m\n\u001b[0;32m     52\u001b[0m \u001b[1;33m\u001b[0m\u001b[0m\n\u001b[0;32m     53\u001b[0m     \u001b[1;32mdef\u001b[0m \u001b[0mforward\u001b[0m\u001b[1;33m(\u001b[0m\u001b[0mself\u001b[0m\u001b[1;33m,\u001b[0m \u001b[0minput\u001b[0m\u001b[1;33m)\u001b[0m\u001b[1;33m:\u001b[0m\u001b[1;33m\u001b[0m\u001b[1;33m\u001b[0m\u001b[0m\n\u001b[1;32m---> 54\u001b[1;33m         \u001b[1;32mreturn\u001b[0m \u001b[0mF\u001b[0m\u001b[1;33m.\u001b[0m\u001b[0mdropout\u001b[0m\u001b[1;33m(\u001b[0m\u001b[0minput\u001b[0m\u001b[1;33m,\u001b[0m \u001b[0mself\u001b[0m\u001b[1;33m.\u001b[0m\u001b[0mp\u001b[0m\u001b[1;33m,\u001b[0m \u001b[0mself\u001b[0m\u001b[1;33m.\u001b[0m\u001b[0mtraining\u001b[0m\u001b[1;33m,\u001b[0m \u001b[0mself\u001b[0m\u001b[1;33m.\u001b[0m\u001b[0minplace\u001b[0m\u001b[1;33m)\u001b[0m\u001b[1;33m\u001b[0m\u001b[1;33m\u001b[0m\u001b[0m\n\u001b[0m\u001b[0;32m     55\u001b[0m \u001b[1;33m\u001b[0m\u001b[0m\n\u001b[0;32m     56\u001b[0m \u001b[1;33m\u001b[0m\u001b[0m\n",
      "\u001b[1;32mC:\\ProgramData\\Anaconda3\\lib\\site-packages\\torch\\nn\\functional.py\u001b[0m in \u001b[0;36mdropout\u001b[1;34m(input, p, training, inplace)\u001b[0m\n\u001b[0;32m    805\u001b[0m     return (_VF.dropout_(input, p, training)\n\u001b[0;32m    806\u001b[0m             \u001b[1;32mif\u001b[0m \u001b[0minplace\u001b[0m\u001b[1;33m\u001b[0m\u001b[1;33m\u001b[0m\u001b[0m\n\u001b[1;32m--> 807\u001b[1;33m             else _VF.dropout(input, p, training))\n\u001b[0m\u001b[0;32m    808\u001b[0m \u001b[1;33m\u001b[0m\u001b[0m\n\u001b[0;32m    809\u001b[0m \u001b[1;33m\u001b[0m\u001b[0m\n",
      "\u001b[1;31mRuntimeError\u001b[0m: CUDA out of memory. Tried to allocate 58.00 MiB (GPU 0; 6.00 GiB total capacity; 4.39 GiB already allocated; 48.91 MiB free; 4.55 GiB reserved in total by PyTorch)"
     ]
    }
   ],
   "source": [
    "reconstructed_songs,mu,log_var = model(batch1)\n",
    "test = reconstructed_songs[0]"
   ]
  },
  {
   "cell_type": "code",
   "execution_count": 57,
   "metadata": {},
   "outputs": [
    {
     "name": "stdout",
     "output_type": "stream",
     "text": [
      "2.911111111111111 0.09000000000000075\n"
     ]
    }
   ],
   "source": [
    "test_song = make_it_music(test, max_notes=3)"
   ]
  },
  {
   "cell_type": "code",
   "execution_count": 58,
   "metadata": {},
   "outputs": [
    {
     "data": {
      "text/plain": [
       "(360, 128)"
      ]
     },
     "execution_count": 58,
     "metadata": {},
     "output_type": "execute_result"
    }
   ],
   "source": [
    "test_song = test_song.detach().cpu().numpy()\n",
    "test_song = sparse.csr_matrix(test_song)\n",
    "test_song.shape"
   ]
  },
  {
   "cell_type": "code",
   "execution_count": 59,
   "metadata": {},
   "outputs": [],
   "source": [
    "test_stream = DataToStream(test_song, time_signature = 0.25)"
   ]
  },
  {
   "cell_type": "code",
   "execution_count": 51,
   "metadata": {},
   "outputs": [
    {
     "data": {
      "text/html": [
       "\n",
       "                <div id='midiPlayerDiv6653'></div>\n",
       "                <link rel=\"stylesheet\" href=\"//cuthbertLab.github.io/music21j/css/m21.css\"\n",
       "                    type=\"text/css\" />\n",
       "                <script>\n",
       "                require.config({\n",
       "                    paths: {'music21': '//cuthbertLab.github.io/music21j/src/music21'}\n",
       "                });\n",
       "                require(['music21'], function() {\n",
       "                               mp = new music21.miditools.MidiPlayer();\n",
       "                               mp.addPlayer('#midiPlayerDiv6653');\n",
       "                               mp.base64Load('data:audio/midi;base64,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');\n",
       "                        });\n",
       "                </script>"
      ],
      "text/plain": [
       "<IPython.core.display.HTML object>"
      ]
     },
     "metadata": {},
     "output_type": "display_data"
    }
   ],
   "source": [
    "test_stream.show('midi')"
   ]
  },
  {
   "cell_type": "code",
   "execution_count": 52,
   "metadata": {},
   "outputs": [
    {
     "name": "stdout",
     "output_type": "stream",
     "text": [
      "{0.0} <music21.instrument.Piano 'Piano'>\n",
      "{0.0} <music21.chord.Chord B-2 G5>\n",
      "{0.25} <music21.chord.Chord E-2 C3 G#5>\n",
      "{0.5} <music21.chord.Chord C3 G5>\n",
      "{0.75} <music21.chord.Chord A2 D3 F5>\n",
      "{1.0} <music21.chord.Chord D3 G#5>\n",
      "{1.25} <music21.chord.Chord E-3 G5>\n",
      "{1.5} <music21.chord.Chord E-3 B-5>\n",
      "{1.75} <music21.chord.Chord C3 G#5>\n",
      "{2.0} <music21.chord.Chord C3 E5 C6>\n",
      "{2.25} <music21.chord.Chord G2 B-5>\n",
      "{2.5} <music21.chord.Chord G2 E-5>\n",
      "{2.75} <music21.chord.Chord G#2 D5>\n",
      "{3.0} <music21.chord.Chord G#2 E-5>\n",
      "{3.25} <music21.chord.Chord B-1 B-2 G#5>\n",
      "{3.5} <music21.chord.Chord B-2 G5>\n",
      "{3.75} <music21.chord.Chord G#1 B-1 B-2 F5 B-5 C6 C#6>\n",
      "{4.0} <music21.chord.Chord G#1 B-1 C#2 E-5 C6>\n",
      "{4.25} <music21.chord.Chord E-1 E-2 G4 B-4 E-5 C6>\n",
      "{4.5} <music21.chord.Chord E-2 G4 B-4 E-5>\n",
      "{4.75} <music21.chord.Chord E-3 G4 B-4 E-5>\n",
      "{5.5} <music21.chord.Chord E-3 C#4 G4 B-4 E-5>\n",
      "{5.75} <music21.chord.Chord D3 B-3 G4 B-4 E-5>\n",
      "{6.0} <music21.chord.Chord D3 G4 B-4 E-5>\n",
      "{6.75} <music21.chord.Chord C3 G4 B-4 E-5>\n",
      "{7.25} <music21.chord.Chord G#2 C3 E-5 G5 C6 E-6>\n",
      "{7.5} <music21.chord.Chord C3 E-5 G5 C6>\n",
      "{7.75} <music21.chord.Chord C3 E-5 E5 G5 C6 E-6>\n",
      "{8.0} <music21.chord.Chord C3 E-4 E-5 G5>\n",
      "{8.25} <music21.chord.Chord C2 F5>\n",
      "{8.75} <music21.chord.Chord C2 G#3 E-5 C6>\n",
      "{9.0} <music21.chord.Chord C2 E-5 C6 E-6>\n",
      "{9.25} <music21.chord.Chord C2 C3 D5>\n",
      "{9.5} <music21.chord.Chord C1 C2 F#2 F4 D5 B-5>\n",
      "{9.75} <music21.chord.Chord C2 E-5 A5 C6>\n",
      "{10.0} <music21.chord.Chord C2 E-5 C6>\n",
      "{10.25} <music21.chord.Chord C3 G#4 D5 F5>\n",
      "{11.0} <music21.chord.Chord G#4 D5 F5>\n",
      "{11.25} <music21.chord.Chord D3 G#4 D5 F5>\n",
      "{11.75} <music21.chord.Chord C3 G#4 D5 F5>\n",
      "{12.25} <music21.note.Note B>\n",
      "{12.75} <music21.note.Note C>\n",
      "{13.25} <music21.chord.Chord B1 B2 G#4 D5 F5>\n",
      "{13.5} <music21.chord.Chord B2 G#5>\n",
      "{13.75} <music21.chord.Chord B2 G4 G5>\n",
      "{14.0} <music21.chord.Chord B2 F5>\n",
      "{14.25} <music21.chord.Chord C2 G3 B4 F5>\n",
      "{14.5} <music21.chord.Chord C2 E4 B4 F5>\n",
      "{14.75} <music21.note.Note C>\n",
      "{15.0} <music21.chord.Chord C2 C3 G5 B-5 C6>\n",
      "{15.25} <music21.note.Note C>\n",
      "{15.5} <music21.chord.Chord C2 G#5>\n",
      "{15.75} <music21.chord.Chord C2 C3 G5>\n",
      "{16.0} <music21.chord.Chord C2 C5 F5>\n",
      "{16.25} <music21.chord.Chord C3 E-5>\n",
      "{16.5} <music21.chord.Chord C3 D5>\n",
      "{16.75} <music21.chord.Chord C3 E-5>\n",
      "{17.0} <music21.chord.Chord C3 D5>\n",
      "{17.25} <music21.note.Note C>\n",
      "{17.5} <music21.note.Note G>\n",
      "{17.75} <music21.note.Note C>\n",
      "{18.0} <music21.chord.Chord F3 D5>\n",
      "{18.25} <music21.note.Note E->\n",
      "{18.5} <music21.note.Note F>\n",
      "{18.75} <music21.chord.Chord G#3 G5>\n",
      "{19.0} <music21.note.Note G#>\n",
      "{19.25} <music21.chord.Chord C2 C3 G4 B-5>\n",
      "{19.5} <music21.chord.Chord C3 G5>\n",
      "{19.75} <music21.chord.Chord C3 B-4 E5>\n",
      "{20.25} <music21.chord.Chord C2 C3 B-4 E5 C6>\n",
      "{20.5} <music21.chord.Chord C2 A2 B-4 C#5 E5>\n",
      "{20.75} <music21.chord.Chord C2 C5>\n",
      "{21.0} <music21.chord.Chord C2 B-4>\n",
      "{21.25} <music21.chord.Chord C2 C5 C6>\n",
      "{21.5} <music21.chord.Chord C2 E3 B-4>\n",
      "{21.75} <music21.chord.Chord C2 G#4>\n",
      "{22.0} <music21.chord.Chord C2 D2 G2 E-3 G4>\n",
      "{22.25} <music21.chord.Chord C3 G#4>\n",
      "{22.5} <music21.chord.Chord C3 E5>\n",
      "{22.75} <music21.chord.Chord C3 F5>\n",
      "{23.0} <music21.note.Note C>\n",
      "{23.25} <music21.chord.Chord C2 E2 G5 A5 C6>\n",
      "{23.5} <music21.chord.Chord C2 G#4>\n",
      "{23.75} <music21.chord.Chord C2 G4>\n",
      "{24.0} <music21.chord.Chord C2 F2 F4>\n",
      "{24.25} <music21.chord.Chord C2 G4>\n",
      "{24.5} <music21.chord.Chord C2 F5>\n",
      "{24.75} <music21.chord.Chord C2 E-5>\n",
      "{25.0} <music21.chord.Chord C2 F#4>\n",
      "{25.25} <music21.chord.Chord B1 C3 E-3 C6>\n",
      "{25.5} <music21.chord.Chord C3 G4>\n",
      "{25.75} <music21.chord.Chord C3 F#4>\n",
      "{26.0} <music21.chord.Chord C3 E4>\n",
      "{26.25} <music21.chord.Chord C2 F#4>\n",
      "{26.5} <music21.chord.Chord C2 A4>\n",
      "{26.75} <music21.chord.Chord C2 C5>\n",
      "{27.0} <music21.chord.Chord C2 E-5 G5>\n",
      "{27.25} <music21.chord.Chord C2 D5>\n",
      "{27.5} <music21.chord.Chord C2 B4>\n",
      "{27.75} <music21.chord.Chord C2 C5>\n",
      "{28.0} <music21.chord.Chord C2 A5 B-5 C6>\n",
      "{28.25} <music21.chord.Chord G2 F#4 A4 C5 E-5>\n",
      "{28.5} <music21.chord.Chord G2 A3 F#4 A4 C5 E-5>\n",
      "{28.75} <music21.chord.Chord G2 G3 F#4 A4 C5 E-5>\n",
      "{29.0} <music21.chord.Chord G2 F#4 A4 C5 E-5>\n",
      "{29.25} <music21.chord.Chord G3 G4 B4 D5>\n",
      "{29.75} <music21.chord.Chord F3 G4 B4 D5>\n",
      "{30.25} <music21.note.Note E->\n",
      "{30.75} <music21.note.Note D>\n",
      "{31.25} <music21.chord.Chord C3 E-5>\n",
      "{31.5} <music21.chord.Chord C3 F5>\n",
      "{31.75} <music21.chord.Chord D5 G5>\n",
      "{32.0} <music21.note.Note G>\n",
      "{32.25} <music21.chord.Chord B-2 G5>\n",
      "{32.5} <music21.chord.Chord B-2 A4 G#5>\n",
      "{32.75} <music21.note.Note B->\n",
      "{33.0} <music21.chord.Chord G#5 B-5>\n",
      "{33.25} <music21.chord.Chord G#2 B-5>\n",
      "{33.5} <music21.chord.Chord G#2 C3 C6>\n",
      "{33.75} <music21.note.Note C#>\n",
      "{34.0} <music21.note.Rest rest>\n",
      "{34.25} <music21.chord.Chord G2 E3>\n",
      "{34.5} <music21.chord.Chord G2 B-5>\n",
      "{35.0} <music21.chord.Chord G2 G5>\n",
      "{35.25} <music21.note.Note G>\n",
      "{35.5} <music21.note.Note E->\n",
      "{35.75} <music21.chord.Chord B-3 E-5>\n",
      "{36.0} <music21.chord.Chord B-3 C#5>\n",
      "{36.25} <music21.chord.Chord E-3 C#5>\n",
      "{36.5} <music21.chord.Chord E-3 C5>\n",
      "{36.75} <music21.chord.Chord G3 C#5>\n",
      "{37.0} <music21.chord.Chord G3 B-5>\n",
      "{37.25} <music21.chord.Chord G#3 C5>\n",
      "{37.5} <music21.chord.Chord G#3 C#5>\n",
      "{37.75} <music21.chord.Chord A4 E-5>\n",
      "{38.0} <music21.note.Note E->\n",
      "{38.25} <music21.chord.Chord G3 E-5>\n",
      "{38.5} <music21.chord.Chord D3 E3 G3 F5>\n",
      "{38.75} <music21.note.Note G>\n",
      "{39.25} <music21.chord.Chord F3 B3 G5>\n",
      "{39.5} <music21.chord.Chord F3 G#5>\n",
      "{39.75} <music21.chord.Chord A2 C#3 B-5>\n",
      "{40.0} <music21.note.Note B->\n",
      "{40.25} <music21.chord.Chord E3 B-5>\n",
      "{40.5} <music21.chord.Chord E3 G5>\n",
      "{41.0} <music21.chord.Chord E3 E5>\n",
      "{41.25} <music21.note.Note E>\n",
      "{41.5} <music21.note.Note C>\n",
      "{41.75} <music21.chord.Chord G3 C5>\n",
      "{42.0} <music21.chord.Chord G3 B-4>\n",
      "{42.25} <music21.chord.Chord C3 C#4 B-4>\n",
      "{42.5} <music21.chord.Chord C3 G#4>\n",
      "{42.75} <music21.chord.Chord E3 B-4 F#5>\n",
      "{43.0} <music21.chord.Chord E3 G5>\n",
      "{43.25} <music21.chord.Chord F3 G#4>\n",
      "{43.5} <music21.chord.Chord F3 G4>\n",
      "{43.75} <music21.chord.Chord F3 F4>\n",
      "{44.0} <music21.chord.Chord F3 G4>\n",
      "{44.25} <music21.note.Note G#>\n",
      "{44.5} <music21.note.Note B->\n",
      "{44.75} <music21.chord.Chord F2 C5>\n",
      "{45.0} <music21.chord.Chord F2 D5>\n",
      "{45.25} <music21.chord.Chord G2 E-5>\n",
      "{45.5} <music21.chord.Chord G1 G2 D5>\n",
      "{45.75} <music21.chord.Chord G#2 C5>\n",
      "{46.0} <music21.chord.Chord G#2 E-5>\n",
      "{46.25} <music21.chord.Chord B-2 D5>\n",
      "{46.5} <music21.chord.Chord B-2 C5>\n",
      "{46.75} <music21.chord.Chord B-2 B-4>\n",
      "{47.0} <music21.chord.Chord B-2 C5>\n",
      "{47.25} <music21.note.Note D>\n",
      "{47.5} <music21.note.Note E->\n",
      "{47.75} <music21.chord.Chord B-2 B-4 F5>\n",
      "{48.0} <music21.chord.Chord B-2 F4 G5>\n",
      "{48.25} <music21.chord.Chord C3 G#5>\n",
      "{48.5} <music21.chord.Chord C3 E5 F#5 G5>\n",
      "{48.75} <music21.chord.Chord D3 F5>\n",
      "{49.0} <music21.chord.Chord D3 G#5>\n",
      "{49.25} <music21.chord.Chord E-3 G5>\n",
      "{49.5} <music21.chord.Chord E-3 B-5>\n",
      "{49.75} <music21.chord.Chord C3 G#5>\n",
      "{50.0} <music21.chord.Chord C3 C5 C6>\n",
      "{50.25} <music21.chord.Chord G2 B-5>\n",
      "{50.5} <music21.chord.Chord G2 E-5>\n",
      "{50.75} <music21.chord.Chord G#2 D5>\n",
      "{51.0} <music21.chord.Chord G#2 E-5>\n",
      "{51.25} <music21.chord.Chord B-1 B-2 G#5>\n",
      "{51.5} <music21.chord.Chord B-2 G5>\n",
      "{51.75} <music21.chord.Chord G#1 B-1 B-2 F#4 F5 B-5 C6 C#6>\n",
      "{52.0} <music21.chord.Chord B-1 B-2 F3 E-5>\n",
      "{52.25} <music21.chord.Chord E-1 E-2 G4 B-4 E-5>\n",
      "{52.5} <music21.chord.Chord E-2 G4 B-4 E-5>\n",
      "{52.75} <music21.chord.Chord E-2 G#2 G4 B-4 E-5>\n",
      "{53.0} <music21.chord.Chord E-2 G4 B-4 E-5>\n",
      "{53.5} <music21.chord.Chord E-1 E-2 B2 G4 B-4 E-5>\n",
      "{53.75} <music21.chord.Chord E-2 F4 G4 B-4 E-5>\n",
      "{54.0} <music21.chord.Chord E-2 G4 B-4 E-5>\n",
      "{54.25} <music21.chord.Chord E-2 D4 E-4 G4 B-4 E-5>\n",
      "{54.5} <music21.chord.Chord E-2 G4 B-4 E-5>\n",
      "{55.0} <music21.chord.Chord E-1 E-2 B-3 G4 B-4 E-5>\n",
      "{55.25} <music21.chord.Chord E-3 B-4 E-5 G5>\n",
      "{56.0} <music21.chord.Chord E-3 B-4 E-5>\n",
      "{56.25} <music21.chord.Chord E-2 C3 C5 G#5>\n",
      "{56.5} <music21.chord.Chord E-2 B-4 C5 G#5>\n",
      "{56.75} <music21.chord.Chord E-2 B-4 G5>\n",
      "{57.25} <music21.chord.Chord E-1 E-2 E-4 G#4 F5>\n",
      "{57.5} <music21.chord.Chord E-2 G#4 D5 F5 G#5>\n",
      "{57.75} <music21.chord.Chord E-1 E-2 G4 E-5>\n",
      "{58.0} <music21.chord.Chord E-2 G4 E-5>\n",
      "{58.25} <music21.chord.Chord E-3 F4 C5 A5>\n",
      "{59.0} <music21.chord.Chord F4 C5 A5>\n",
      "{59.25} <music21.chord.Chord F3 F4 C5 A5>\n",
      "{59.75} <music21.chord.Chord F#2 E-3 F4 C5 A5>\n",
      "{60.0} <music21.chord.Chord E-3 F4 C5 A5>\n",
      "{60.25} <music21.chord.Chord D3 F4 C5 A5>\n",
      "{60.75} <music21.chord.Chord C3 F4 C5 A5>\n",
      "{61.0} <music21.chord.Chord C3 D4 F4 C5 D5 F5 A5>\n",
      "{61.25} <music21.chord.Chord D3 F3 B-3 B-4 F5 B-5>\n",
      "{61.5} <music21.chord.Chord D3 F3 B-4 F5 B-5>\n",
      "{62.0} <music21.chord.Chord D3 F3 B-4 D5 F5>\n",
      "{62.25} <music21.chord.Chord E-3 G3 C6>\n",
      "{62.5} <music21.chord.Chord E-3 G3 B4 B-5>\n",
      "{62.75} <music21.chord.Chord E-3 G3 D5 A5>\n",
      "{63.0} <music21.chord.Chord E-3 G3 C5 G5>\n",
      "{63.25} <music21.chord.Chord F3 A3 F5>\n",
      "{63.5} <music21.chord.Chord F3 A3 D5>\n",
      "{63.75} <music21.chord.Chord F3 A3 C5 E-5>\n",
      "{64.0} <music21.chord.Chord F3 A3 C5 C6>\n",
      "{64.25} <music21.chord.Chord B-2 F3 C5 E-5>\n",
      "{64.5} <music21.chord.Chord B-2 F3 C5 D5>\n",
      "{64.75} <music21.chord.Chord B-2 F3 C5 E-5>\n",
      "{65.0} <music21.chord.Chord B-2 E3 F3 C5 E-5 F5>\n",
      "{65.25} <music21.chord.Chord G2 B-2 B-4 D5>\n",
      "{65.5} <music21.chord.Chord B-2 D3 B-4 D5>\n",
      "{65.75} <music21.chord.Chord D3 B-4 D5>\n",
      "{66.25} <music21.chord.Chord E-2 G2 C#4 F#5 B-5>\n",
      "{66.5} <music21.chord.Chord G2 B-5>\n",
      "{66.75} <music21.chord.Chord B-1 B-2 B-5>\n",
      "{67.0} <music21.chord.Chord B-1 F#2 B-2 E4 B-5>\n",
      "{67.25} <music21.chord.Chord E-2 B-5>\n",
      "{67.5} <music21.chord.Chord E-2 B-5 C#6>\n",
      "{67.75} <music21.chord.Chord E-1 E-2 C#4 A5 C6>\n",
      "{68.0} <music21.chord.Chord E-2 A3 G5 A5 C6>\n",
      "{68.25} <music21.chord.Chord G#3 A5 C6>\n",
      "{68.5} <music21.chord.Chord A5 C6>\n",
      "{68.75} <music21.chord.Chord G5 B-5>\n",
      "{69.0} <music21.chord.Chord G#3 G5 B-5>\n",
      "{69.25} <music21.chord.Chord G#2 G5 B-5>\n",
      "{69.5} <music21.chord.Chord G5 B-5 C#6>\n",
      "{69.75} <music21.chord.Chord C4 F#5 A5>\n",
      "{70.0} <music21.chord.Chord E3 C4 F#5 A5>\n",
      "{70.25} <music21.chord.Chord C4 E-4 F#5 A5>\n",
      "{70.5} <music21.chord.Chord C4 F#5 A5>\n",
      "{70.75} <music21.chord.Chord B-3 G5 B-5>\n",
      "{71.0} <music21.chord.Chord B-3 C5 G5 C6>\n",
      "{71.25} <music21.chord.Chord A3 C5 E-5>\n",
      "{71.5} <music21.chord.Chord B-2 A3 C5 E-5>\n",
      "{71.75} <music21.chord.Chord G3 C5 E-5>\n",
      "{72.0} <music21.chord.Chord G2 G3 C5 E-5>\n",
      "{72.25} <music21.chord.Chord F#3 C5 D5>\n",
      "{72.75} <music21.chord.Chord G3 C5 D5>\n",
      "{73.0} <music21.chord.Chord A3 C5 D5>\n",
      "{73.25} <music21.chord.Chord B-2 B-3 D5>\n",
      "{73.5} <music21.chord.Chord B-2 E5>\n",
      "{73.75} <music21.chord.Chord B-2 F#5 B-5>\n",
      "{74.0} <music21.chord.Chord B-2 G5>\n",
      "{74.25} <music21.chord.Chord C3 A5>\n",
      "{74.5} <music21.chord.Chord C3 C6>\n",
      "{74.75} <music21.chord.Chord C3 B-5>\n",
      "{75.0} <music21.chord.Chord C3 A5>\n",
      "{75.25} <music21.chord.Chord D3 F3 B-5>\n",
      "{75.5} <music21.chord.Chord D3 G5>\n",
      "{75.75} <music21.chord.Chord D3 A5>\n",
      "{76.0} <music21.chord.Chord D3 F#5 A5>\n",
      "{76.25} <music21.chord.Chord G2 B-4 D5 G5>\n",
      "{76.75} <music21.chord.Chord G3 B-4 D5 E-5 G5>\n",
      "{77.0} <music21.chord.Chord G3 B-4 D5 G5>\n",
      "{77.25} <music21.chord.Chord G3 B-5>\n",
      "{77.75} <music21.chord.Chord F3 C#5 B-5>\n",
      "{78.25} <music21.chord.Chord F3 C#5 G5 B-5>\n",
      "{78.5} <music21.chord.Chord F3 G4 C#5 B-5 C#6>\n",
      "{78.75} <music21.chord.Chord E3 C5 B-5>\n",
      "{79.25} <music21.chord.Chord E3 G3 C5 B-5>\n",
      "{79.5} <music21.chord.Chord E3 G3 C5 G#5>\n",
      "{79.75} <music21.chord.Chord E3 G3 C5 G5>\n",
      "{80.25} <music21.note.Note G>\n",
      "{80.5} <music21.note.Note F>\n",
      "{80.75} <music21.chord.Chord C3 E5>\n",
      "{81.25} <music21.chord.Chord G3 E5>\n",
      "{81.5} <music21.chord.Chord G3 C#4 B4 D5>\n",
      "{81.75} <music21.chord.Chord A2 E3 C5>\n",
      "{82.0} <music21.chord.Chord E3 C5>\n",
      "{82.25} <music21.chord.Chord B-3 C5>\n",
      "{82.5} <music21.chord.Chord B-3 E5>\n",
      "{82.75} <music21.chord.Chord G3 E5>\n",
      "{83.0} <music21.chord.Chord G3 G5>\n",
      "{83.25} <music21.chord.Chord E3 G5>\n",
      "{83.5} <music21.chord.Chord E3 B-5>\n",
      "{83.75} <music21.chord.Chord G3 C#4 B-5>\n",
      "{84.0} <music21.note.Note G>\n",
      "{84.25} <music21.chord.Chord E3 C6>\n",
      "{84.5} <music21.chord.Chord E3 B-5>\n",
      "{84.75} <music21.chord.Chord C3 E5 G#5>\n",
      "{85.0} <music21.chord.Chord C3 E3 F3 G5>\n",
      "{85.25} <music21.chord.Chord F3 C#5 G#5>\n",
      "{85.5} <music21.chord.Chord F3 B3 G5>\n",
      "{85.75} <music21.chord.Chord F3 F5>\n",
      "{86.25} <music21.note.Note F>\n",
      "{86.5} <music21.note.Note E->\n",
      "{86.75} <music21.chord.Chord F1 F2 D5>\n",
      "{87.0} <music21.chord.Chord F1 F2 F4 D5>\n",
      "{87.25} <music21.chord.Chord F3 D5>\n",
      "{87.5} <music21.chord.Chord F3 B-3 C5>\n",
      "{87.75} <music21.chord.Chord D3 B-4>\n",
      "{88.25} <music21.chord.Chord G#3 B-4>\n",
      "{88.5} <music21.chord.Chord G#3 D5>\n",
      "{88.75} <music21.chord.Chord F3 D5>\n",
      "{89.0} <music21.chord.Chord F3 F5>\n",
      "{89.25} <music21.chord.Chord A2 D3 F5>\n",
      "{89.5} <music21.chord.Chord D3 G#5>\n"
     ]
    }
   ],
   "source": [
    "test_stream.show('text')"
   ]
  },
  {
   "cell_type": "code",
   "execution_count": 53,
   "metadata": {},
   "outputs": [
    {
     "name": "stdout",
     "output_type": "stream",
     "text": [
      "{0.0} <music21.instrument.Piano 'Piano'>\n",
      "{0.0} <music21.chord.Chord B-2 G5>\n",
      "{0.25} <music21.chord.Chord C3 G#5>\n",
      "{0.5} <music21.chord.Chord C3 G5>\n",
      "{0.75} <music21.chord.Chord D3 F5>\n",
      "{1.0} <music21.chord.Chord D3 G#5>\n",
      "{1.25} <music21.chord.Chord E-3 G5>\n",
      "{1.5} <music21.chord.Chord E-3 B-5>\n",
      "{1.75} <music21.chord.Chord C3 G#5>\n",
      "{2.0} <music21.chord.Chord C3 C6>\n",
      "{2.25} <music21.chord.Chord G2 B-5>\n",
      "{2.5} <music21.chord.Chord G2 E-5>\n",
      "{2.75} <music21.chord.Chord G#2 D5>\n",
      "{3.0} <music21.chord.Chord G#2 E-5>\n",
      "{3.25} <music21.chord.Chord B-2 G#5>\n",
      "{3.5} <music21.chord.Chord B-2 G5>\n",
      "{3.75} <music21.chord.Chord B-1 F5>\n",
      "{4.0} <music21.chord.Chord B-1 E-5>\n",
      "{4.25} <music21.chord.Chord E-2 G4 B-4 E-5>\n",
      "{4.75} <music21.chord.Chord E-3 G4 B-4 E-5>\n",
      "{5.75} <music21.chord.Chord D3 G4 B-4 E-5>\n",
      "{6.75} <music21.chord.Chord C3 G4 B-4 E-5>\n",
      "{7.25} <music21.chord.Chord C3 E-5 G5 C6>\n",
      "{8.0} <music21.chord.Chord C3 E-5 G5>\n",
      "{8.25} <music21.chord.Chord C2 F5 D6>\n",
      "{8.75} <music21.chord.Chord C2 E-5 C6>\n",
      "{9.25} <music21.chord.Chord C2 D5 B5>\n",
      "{9.75} <music21.chord.Chord C2 E-5 C6>\n",
      "{10.25} <music21.chord.Chord C3 G#4 D5 F5>\n",
      "{11.0} <music21.chord.Chord G#4 D5 F5>\n",
      "{11.25} <music21.chord.Chord D3 G#4 D5 F5>\n",
      "{11.75} <music21.chord.Chord C3 G#4 D5 F5>\n",
      "{12.25} <music21.note.Note B>\n",
      "{12.75} <music21.note.Note C>\n",
      "{13.25} <music21.chord.Chord B2 G#4 D5 F5>\n",
      "{13.5} <music21.chord.Chord B2 G#5>\n",
      "{13.75} <music21.chord.Chord B2 G5>\n",
      "{14.0} <music21.chord.Chord B2 F5>\n",
      "{14.25} <music21.chord.Chord C2 B4 F5 D6>\n",
      "{14.75} <music21.chord.Chord C2 D6>\n",
      "{15.0} <music21.chord.Chord C2 C6>\n",
      "{15.25} <music21.chord.Chord C2 B5>\n",
      "{15.5} <music21.chord.Chord C2 G#5>\n",
      "{15.75} <music21.chord.Chord C2 G5>\n",
      "{16.0} <music21.chord.Chord C2 F5>\n",
      "{16.25} <music21.chord.Chord C3 E-5>\n",
      "{16.5} <music21.chord.Chord C3 D5>\n",
      "{16.75} <music21.chord.Chord C3 E-5>\n",
      "{17.0} <music21.chord.Chord C3 D5>\n",
      "{17.25} <music21.note.Note C>\n",
      "{17.5} <music21.note.Note G>\n",
      "{17.75} <music21.note.Note C>\n",
      "{18.0} <music21.note.Note D>\n",
      "{18.25} <music21.note.Note E->\n",
      "{18.5} <music21.note.Note F>\n",
      "{18.75} <music21.note.Note G>\n",
      "{19.0} <music21.note.Note G#>\n",
      "{19.25} <music21.chord.Chord C3 B-5>\n",
      "{19.5} <music21.chord.Chord C3 G5>\n",
      "{19.75} <music21.chord.Chord C3 B-4 E5>\n",
      "{20.25} <music21.chord.Chord C2 B-4 E5>\n",
      "{20.5} <music21.chord.Chord C2 C#5 E5>\n",
      "{20.75} <music21.chord.Chord C2 C5>\n",
      "{21.0} <music21.chord.Chord C2 B-4>\n",
      "{21.25} <music21.chord.Chord C2 C5>\n",
      "{21.5} <music21.chord.Chord C2 B-4>\n",
      "{21.75} <music21.chord.Chord C2 G#4>\n",
      "{22.0} <music21.chord.Chord C2 G4>\n",
      "{22.25} <music21.chord.Chord C3 G#4>\n",
      "{22.5} <music21.chord.Chord C3 E5>\n",
      "{22.75} <music21.chord.Chord C3 F5>\n",
      "{23.0} <music21.chord.Chord C3 B5>\n",
      "{23.25} <music21.chord.Chord C2 C6>\n",
      "{23.5} <music21.chord.Chord C2 G#4>\n",
      "{23.75} <music21.chord.Chord C2 G4>\n",
      "{24.0} <music21.chord.Chord C2 F4>\n",
      "{24.25} <music21.chord.Chord C2 G4>\n",
      "{24.5} <music21.chord.Chord C2 F5>\n",
      "{24.75} <music21.chord.Chord C2 E-5>\n",
      "{25.0} <music21.chord.Chord C2 B5>\n",
      "{25.25} <music21.chord.Chord C3 C6>\n",
      "{25.5} <music21.chord.Chord C3 G4>\n",
      "{25.75} <music21.chord.Chord C3 F#4>\n",
      "{26.0} <music21.chord.Chord C3 E4>\n",
      "{26.25} <music21.chord.Chord C2 F#4>\n",
      "{26.5} <music21.chord.Chord C2 A4>\n",
      "{26.75} <music21.chord.Chord C2 C5>\n",
      "{27.0} <music21.chord.Chord C2 E-5>\n",
      "{27.25} <music21.chord.Chord C2 D5>\n",
      "{27.5} <music21.chord.Chord C2 B4>\n",
      "{27.75} <music21.chord.Chord C2 C5>\n",
      "{28.0} <music21.chord.Chord C2 A5>\n",
      "{28.25} <music21.chord.Chord G2 F#4 A4 C5 E-5>\n",
      "{29.25} <music21.chord.Chord G3 G4 B4 D5>\n",
      "{29.75} <music21.chord.Chord F3 G4 B4 D5>\n",
      "{30.25} <music21.note.Note E->\n",
      "{30.75} <music21.note.Note D>\n",
      "{31.25} <music21.chord.Chord C3 E-5>\n",
      "{31.5} <music21.chord.Chord C3 F5>\n",
      "{31.75} <music21.note.Note G>\n",
      "{32.25} <music21.chord.Chord B-2 G5>\n",
      "{32.5} <music21.chord.Chord B-2 G#5>\n",
      "{32.75} <music21.note.Note B->\n",
      "{33.25} <music21.chord.Chord G#2 B-5>\n",
      "{33.5} <music21.chord.Chord G#2 C6>\n",
      "{33.75} <music21.note.Note C#>\n",
      "{34.25} <music21.chord.Chord G2 C#6>\n",
      "{34.5} <music21.chord.Chord G2 B-5>\n",
      "{35.0} <music21.chord.Chord G2 G5>\n",
      "{35.25} <music21.note.Note G>\n",
      "{35.5} <music21.note.Note E->\n",
      "{35.75} <music21.chord.Chord B-3 E-5>\n",
      "{36.0} <music21.chord.Chord B-3 C#5>\n",
      "{36.25} <music21.chord.Chord E-3 C#5>\n",
      "{36.5} <music21.chord.Chord E-3 C5>\n",
      "{36.75} <music21.chord.Chord G3 C#5>\n",
      "{37.0} <music21.chord.Chord G3 B-5>\n",
      "{37.25} <music21.chord.Chord G#3 C5>\n",
      "{37.5} <music21.chord.Chord G#3 C#5>\n",
      "{37.75} <music21.note.Note E->\n",
      "{38.25} <music21.chord.Chord G3 E-5>\n",
      "{38.5} <music21.chord.Chord G3 F5>\n",
      "{38.75} <music21.note.Note G>\n",
      "{39.25} <music21.chord.Chord F3 G5>\n",
      "{39.5} <music21.chord.Chord F3 G#5>\n",
      "{39.75} <music21.note.Note B->\n",
      "{40.25} <music21.chord.Chord E3 B-5>\n",
      "{40.5} <music21.chord.Chord E3 G5>\n",
      "{41.0} <music21.chord.Chord E3 E5>\n",
      "{41.25} <music21.note.Note E>\n",
      "{41.5} <music21.note.Note C>\n",
      "{41.75} <music21.chord.Chord G3 C5>\n",
      "{42.0} <music21.chord.Chord G3 B-4>\n",
      "{42.25} <music21.chord.Chord C3 B-4>\n",
      "{42.5} <music21.chord.Chord C3 G#4>\n",
      "{42.75} <music21.chord.Chord E3 B-4>\n",
      "{43.0} <music21.chord.Chord E3 G5>\n",
      "{43.25} <music21.chord.Chord F3 G#4>\n",
      "{43.5} <music21.chord.Chord F3 G4>\n",
      "{43.75} <music21.chord.Chord F3 F4>\n",
      "{44.0} <music21.chord.Chord F3 G4>\n",
      "{44.25} <music21.note.Note G#>\n",
      "{44.5} <music21.note.Note B->\n",
      "{44.75} <music21.chord.Chord F2 C5>\n",
      "{45.0} <music21.chord.Chord F2 D5>\n",
      "{45.25} <music21.chord.Chord G2 E-5>\n",
      "{45.5} <music21.chord.Chord G2 D5>\n",
      "{45.75} <music21.chord.Chord G#2 C5>\n",
      "{46.0} <music21.chord.Chord G#2 E-5>\n",
      "{46.25} <music21.chord.Chord B-2 D5>\n",
      "{46.5} <music21.chord.Chord B-2 C5>\n",
      "{46.75} <music21.chord.Chord B-2 B-4>\n",
      "{47.0} <music21.chord.Chord B-2 C5>\n",
      "{47.25} <music21.note.Note D>\n",
      "{47.5} <music21.note.Note E->\n",
      "{47.75} <music21.chord.Chord B-2 F5>\n",
      "{48.0} <music21.chord.Chord B-2 G5>\n",
      "{48.25} <music21.chord.Chord C3 G#5>\n",
      "{48.5} <music21.chord.Chord C3 G5>\n",
      "{48.75} <music21.chord.Chord D3 F5>\n",
      "{49.0} <music21.chord.Chord D3 G#5>\n",
      "{49.25} <music21.chord.Chord E-3 G5>\n",
      "{49.5} <music21.chord.Chord E-3 B-5>\n",
      "{49.75} <music21.chord.Chord C3 G#5>\n",
      "{50.0} <music21.chord.Chord C3 C6>\n",
      "{50.25} <music21.chord.Chord G2 B-5>\n",
      "{50.5} <music21.chord.Chord G2 E-5>\n",
      "{50.75} <music21.chord.Chord G#2 D5>\n",
      "{51.0} <music21.chord.Chord G#2 E-5>\n",
      "{51.25} <music21.chord.Chord B-2 G#5>\n",
      "{51.5} <music21.chord.Chord B-2 G5>\n",
      "{51.75} <music21.chord.Chord B-1 F5>\n",
      "{52.0} <music21.chord.Chord B-1 E-5>\n",
      "{52.25} <music21.chord.Chord E-2 G4 B-4 E-5>\n",
      "{53.75} <music21.chord.Chord E-2 G4 B-4 E-5>\n",
      "{55.25} <music21.chord.Chord E-3 B-4 E-5 G5>\n",
      "{56.0} <music21.chord.Chord E-3 B-4 E-5>\n",
      "{56.25} <music21.chord.Chord E-2 C5 G#5>\n",
      "{56.75} <music21.chord.Chord E-2 B-4 G5>\n",
      "{57.25} <music21.chord.Chord E-2 G#4 F5>\n",
      "{57.75} <music21.chord.Chord E-2 G4 E-5>\n",
      "{58.25} <music21.chord.Chord E-3 F4 C5 A5>\n",
      "{59.0} <music21.chord.Chord F4 C5 A5>\n",
      "{59.25} <music21.chord.Chord F3 F4 C5 A5>\n",
      "{59.75} <music21.chord.Chord E-3 F4 C5 A5>\n",
      "{60.25} <music21.chord.Chord D3 F4 C5 A5>\n",
      "{60.75} <music21.chord.Chord C3 F4 C5 A5>\n",
      "{61.25} <music21.chord.Chord D3 F3 B-4 F5 B-5>\n",
      "{62.0} <music21.chord.Chord D3 F3 B-4 F5>\n",
      "{62.25} <music21.chord.Chord E-3 G3 C6>\n",
      "{62.5} <music21.chord.Chord E-3 G3 B-5>\n",
      "{62.75} <music21.chord.Chord E-3 G3 A5>\n",
      "{63.0} <music21.chord.Chord E-3 G3 G5>\n",
      "{63.25} <music21.chord.Chord F3 A3 F5>\n",
      "{63.5} <music21.chord.Chord F3 A3 D5>\n",
      "{63.75} <music21.chord.Chord F3 A3 C5 E-5>\n",
      "{64.0} <music21.chord.Chord F3 A3 C5 C6>\n",
      "{64.25} <music21.chord.Chord B-2 F3 C5 E-5>\n",
      "{64.5} <music21.chord.Chord B-2 F3 C5 D5>\n",
      "{64.75} <music21.chord.Chord B-2 F3 C5 E-5>\n",
      "{65.0} <music21.chord.Chord B-2 F3 C5 F5>\n",
      "{65.25} <music21.chord.Chord B-2 B-4 D5>\n",
      "{65.75} <music21.chord.Chord D3 B-4 D5>\n",
      "{66.25} <music21.chord.Chord G2 B-5 D6>\n",
      "{66.75} <music21.chord.Chord B-2 B-5 D6>\n",
      "{67.25} <music21.chord.Chord E-2 B-5 D6>\n",
      "{67.75} <music21.chord.Chord E-2 A5 C6>\n",
      "{68.25} <music21.chord.Chord A5 C6>\n",
      "{68.75} <music21.chord.Chord G5 B-5>\n",
      "{69.75} <music21.chord.Chord C4 F#5 A5>\n",
      "{70.75} <music21.chord.Chord B-3 G5 B-5>\n",
      "{71.0} <music21.chord.Chord B-3 G5 C6>\n",
      "{71.25} <music21.chord.Chord A3 C5 E-5>\n",
      "{71.75} <music21.chord.Chord G3 C5 E-5>\n",
      "{72.25} <music21.chord.Chord F#3 C5 D5>\n",
      "{72.75} <music21.chord.Chord G3 C5 D5>\n",
      "{73.0} <music21.chord.Chord A3 C5 D5>\n",
      "{73.25} <music21.chord.Chord B-2 D5>\n",
      "{73.5} <music21.chord.Chord B-2 E5>\n",
      "{73.75} <music21.chord.Chord B-2 F#5>\n",
      "{74.0} <music21.chord.Chord B-2 G5>\n",
      "{74.25} <music21.chord.Chord C3 A5>\n",
      "{74.5} <music21.chord.Chord C3 C6>\n",
      "{74.75} <music21.chord.Chord C3 B-5>\n",
      "{75.0} <music21.chord.Chord C3 A5>\n",
      "{75.25} <music21.chord.Chord D3 B-5>\n",
      "{75.5} <music21.chord.Chord D3 G5>\n",
      "{75.75} <music21.chord.Chord D3 A5>\n",
      "{76.0} <music21.chord.Chord D3 F#5>\n",
      "{76.25} <music21.chord.Chord G2 B-4 D5 G5>\n",
      "{76.75} <music21.chord.Chord G3 B-4 D5 G5>\n",
      "{77.25} <music21.chord.Chord G3 B-5>\n",
      "{77.75} <music21.chord.Chord F3 C#5 B-5>\n",
      "{78.75} <music21.chord.Chord E3 C5 B-5>\n",
      "{79.25} <music21.chord.Chord E3 G3 C5 B-5>\n",
      "{79.5} <music21.chord.Chord E3 G3 C5 G#5>\n",
      "{79.75} <music21.chord.Chord E3 G3 C5 G5>\n",
      "{80.25} <music21.note.Note G>\n",
      "{80.5} <music21.note.Note F>\n",
      "{80.75} <music21.chord.Chord C3 E5>\n",
      "{81.25} <music21.chord.Chord G3 E5>\n",
      "{81.5} <music21.chord.Chord G3 D5>\n",
      "{81.75} <music21.chord.Chord E3 C5>\n",
      "{82.25} <music21.chord.Chord B-3 C5>\n",
      "{82.5} <music21.chord.Chord B-3 E5>\n",
      "{82.75} <music21.chord.Chord G3 E5>\n",
      "{83.0} <music21.chord.Chord G3 G5>\n",
      "{83.25} <music21.chord.Chord E3 G5>\n",
      "{83.5} <music21.chord.Chord E3 B-5>\n",
      "{83.75} <music21.chord.Chord G3 B-5>\n",
      "{84.0} <music21.chord.Chord G3 C#6>\n",
      "{84.25} <music21.chord.Chord E3 C6>\n",
      "{84.5} <music21.chord.Chord E3 B-5>\n",
      "{84.75} <music21.chord.Chord C3 G#5>\n",
      "{85.0} <music21.chord.Chord C3 G5>\n",
      "{85.25} <music21.chord.Chord F3 G#5>\n",
      "{85.5} <music21.chord.Chord F3 G5>\n",
      "{85.75} <music21.chord.Chord F3 F5>\n",
      "{86.25} <music21.note.Note F>\n",
      "{86.5} <music21.note.Note E->\n",
      "{86.75} <music21.chord.Chord F2 D5>\n",
      "{87.25} <music21.chord.Chord F3 D5>\n",
      "{87.5} <music21.chord.Chord F3 C5>\n",
      "{87.75} <music21.chord.Chord D3 B-4>\n",
      "{88.25} <music21.chord.Chord G#3 B-4>\n",
      "{88.5} <music21.chord.Chord G#3 D5>\n",
      "{88.75} <music21.chord.Chord F3 D5>\n",
      "{89.0} <music21.chord.Chord F3 F5>\n",
      "{89.25} <music21.chord.Chord D3 F5>\n",
      "{89.5} <music21.chord.Chord D3 G#5>\n"
     ]
    }
   ],
   "source": [
    "stream1.show('text')"
   ]
  },
  {
   "cell_type": "code",
   "execution_count": null,
   "metadata": {},
   "outputs": [],
   "source": []
  },
  {
   "cell_type": "code",
   "execution_count": null,
   "metadata": {},
   "outputs": [],
   "source": []
  }
 ],
 "metadata": {
  "kernelspec": {
   "display_name": "Python 3",
   "language": "python",
   "name": "python3"
  },
  "language_info": {
   "codemirror_mode": {
    "name": "ipython",
    "version": 3
   },
   "file_extension": ".py",
   "mimetype": "text/x-python",
   "name": "python",
   "nbconvert_exporter": "python",
   "pygments_lexer": "ipython3",
   "version": "3.7.9"
  }
 },
 "nbformat": 4,
 "nbformat_minor": 4
}
